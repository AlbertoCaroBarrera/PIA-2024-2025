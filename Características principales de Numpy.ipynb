{
 "cells": [
  {
   "cell_type": "markdown",
   "id": "f9f07714",
   "metadata": {},
   "source": [
    "NumPy es una de las bibliotecas fundamentales para el cálculo numérico en Python, utilizada extensamente en campos como la ciencia de datos, el aprendizaje automático y el análisis numérico. Es especialmente poderosa debido a su capacidad para manejar y operar eficientemente con arrays multidimensionales (o matrices) y realizar cálculos vectorizados.\n",
    "\n",
    "Sus principales características son las siguientes:"
   ]
  },
  {
   "cell_type": "markdown",
   "id": "bb837ae5",
   "metadata": {},
   "source": [
    "## 1. Arrays N-Dimensionales (ndarray)\n",
    "\n",
    "El `ndarray` (N-Dimensional Array) es el objeto central de NumPy. Estos arrays permiten almacenar múltiples elementos del mismo tipo de manera eficiente y permiten realizar cálculos de forma muy rápida.\n",
    "\n",
    "### Propiedades importantes de `ndarray`:\n",
    "- **Forma (`shape`)**: Dimensiones del array, como `(m, n)` para un array de 2D.\n",
    "- **Dimensiones (`ndim`)**: Número de dimensiones o ejes que tiene el array.\n",
    "- **Tipo de datos (`dtype`)**: Todos los elementos del array son del mismo tipo, como `int32`, `float64`, etc.\n",
    "- **Tamaño (`size`)**: Número total de elementos en el array."
   ]
  },
  {
   "cell_type": "code",
   "execution_count": 29,
   "id": "58c59ed9",
   "metadata": {},
   "outputs": [
    {
     "name": "stdout",
     "output_type": "stream",
     "text": [
      "[1 2 3]\n",
      "1\n",
      "(3,)\n",
      "int64\n"
     ]
    }
   ],
   "source": [
    "# Ejemplo básico de creación de un array\n",
    "import numpy as np\n",
    "\n",
    "a = np.array([1, 2, 3])\n",
    "print(a)  # [1 2 3]\n",
    "print(a.ndim)  # 1 (unidimensional)\n",
    "print(a.shape)  # (3,) (tres elementos en una dimensión)\n",
    "print(a.dtype)  # int64 (según el sistema)"
   ]
  },
  {
   "cell_type": "code",
   "execution_count": 3,
   "id": "ad099d50",
   "metadata": {},
   "outputs": [
    {
     "data": {
      "text/plain": [
       "array([1, 2, 3])"
      ]
     },
     "execution_count": 3,
     "metadata": {},
     "output_type": "execute_result"
    }
   ],
   "source": [
    "a[0:]"
   ]
  },
  {
   "cell_type": "markdown",
   "id": "41ca6c46",
   "metadata": {},
   "source": [
    "Muestra de su eficiencia"
   ]
  },
  {
   "cell_type": "code",
   "execution_count": 4,
   "id": "4ac93756",
   "metadata": {},
   "outputs": [
    {
     "name": "stdout",
     "output_type": "stream",
     "text": [
      "Resultado = 2499423.5030155224\n",
      "Tiempo = 1.770008408000649 s\n"
     ]
    }
   ],
   "source": [
    "import numpy as np\n",
    "from time import perf_counter\n",
    " \n",
    "np.random.seed(5)\n",
    " \n",
    "array_size = 10000000\n",
    "array1 = np.random.rand(1,array_size)\n",
    "array2 = np.random.rand(1,array_size)\n",
    "\n",
    "t1 = perf_counter()\n",
    "resultado = 0\n",
    "for i in range(array1.shape[1]):\n",
    "    resultado +=array1[0,i]*array2[0,i]\n",
    "t2 = perf_counter()\n",
    "print(\"Resultado = \" + str(resultado))\n",
    "print(\"Tiempo = \" + str(t2 - t1) + \" s\")"
   ]
  },
  {
   "cell_type": "code",
   "execution_count": 5,
   "id": "40e864c2",
   "metadata": {},
   "outputs": [
    {
     "name": "stdout",
     "output_type": "stream",
     "text": [
      "Resultado = 2499423.503015544\n",
      "Tiempo = 0.024064107001322554 s\n"
     ]
    }
   ],
   "source": [
    "t1 = perf_counter()\n",
    "resultado = np.dot(array1,array2.T)\n",
    "t2 = perf_counter()\n",
    "print(\"Resultado = \" + str(resultado[0][0]))\n",
    "print(\"Tiempo = \" + str(t2 - t1) + \" s\")"
   ]
  },
  {
   "cell_type": "markdown",
   "id": "5d16c77b",
   "metadata": {},
   "source": [
    "## 2. Vectorización\n",
    "\n",
    "Uno de los principios más poderosos de NumPy es la vectorización, que permite realizar operaciones matemáticas sobre arrays sin necesidad de bucles explícitos. Esto acelera las operaciones."
   ]
  },
  {
   "cell_type": "code",
   "execution_count": 6,
   "id": "d1e6ab1b",
   "metadata": {},
   "outputs": [
    {
     "name": "stdout",
     "output_type": "stream",
     "text": [
      "[2, 4, 6, 8]\n",
      "[2 4 6 8]\n"
     ]
    }
   ],
   "source": [
    "# Ejemplo de vectorización:\n",
    "# Sin vectorización (listas de Python):\n",
    "lista = [1, 2, 3, 4]\n",
    "lista_doblada = [x * 2 for x in lista]\n",
    "print(lista_doblada)\n",
    "\n",
    "# Con vectorización (NumPy):\n",
    "array = np.array([1, 2, 3, 4])\n",
    "array_doblado = array * 2\n",
    "print(array_doblado)  # [2 4 6 8]"
   ]
  },
  {
   "cell_type": "markdown",
   "id": "3283c7ea",
   "metadata": {},
   "source": [
    "NumPy entiende que la multiplicación debe ocurrir en cada celda. Ese concepto se llama broadcasting. El broadcasting es un mecanismo que permite a NumPy realizar operaciones en arrays de diferentes formas. Las dimensiones de tu array deben ser compatibles, por ejemplo, cuando las dimensiones de ambos arrays son iguales o cuando una de ellas es 1. Si las dimensiones no son compatibles, obtendrás un ValueError."
   ]
  },
  {
   "cell_type": "markdown",
   "id": "02a45a00",
   "metadata": {},
   "source": [
    "## 3. Cálculo eficiente y álgebra lineal\n",
    "NumPy está optimizado para realizar operaciones matemáticas rápidamente. Esto incluye operaciones de álgebra lineal como multiplicación de matrices, transposición, determinantes, etc."
   ]
  },
  {
   "cell_type": "code",
   "execution_count": 7,
   "id": "fc5f36c9",
   "metadata": {},
   "outputs": [
    {
     "name": "stdout",
     "output_type": "stream",
     "text": [
      "[[19 22]\n",
      " [43 50]]\n"
     ]
    }
   ],
   "source": [
    "# Ejemplo de álgebra lineal\n",
    "A = np.array([[1, 2], [3, 4]])\n",
    "B = np.array([[5, 6], [7, 8]])\n",
    "\n",
    "producto = np.dot(A, B)\n",
    "print(producto)  # Multiplicación de matrices"
   ]
  },
  {
   "cell_type": "markdown",
   "id": "2c16a747",
   "metadata": {},
   "source": [
    "## 4. Manejo eficiente de memoria\n",
    "Los arrays de NumPy son más eficientes en memoria que las listas de Python porque:\n",
    "\n",
    "- Son homogéneos: todos los elementos del array son del mismo tipo.\n",
    "- Los arrays están almacenados en bloques de memoria contiguos, lo que permite un acceso más rápido.\n",
    "\n",
    "https://numpy.org/devdocs/user/basics.types.html"
   ]
  },
  {
   "cell_type": "markdown",
   "id": "3cfec852",
   "metadata": {},
   "source": [
    "## 6. Slicing e indexación avanzada\n",
    "NumPy ofrece herramientas poderosas para acceder y modificar subconjuntos de datos dentro de arrays mediante técnicas avanzadas de slicing y indexación booleana."
   ]
  },
  {
   "cell_type": "markdown",
   "id": "f422ccda",
   "metadata": {},
   "source": [
    "**Slicing en un array 1D**"
   ]
  },
  {
   "cell_type": "code",
   "execution_count": 8,
   "id": "a264c492",
   "metadata": {},
   "outputs": [],
   "source": [
    "arr = np.array([10, 20, 30, 40, 50, 60, 70, 80, 90])"
   ]
  },
  {
   "cell_type": "code",
   "execution_count": 9,
   "id": "b9af2b72",
   "metadata": {},
   "outputs": [
    {
     "name": "stdout",
     "output_type": "stream",
     "text": [
      "[30 40 50 60]\n"
     ]
    }
   ],
   "source": [
    "# Acceder a los elementos desde el índice 2 al 5:\n",
    "print(arr[2:6])"
   ]
  },
  {
   "cell_type": "code",
   "execution_count": 10,
   "id": "e9c14b60",
   "metadata": {},
   "outputs": [
    {
     "name": "stdout",
     "output_type": "stream",
     "text": [
      "[10 30 50 70 90]\n"
     ]
    }
   ],
   "source": [
    "# Obtener cada segundo elemento:\n",
    "print(arr[::2])"
   ]
  },
  {
   "cell_type": "code",
   "execution_count": 11,
   "id": "df027ae1",
   "metadata": {},
   "outputs": [
    {
     "name": "stdout",
     "output_type": "stream",
     "text": [
      "[70 80 90]\n"
     ]
    }
   ],
   "source": [
    "#Acceder a los últimos tres elementos:\n",
    "print(arr[-3:])"
   ]
  },
  {
   "cell_type": "markdown",
   "id": "da6a2c4a",
   "metadata": {},
   "source": [
    "**Slicing en un array 2D**"
   ]
  },
  {
   "cell_type": "code",
   "execution_count": 12,
   "id": "3181a65c",
   "metadata": {},
   "outputs": [],
   "source": [
    "arr_2d = np.array([[1, 2, 3], \n",
    "                   [4, 5, 6], \n",
    "                   [7, 8, 9], \n",
    "                   [10, 11, 12]])"
   ]
  },
  {
   "cell_type": "code",
   "execution_count": 31,
   "id": "5ac46f55",
   "metadata": {},
   "outputs": [
    {
     "name": "stdout",
     "output_type": "stream",
     "text": [
      "[1 2 3]\n"
     ]
    }
   ],
   "source": [
    "# Acceder a la primera fila:\n",
    "print(arr_2d[0, :])"
   ]
  },
  {
   "cell_type": "code",
   "execution_count": 14,
   "id": "be44fa29",
   "metadata": {},
   "outputs": [
    {
     "name": "stdout",
     "output_type": "stream",
     "text": [
      "[ 2  5  8 11]\n"
     ]
    }
   ],
   "source": [
    "# Acceder a la segunda columna:\n",
    "print(arr_2d[:, 1])"
   ]
  },
  {
   "cell_type": "code",
   "execution_count": 15,
   "id": "a23f8971",
   "metadata": {},
   "outputs": [
    {
     "name": "stdout",
     "output_type": "stream",
     "text": [
      "[[1 2]\n",
      " [4 5]]\n"
     ]
    }
   ],
   "source": [
    "# Acceder a un bloque específico (subarray):\n",
    "# Los elementos de las primeras dos filas y las dos primeras columnas:\n",
    "print(arr_2d[:2, :2])"
   ]
  },
  {
   "cell_type": "code",
   "execution_count": 16,
   "id": "d04f1732",
   "metadata": {},
   "outputs": [
    {
     "name": "stdout",
     "output_type": "stream",
     "text": [
      "[[12 11 10]\n",
      " [ 9  8  7]\n",
      " [ 6  5  4]\n",
      " [ 3  2  1]]\n"
     ]
    }
   ],
   "source": [
    "#Revertir filas y columnas:\n",
    "print(arr_2d[::-1, ::-1])"
   ]
  },
  {
   "cell_type": "markdown",
   "id": "45a77b1f",
   "metadata": {},
   "source": [
    "**Slicing en un array 3D**"
   ]
  },
  {
   "cell_type": "code",
   "execution_count": 17,
   "id": "6bdfa6fd",
   "metadata": {},
   "outputs": [],
   "source": [
    "arr_3d = np.array([[[1, 2], [3, 4]], \n",
    "                   [[5, 6], [7, 8]], \n",
    "                   [[9, 10], [11, 12]]])"
   ]
  },
  {
   "cell_type": "code",
   "execution_count": 18,
   "id": "c362f8a9",
   "metadata": {},
   "outputs": [
    {
     "name": "stdout",
     "output_type": "stream",
     "text": [
      "[[1 2]\n",
      " [3 4]]\n"
     ]
    }
   ],
   "source": [
    "# Acceder a la primera matriz bidimensional:\n",
    "print(arr_3d[0, :, :])"
   ]
  },
  {
   "cell_type": "code",
   "execution_count": 19,
   "id": "782d3b4c",
   "metadata": {},
   "outputs": [
    {
     "name": "stdout",
     "output_type": "stream",
     "text": [
      "11\n"
     ]
    }
   ],
   "source": [
    "# Acceder al elemento en la posición [2, 1, 0]:\n",
    "print(arr_3d[2, 1, 0])"
   ]
  },
  {
   "cell_type": "code",
   "execution_count": 20,
   "id": "9022bee4",
   "metadata": {},
   "outputs": [
    {
     "name": "stdout",
     "output_type": "stream",
     "text": [
      "[[5 6]\n",
      " [7 8]]\n"
     ]
    }
   ],
   "source": [
    "# Acceder a los elementos del segundo \"plano\" (segunda matriz bidimensional):\n",
    "print(arr_3d[1, :, :])"
   ]
  },
  {
   "cell_type": "markdown",
   "id": "0cb0ae65",
   "metadata": {},
   "source": [
    "## 7. Compatibilidad con otras bibliotecas científicas\n",
    "NumPy es la base para muchas otras bibliotecas científicas en Python, como Pandas (análisis de datos), SciPy (cálculos científicos), Matplotlib (visualización), y TensorFlow o PyTorch (aprendizaje automático)."
   ]
  },
  {
   "cell_type": "markdown",
   "id": "a8184db4",
   "metadata": {},
   "source": [
    "## 8. Operaciones universales (ufuncs)\n",
    "Las ufuncs o funciones universales son funciones vectorizadas que aplican una operación a cada elemento de un array de manera eficiente."
   ]
  },
  {
   "cell_type": "code",
   "execution_count": 21,
   "id": "7b773f37",
   "metadata": {},
   "outputs": [
    {
     "name": "stdout",
     "output_type": "stream",
     "text": [
      "[1.         1.41421356 1.73205081 2.        ]\n"
     ]
    }
   ],
   "source": [
    "# Ejemplo de ufunc (función universal)\n",
    "a = np.array([1, 2, 3, 4])\n",
    "resultado = np.sqrt(a)\n",
    "print(resultado)  # Raíz cuadrada de cada elemento"
   ]
  },
  {
   "cell_type": "markdown",
   "id": "5915567d",
   "metadata": {},
   "source": [
    "## 9. Operaciones estadísticas y agregación\n",
    "NumPy también ofrece una serie de funciones para realizar operaciones estadísticas y de agregación, como suma, promedio, varianza, entre otros."
   ]
  },
  {
   "cell_type": "code",
   "execution_count": 22,
   "id": "378e4a77",
   "metadata": {},
   "outputs": [
    {
     "name": "stdout",
     "output_type": "stream",
     "text": [
      "Sumatorio de todos los elementos: 15\n",
      "Media:  3.0\n",
      "Mediana  3.0\n",
      "Varianza:  2.0\n",
      "Desviación típica:  1.4142135623730951\n",
      "Máximo:  5\n",
      "Percentil 90:  4.6\n"
     ]
    }
   ],
   "source": [
    "# Suma: np.sum()\n",
    "# Calcula la suma de todos los elementos en un array o a lo largo de un eje específico.\n",
    "arr = np.array([1, 2, 3, 4, 5])\n",
    "print(\"Sumatorio de todos los elementos:\",np.sum(arr))  # Suma de todos los elementos\n",
    "# Promedio: np.mean()\n",
    "# Calcula el promedio de los elementos en el array.\n",
    "arr = np.array([1, 2, 3, 4, 5])\n",
    "print(\"Media: \",np.mean(arr))  # Promedio de los elementos\n",
    "# Mediana: np.median()\n",
    "# Calcula la mediana de los elementos en el array.\n",
    "arr = np.array([1, 2, 3, 4, 5])\n",
    "print(\"Mediana \",np.median(arr))  # Mediana de los elementos\n",
    "# Varianza: np.var()\n",
    "# Calcula la varianza de los elementos, que mide la dispersión de los datos.txt\n",
    "arr = np.array([1, 2, 3, 4, 5])\n",
    "print(\"Varianza: \",np.var(arr))  # Varianza\n",
    "# Desviación estándar: np.std()\n",
    "# Calcula la desviación estándar, que mide cómo se dispersan los datos respecto al promedio.\n",
    "arr = np.array([1, 2, 3, 4, 5])\n",
    "print(\"Desviación típica: \",np.std(arr))  # Desviación estándar\n",
    "# Máximo: np.max()\n",
    "# Encuentra el valor máximo del array.\n",
    "arr = np.array([1, 2, 3, 4, 5])\n",
    "print(\"Máximo: \",np.max(arr))  # Máximo\n",
    "# Percentil: np.percentile()\n",
    "# Encuentra el valor en el percentil dado de los datos.\n",
    "arr = np.array([1, 2, 3, 4, 5])\n",
    "print(\"Percentil 90: \",np.percentile(arr, 90))  # Percentil 90\n",
    "# ..."
   ]
  },
  {
   "cell_type": "markdown",
   "id": "357df4c6",
   "metadata": {},
   "source": [
    "## 10. Vista y Copia de arrays\n",
    "En NumPy, es importante entender la diferencia entre una vista y una copia de un array.\n",
    "\n",
    "- **Vista (view)**: Un nuevo array que comparte los mismos datos que el array original. Modificar la vista afecta al array original, y viceversa.\n",
    "\n",
    "- **Copia (copy)**: Un nuevo array que contiene una copia completa de los datos del array original. Modificar la copia no afecta al array original."
   ]
  },
  {
   "cell_type": "code",
   "execution_count": 23,
   "id": "59ba046d",
   "metadata": {},
   "outputs": [
    {
     "name": "stdout",
     "output_type": "stream",
     "text": [
      "Vista antes de modificar: [2 3 4]\n",
      "Array original modificado por la vista: [  1 100   3   4   5]\n",
      "Copia antes de modificar: [  1 100   3   4   5]\n",
      "Copia modificada: [999 100   3   4   5]\n",
      "Array original después de modificar la copia: [  1 100   3   4   5]\n"
     ]
    }
   ],
   "source": [
    "# Ejemplo de vista\n",
    "a = np.array([1, 2, 3, 4, 5])\n",
    "vista = a[1:4]  # Seleccionamos un subconjunto como vista\n",
    "print(\"Vista antes de modificar:\", vista)\n",
    "\n",
    "# Modificar la vista afecta al array original\n",
    "vista[0] = 100\n",
    "print(\"Array original modificado por la vista:\", a)\n",
    "\n",
    "# Ejemplo de copia\n",
    "copia = a.copy()  # Crear una copia\n",
    "print(\"Copia antes de modificar:\", copia)\n",
    "\n",
    "# Modificar la copia NO afecta al array original\n",
    "copia[0] = 999\n",
    "print(\"Copia modificada:\", copia)\n",
    "print(\"Array original después de modificar la copia:\", a)\n"
   ]
  },
  {
   "cell_type": "markdown",
   "id": "9aa47bc7",
   "metadata": {},
   "source": [
    "# Ejemplo de uso de NumPy para un problema real de análisis de datos"
   ]
  },
  {
   "cell_type": "markdown",
   "id": "b1b575cc",
   "metadata": {},
   "source": [
    "Supongamos que tenemos que analizar los datos de una encuesta donde los clientes califican su satisfacción con un servicio de 1 a 5 (1 = Muy insatisfecho, 5 = Muy satisfecho) utilizando NumPy. Para ello cargaremos los datos, limpiaremos algunos valores atípicos, calcularemos estadísticas básicas, como el promedio, la mediana y la desviación estándar, y representaremos los resultados"
   ]
  },
  {
   "cell_type": "markdown",
   "id": "01e98c2e",
   "metadata": {},
   "source": [
    "#### Carga de datos"
   ]
  },
  {
   "cell_type": "code",
   "execution_count": 24,
   "id": "4d3093ad",
   "metadata": {},
   "outputs": [],
   "source": [
    "import numpy as np\n",
    "\n",
    "# Datos de la encuesta de satisfacción (valores entre 1 y 5)\n",
    "data = np.array([5, 4, 3, 5, 2, 5, 1, 3, 5, 2, 4, 3, 5, 1, 4, 3, 2, 5, 4, 5, 3, 2, 4, 5, 1])"
   ]
  },
  {
   "cell_type": "markdown",
   "id": "67e88666",
   "metadata": {},
   "source": [
    "#### Detección y eleminación de valores atípicos"
   ]
  },
  {
   "cell_type": "code",
   "execution_count": 25,
   "id": "937f3b9f",
   "metadata": {},
   "outputs": [
    {
     "name": "stdout",
     "output_type": "stream",
     "text": [
      "Promedio de satisfacción: 3.44\n",
      "Desviación estándar: 1.3879481258317978\n",
      "Valores atípicos: []\n",
      "Datos después de eliminar outliers: [5 4 3 5 2 5 1 3 5 2 4 3 5 1 4 3 2 5 4 5 3 2 4 5 1]\n"
     ]
    }
   ],
   "source": [
    "# Primero calculamos la media y la desviación típica para usarla detectar los valores atípicos\n",
    "\n",
    "# Promedio de satisfacción\n",
    "mean = np.mean(data)\n",
    "print(f\"Promedio de satisfacción: {mean}\")\n",
    "\n",
    "# Desviación estándar\n",
    "std_dev = np.std(data)\n",
    "print(f\"Desviación estándar: {std_dev}\")\n",
    "\n",
    "\n",
    "# Definimos el umbral para detectar outliers (valores atípicos)\n",
    "threshold_low = mean - 2 * std_dev\n",
    "threshold_high = mean + 2 * std_dev\n",
    "\n",
    "# Identificamos los valores atípicos\n",
    "outliers = data[(data < threshold_low) | (data > threshold_high)]\n",
    "print(f\"Valores atípicos: {outliers}\")\n",
    "\n",
    "# Eliminamos los valores atípicos de los datos\n",
    "data_cleaned = data[(data >= threshold_low) & (data <= threshold_high)]\n",
    "print(f\"Datos después de eliminar outliers: {data_cleaned}\")"
   ]
  },
  {
   "cell_type": "markdown",
   "id": "5283428e",
   "metadata": {},
   "source": [
    "#### Calculo de las estadísticas básicas con los datos limpios"
   ]
  },
  {
   "cell_type": "code",
   "execution_count": 26,
   "id": "2cc7ae8a",
   "metadata": {},
   "outputs": [
    {
     "name": "stdout",
     "output_type": "stream",
     "text": [
      "Promedio de satisfacción (limpio): 3.44\n",
      "Mediana de satisfacción (limpio): 4.0\n",
      "Desviación estándar (limpio): 1.3879481258317978\n"
     ]
    }
   ],
   "source": [
    "# Promedio de satisfacción después de limpiar los datos\n",
    "mean_cleaned = np.mean(data_cleaned)\n",
    "print(f\"Promedio de satisfacción (limpio): {mean_cleaned}\")\n",
    "\n",
    "# Mediana de satisfacción después de limpiar los datos\n",
    "median_cleaned = np.median(data_cleaned)\n",
    "print(f\"Mediana de satisfacción (limpio): {median_cleaned}\")\n",
    "\n",
    "# Desviación estándar después de limpiar los datos\n",
    "std_dev_cleaned = np.std(data_cleaned)\n",
    "print(f\"Desviación estándar (limpio): {std_dev_cleaned}\")"
   ]
  },
  {
   "cell_type": "markdown",
   "id": "6c901704",
   "metadata": {},
   "source": [
    "#### Representación gráfica de los datos"
   ]
  },
  {
   "cell_type": "code",
   "execution_count": 27,
   "id": "ab5168c4",
   "metadata": {},
   "outputs": [
    {
     "data": {
      "image/png": "[encoded data removed]",
      "text/plain": [
       "<Figure size 640x480 with 1 Axes>"
      ]
     },
     "metadata": {},
     "output_type": "display_data"
    }
   ],
   "source": [
    "import matplotlib.pyplot as plt\n",
    "\n",
    "# Histograma de la satisfacción del cliente\n",
    "plt.hist(data_cleaned, bins=np.arange(1, 7) - 0.5, edgecolor='black')\n",
    "plt.title('Distribución de satisfacción del cliente')\n",
    "plt.xlabel('Calificación')\n",
    "plt.ylabel('Frecuencia')\n",
    "plt.xticks([1, 2, 3, 4, 5])\n",
    "plt.show()"
   ]
  }
 ],
 "metadata": {
  "kernelspec": {
   "display_name": "base",
   "language": "python",
   "name": "python3"
  },
  "language_info": {
   "codemirror_mode": {
    "name": "ipython",
    "version": 3
   },
   "file_extension": ".py",
   "mimetype": "text/x-python",
   "name": "python",
   "nbconvert_exporter": "python",
   "pygments_lexer": "ipython3",
   "version": "3.12.4"
  }
 },
 "nbformat": 4,
 "nbformat_minor": 5
}
