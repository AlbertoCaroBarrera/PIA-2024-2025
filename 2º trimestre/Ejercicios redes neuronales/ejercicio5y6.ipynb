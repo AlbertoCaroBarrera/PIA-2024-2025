{
 "cells": [
  {
   "cell_type": "code",
   "execution_count": 2,
   "metadata": {},
   "outputs": [],
   "source": [
    "from sklearn.datasets import load_breast_cancer\n",
    " \n",
    "breast_cancer=load_breast_cancer()\n",
    " \n",
    "x=breast_cancer.data\n",
    "y=breast_cancer.target"
   ]
  },
  {
   "cell_type": "code",
   "execution_count": 3,
   "metadata": {},
   "outputs": [
    {
     "name": "stdout",
     "output_type": "stream",
     "text": [
      "[  19.21       18.57      125.5      1152.          0.1053      0.1267\n",
      "    0.1323      0.08994     0.1917      0.05961     0.7275      1.193\n",
      "    4.837     102.5         0.006458    0.02306     0.02945     0.01538\n",
      "    0.01852     0.002608   26.14       28.14      170.1      2145.\n",
      "    0.1624      0.3511      0.3879      0.2091      0.3537      0.08294 ] 0\n"
     ]
    }
   ],
   "source": [
    "import numpy as np\n",
    "#Para que los datos no se muestren con notación científica\n",
    "np.set_printoptions(suppress=True) \n",
    " \n",
    "print(x[56],y[56])"
   ]
  },
  {
   "cell_type": "code",
   "execution_count": 5,
   "metadata": {},
   "outputs": [
    {
     "name": "stdout",
     "output_type": "stream",
     "text": [
      "x, [ 12.47      18.6       81.09     481.9        0.09965    0.1058\n",
      "   0.08005    0.03821    0.1925     0.06373    0.3961     1.044\n",
      "   2.497     30.29       0.006953   0.01911    0.02701    0.01037\n",
      "   0.01782    0.003586  14.97      24.64      96.05     677.9\n",
      "   0.1426     0.2378     0.2671     0.1015     0.3014     0.0875  ]\n",
      "y, 1\n"
     ]
    }
   ],
   "source": [
    "#Ahora muestra los valores de la x y la y para la fila 204. \n",
    "print(f\"x, {x[204]}\") \n",
    "      \n",
    "print(f\"y, {y[204]}\")"
   ]
  },
  {
   "cell_type": "code",
   "execution_count": 7,
   "metadata": {},
   "outputs": [
    {
     "ename": "ModuleNotFoundError",
     "evalue": "No module named 'tensorflow'",
     "output_type": "error",
     "traceback": [
      "\u001b[0;31m---------------------------------------------------------------------------\u001b[0m",
      "\u001b[0;31mModuleNotFoundError\u001b[0m                       Traceback (most recent call last)",
      "Cell \u001b[0;32mIn[7], line 2\u001b[0m\n\u001b[1;32m      1\u001b[0m \u001b[38;5;28;01mimport\u001b[39;00m \u001b[38;5;21;01mpandas\u001b[39;00m \u001b[38;5;28;01mas\u001b[39;00m \u001b[38;5;21;01mpd\u001b[39;00m\n\u001b[0;32m----> 2\u001b[0m \u001b[38;5;28;01mimport\u001b[39;00m \u001b[38;5;21;01mtensorflow\u001b[39;00m \u001b[38;5;28;01mas\u001b[39;00m \u001b[38;5;21;01mtf\u001b[39;00m\n\u001b[1;32m      3\u001b[0m \u001b[38;5;28;01mimport\u001b[39;00m \u001b[38;5;21;01mmatplotlib\u001b[39;00m\u001b[38;5;21;01m.\u001b[39;00m\u001b[38;5;21;01mpyplot\u001b[39;00m \u001b[38;5;28;01mas\u001b[39;00m \u001b[38;5;21;01mplt\u001b[39;00m\n\u001b[1;32m      4\u001b[0m \u001b[38;5;28;01mfrom\u001b[39;00m \u001b[38;5;21;01mkeras\u001b[39;00m\u001b[38;5;21;01m.\u001b[39;00m\u001b[38;5;21;01mmodels\u001b[39;00m \u001b[38;5;28;01mimport\u001b[39;00m Sequential\n",
      "\u001b[0;31mModuleNotFoundError\u001b[0m: No module named 'tensorflow'"
     ]
    }
   ],
   "source": [
    "import pandas as pd\n",
    "import tensorflow as tf\n",
    "import matplotlib.pyplot as plt\n",
    "from keras.models import Sequential\n",
    "from keras.layers import Dense\n",
    "from sklearn.datasets import load_iris\n",
    "from matplotlib.colors import LightSource\n",
    "import random\n",
    "\n",
    "np.random.seed(5)\n",
    "tf.random.set_seed(5)\n",
    "random.seed(5)\n",
    "\n",
    "model=Sequential()\n",
    "model.add(Dense(30, activation='relu',input_dim=30))\n",
    "model.add(Dense(60, activation='relu'))\n",
    "model.add(Dense(100, activation='relu'))\n",
    "model.add(Dense(60, activation='relu'))\n",
    "model.add(Dense(30, activation='relu'))\n",
    "model.add(Dense(10, activation='relu'))\n",
    "model.add(Dense(1, activation='sigmoid'))\n",
    "\n",
    "# Compilar el modelo\n",
    "model.compile(loss='binary_crossentropy')\n",
    "model.fit(x, y,epochs=40)"
   ]
  },
  {
   "cell_type": "code",
   "execution_count": null,
   "metadata": {},
   "outputs": [],
   "source": [
    "# Obtener los resultados de la red neuronal para las filas 56 y 204\n",
    "result_56 = model.predict(x[56].reshape(1, -1))\n",
    "result_204 = model.predict(x[204].reshape(1, -1))\n",
    "\n",
    "# Crear un DataFrame para mostrar la tabla\n",
    "data = {\n",
    "    'Fila Datos': [56, 204],\n",
    "    'Resultado verdadero': [y[56], y[204]],\n",
    "    'Resultado red neuronal': [result_56[0][0], result_204[0][0]]\n",
    "}\n",
    "\n",
    "df_results = pd.DataFrame(data)\n",
    "print(df_results)"
   ]
  }
 ],
 "metadata": {
  "kernelspec": {
   "display_name": "base",
   "language": "python",
   "name": "python3"
  },
  "language_info": {
   "codemirror_mode": {
    "name": "ipython",
    "version": 3
   },
   "file_extension": ".py",
   "mimetype": "text/x-python",
   "name": "python",
   "nbconvert_exporter": "python",
   "pygments_lexer": "ipython3",
   "version": "3.12.4"
  }
 },
 "nbformat": 4,
 "nbformat_minor": 2
}
