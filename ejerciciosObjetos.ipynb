{
 "cells": [
  {
   "cell_type": "markdown",
   "id": "4b8cb458",
   "metadata": {},
   "source": [
    "1. Crea una clase CuentaBancaria con los atributos titular y saldo. Crea métodos para depositar (depositar) y retirar (retirar) dinero. Si el saldo no es suficiente al intentar retirar, imprime un mensaje de error.\n",
    "\n",
    "2. Crea una clase Empleado con atributos nombre y salario. Luego, crea una subclase Gerente que herede de Empleado, pero además tenga un atributo departamento. Añade un método en Gerente que muestre toda la información (nombre, salario, departamento).\n",
    "\n",
    "3. Crea una clase base Vehiculo con atributos marca y modelo. Crea dos clases derivadas: Coche y Moto, cada una con un atributo adicional específico. Implementa un método describir que muestre todos los atributos del vehículo.\n",
    "\n",
    "Crea algunas instancias de estos objetos y haz pruebas con ellos.\n"
   ]
  },
  {
   "cell_type": "code",
   "execution_count": 38,
   "id": "c3b87ea0",
   "metadata": {},
   "outputs": [],
   "source": [
    "class CuentaBancaria:\n",
    "    def __init__(self,titular,saldo):\n",
    "        self.titular = titular\n",
    "        self.saldo = saldo\n",
    "    def depositar(self,dinero):\n",
    "        self.saldo += dinero\n",
    "    def retirar(self,dinero):\n",
    "        self.saldo -= dinero\n",
    "    def __str__(self):\n",
    "        return f'Titular: {self.titular}, Saldo: {self.saldo}'"
   ]
  },
  {
   "cell_type": "code",
   "execution_count": 47,
   "id": "61ac3e0f",
   "metadata": {},
   "outputs": [
    {
     "name": "stdout",
     "output_type": "stream",
     "text": [
      "Titular: Pepe Martin, Saldo: 23\n"
     ]
    }
   ],
   "source": [
    "pepe = CuentaBancaria(\"Pepe Martin\",13)\n",
    "pepe.depositar(10)\n",
    "print(pepe)"
   ]
  },
  {
   "cell_type": "code",
   "execution_count": 41,
   "id": "87473632",
   "metadata": {},
   "outputs": [],
   "source": [
    "class Empleado:\n",
    "    def __init__(self, nombre, salario):\n",
    "        self.nombre = nombre\n",
    "        self.salario = salario\n",
    "\n",
    "class Gerente(Empleado):\n",
    "    def __init__(self, nombre, salario, departamento):\n",
    "        super().__init__(nombre, salario)\n",
    "        self.departamento = departamento\n",
    "\n",
    "    def __str__(self):\n",
    "        return f'Nombre: {self.nombre}, Salario: {self.salario}, Departamento: {self.departamento}'"
   ]
  },
  {
   "cell_type": "code",
   "execution_count": 42,
   "id": "90b71e75",
   "metadata": {},
   "outputs": [
    {
     "name": "stdout",
     "output_type": "stream",
     "text": [
      "Nombre: Antonio Gomez, Salario: 1000, Departamento: Sanidad\n"
     ]
    }
   ],
   "source": [
    "empleado1 = Empleado(\"Antonio Gomez\", 1000)\n",
    "gerente1 = Gerente(empleado1.nombre, empleado1.salario, \"Sanidad\")\n",
    "print(gerente1)"
   ]
  },
  {
   "cell_type": "code",
   "execution_count": 44,
   "id": "43fe5334",
   "metadata": {},
   "outputs": [],
   "source": [
    "class Vehiculo:\n",
    "    def __init__(self, marca, modelo):\n",
    "        self.marca = marca\n",
    "        self.modelo = modelo\n",
    "\n",
    "    def __str__(self):\n",
    "        return f'Marca: {self.marca}, Modelo: {self.modelo}'\n",
    "\n",
    "class Coche(Vehiculo):\n",
    "    def __init__(self, marca, modelo, puertas):\n",
    "        super().__init__(marca, modelo)\n",
    "        self.puertas = puertas\n",
    "\n",
    "    def __str__(self):\n",
    "        return f'Marca: {self.marca}, Modelo: {self.modelo}, Puertas: {self.puertas}'\n",
    "\n",
    "class Moto(Vehiculo):\n",
    "    def __init__(self, marca, modelo, tipo):\n",
    "        super().__init__(marca, modelo)\n",
    "        self.tipo = tipo\n",
    "\n",
    "    def __str__(self):\n",
    "        return f'Marca: {self.marca}, Modelo: {self.modelo}, Tipo: {self.tipo}'"
   ]
  },
  {
   "cell_type": "code",
   "execution_count": 45,
   "id": "7f3492fc",
   "metadata": {},
   "outputs": [
    {
     "name": "stdout",
     "output_type": "stream",
     "text": [
      "Marca: MERCEDES, Modelo: BENZT\n",
      "Marca: MERCEDES, Modelo: BENZT, Puertas: 4\n",
      "Marca: MERCEDES, Modelo: BENZT, Tipo: Grande\n"
     ]
    }
   ],
   "source": [
    "vehiculo1 = Vehiculo(\"MERCEDES\",\"BENZT\")\n",
    "coche1 = Coche(vehiculo1.marca,vehiculo1.modelo,4)\n",
    "moto1 = Moto(vehiculo1.marca, vehiculo1.modelo, \"Grande\")\n",
    "print(vehiculo1)\n",
    "print(coche1)\n",
    "print(moto1)"
   ]
  },
  {
   "cell_type": "code",
   "execution_count": null,
   "id": "1afa01c4",
   "metadata": {},
   "outputs": [],
   "source": []
  }
 ],
 "metadata": {
  "kernelspec": {
   "display_name": "base",
   "language": "python",
   "name": "python3"
  },
  "language_info": {
   "codemirror_mode": {
    "name": "ipython",
    "version": 3
   },
   "file_extension": ".py",
   "mimetype": "text/x-python",
   "name": "python",
   "nbconvert_exporter": "python",
   "pygments_lexer": "ipython3",
   "version": "3.12.4"
  }
 },
 "nbformat": 4,
 "nbformat_minor": 5
}
