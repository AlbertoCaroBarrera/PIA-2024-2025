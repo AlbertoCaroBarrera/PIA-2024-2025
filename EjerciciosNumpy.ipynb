{
 "cells": [
  {
   "cell_type": "markdown",
   "metadata": {},
   "source": [
    "Ejercicio 1\n",
    "\n",
    "Crea una array de numpy con los siguiente números primos: 2, 3, 5, 7, 11, 13, 17, 19, 23, 29\n",
    "\n",
    "- Muestra el último elemento. Y debes hacerlo sin saber su longitud.\n",
    "- Muestra el 3º elemento\n",
    "- Muestra el último y 3º elemento.\n",
    "- Muestra del 2º al 5º elemento.\n",
    "- Muestra el 2° y el 5° elemento\n",
    "- Muestra el último y el penúltimo elemento. Y debes hacerlo sin saber su longitud.\n"
   ]
  },
  {
   "cell_type": "code",
   "execution_count": 1,
   "metadata": {},
   "outputs": [
    {
     "name": "stdout",
     "output_type": "stream",
     "text": [
      "Ultimo elemento 29\n",
      "3º elemento 5\n",
      "Último elemento es 29 y 3º elemento es 5\n",
      "2º elemento es 3 y 5º elemento es 11\n",
      "Ultimo elemento es 29 y penultimo es 29\n"
     ]
    }
   ],
   "source": [
    "import numpy as np\n",
    "\n",
    "primos = np.array([2,3,5,7,11,13,17,19,23,29])\n",
    "segundo_elemento = primos[1]\n",
    "tercero_lista = primos[2]\n",
    "quinto_lista = primos[4]\n",
    "penultimo_lista = primos[-2]\n",
    "ultimo_lista = primos[-1]\n",
    "print(f\"Ultimo elemento {ultimo_lista}\")\n",
    "print(f\"3º elemento {tercero_lista}\")\n",
    "print(f\"Último elemento es {ultimo_lista} y 3º elemento es {tercero_lista}\")\n",
    "print(f\"2º elemento es {segundo_elemento} y 5º elemento es {quinto_lista}\")\n",
    "print(f\"Ultimo elemento es {ultimo_lista} y penultimo es {ultimo_lista}\")"
   ]
  },
  {
   "cell_type": "markdown",
   "metadata": {},
   "source": [
    "Ejercicio 2 \n",
    "Crea una array de numpy con los siguiente números primos: 2, 3, 5, 7, 11, 13, 17, 19, 23, 29 pero que el array sea de tipo \"float\" de 32 bits.\n",
    "- Usando la función arange de numpy crea un array con los números del 100 al 200 pero sin incluir el 200. Muestra el resultado.\n",
    "- Usando la función range estándar de Python crea un array con los números del 100 al 200 pero sin incluir el 200. Muestra el resultado. ¿Qué diferencia hay con arange?\n"
   ]
  },
  {
   "cell_type": "code",
   "execution_count": 2,
   "metadata": {},
   "outputs": [
    {
     "name": "stdout",
     "output_type": "stream",
     "text": [
      "[ 2.  3.  5.  7. 11. 13. 17. 19. 23. 29.]\n",
      "[100 101 102 103 104 105 106 107 108 109 110 111 112 113 114 115 116 117\n",
      " 118 119 120 121 122 123 124 125 126 127 128 129 130 131 132 133 134 135\n",
      " 136 137 138 139 140 141 142 143 144 145 146 147 148 149 150 151 152 153\n",
      " 154 155 156 157 158 159 160 161 162 163 164 165 166 167 168 169 170 171\n",
      " 172 173 174 175 176 177 178 179 180 181 182 183 184 185 186 187 188 189\n",
      " 190 191 192 193 194 195 196 197 198 199]\n",
      "[100, 101, 102, 103, 104, 105, 106, 107, 108, 109, 110, 111, 112, 113, 114, 115, 116, 117, 118, 119, 120, 121, 122, 123, 124, 125, 126, 127, 128, 129, 130, 131, 132, 133, 134, 135, 136, 137, 138, 139, 140, 141, 142, 143, 144, 145, 146, 147, 148, 149, 150, 151, 152, 153, 154, 155, 156, 157, 158, 159, 160, 161, 162, 163, 164, 165, 166, 167, 168, 169, 170, 171, 172, 173, 174, 175, 176, 177, 178, 179, 180, 181, 182, 183, 184, 185, 186, 187, 188, 189, 190, 191, 192, 193, 194, 195, 196, 197, 198, 199]\n"
     ]
    }
   ],
   "source": [
    "primos = np.array([2,3,5,7,11,13,17,19,23,29])\n",
    "primos32 = np.array(primos, dtype=np.float32)\n",
    "print(primos32)\n",
    "\n",
    "lista_numeros = np.arange(100,200)\n",
    "print(lista_numeros)\n",
    "\n",
    "print(list(range(100,200)))\n",
    "\n",
    "# La diferencia es la coma. Uno es list de np"
   ]
  },
  {
   "cell_type": "markdown",
   "metadata": {},
   "source": [
    "Ejercicio 3\n",
    "Crea la siguiente matriz:\n",
    "\n",
    "- Muestra el elemento de la fila 2º y la columna 3º. Es el valor del 7.\n",
    "- Muestra la 3º Fila\n",
    "- Muestra la 2º Columna\n",
    "- Muestra la 2º y 3º Columna\n",
    "- Muestra la 2º y 3º Fila\n",
    "- Muestra la última columna. Debe funcionar independientemente del número de columnas.\n",
    "- Muestra la 2º y 4º Columna y la 1º y 3º fila\n",
    "- Muestra de la 2º a la 3º Columna y de la 1º a la 3º fila\n",
    "- Muestra todas las columnas excepto la primera y la última. Debe funcionar independientemente del número de columnas.\n",
    "- Muestra todas las filas excepto la primera y la última. Debe funcionar independientemente del número de filas.\n",
    "- Muestra todas las columnas excepto la primera y la última y todas las filas excepto la primera y la última. Debe funcionar independientemente del número de filas y columnas.\n",
    "- Imprime la matriz y haz que las cabeceras de cada columna sean A, B , C y D\n"
   ]
  },
  {
   "cell_type": "code",
   "execution_count": 6,
   "metadata": {},
   "outputs": [
    {
     "name": "stdout",
     "output_type": "stream",
     "text": [
      "Muestra el elemento de la fila 2º y la columna 3º. Es el valor del 7. Valor: 7\n"
     ]
    }
   ],
   "source": [
    "matriz = np.array([[1,4,6,5],[4,1,7,3],[2,9,1,2],[6,3,1,1]])\n",
    "segundaFilaTerceraColumna = matriz[1][2]\n",
    "print(f\"Muestra el elemento de la fila 2º y la columna 3º. Es el valor del 7. Valor: {segundaFilaTerceraColumna}\")"
   ]
  },
  {
   "cell_type": "code",
   "execution_count": null,
   "metadata": {},
   "outputs": [],
   "source": [
    "print(\"hola\")"
   ]
  }
 ],
 "metadata": {
  "kernelspec": {
   "display_name": "base",
   "language": "python",
   "name": "python3"
  },
  "language_info": {
   "codemirror_mode": {
    "name": "ipython",
    "version": 3
   },
   "file_extension": ".py",
   "mimetype": "text/x-python",
   "name": "python",
   "nbconvert_exporter": "python",
   "pygments_lexer": "ipython3",
   "version": "3.12.4"
  }
 },
 "nbformat": 4,
 "nbformat_minor": 2
}
