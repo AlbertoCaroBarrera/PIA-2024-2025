{
 "cells": [
  {
   "cell_type": "markdown",
   "metadata": {},
   "source": [
    "Ejercicio 1\n",
    "\n",
    "Crea una array de numpy con los siguiente números primos: 2, 3, 5, 7, 11, 13, 17, 19, 23, 29\n",
    "\n",
    "- Muestra el último elemento. Y debes hacerlo sin saber su longitud.\n",
    "- Muestra el 3º elemento\n",
    "- Muestra el último y 3º elemento.\n",
    "- Muestra del 2º al 5º elemento.\n",
    "- Muestra el 2° y el 5° elemento\n",
    "- Muestra el último y el penúltimo elemento. Y debes hacerlo sin saber su longitud.\n"
   ]
  },
  {
   "cell_type": "code",
   "execution_count": 2,
   "metadata": {},
   "outputs": [
    {
     "name": "stdout",
     "output_type": "stream",
     "text": [
      "Ultimo elemento 29\n",
      "3º elemento 5\n",
      "Último elemento es 29 y 3º elemento es 5\n",
      "2º elemento es 3 y 5º elemento es 11\n",
      "Ultimo elemento es 29 y penultimo es 29\n"
     ]
    }
   ],
   "source": [
    "import numpy as np\n",
    "\n",
    "primos = np.array([2,3,5,7,11,13,17,19,23,29])\n",
    "segundo_elemento = primos[1]\n",
    "tercero_lista = primos[2]\n",
    "quinto_lista = primos[4]\n",
    "penultimo_lista = primos[-2]\n",
    "ultimo_lista = primos[-1]\n",
    "print(f\"Ultimo elemento {ultimo_lista}\")\n",
    "print(f\"3º elemento {tercero_lista}\")\n",
    "print(f\"Último elemento es {ultimo_lista} y 3º elemento es {tercero_lista}\")\n",
    "print(f\"2º elemento es {segundo_elemento} y 5º elemento es {quinto_lista}\")\n",
    "print(f\"Ultimo elemento es {ultimo_lista} y penultimo es {ultimo_lista}\")"
   ]
  },
  {
   "cell_type": "markdown",
   "metadata": {},
   "source": [
    "Ejercicio 2 \n",
    "Crea una array de numpy con los siguiente números primos: 2, 3, 5, 7, 11, 13, 17, 19, 23, 29 pero que el array sea de tipo \"float\" de 32 bits.\n",
    "- Usando la función arange de numpy crea un array con los números del 100 al 200 pero sin incluir el 200. Muestra el resultado.\n",
    "- Usando la función range estándar de Python crea un array con los números del 100 al 200 pero sin incluir el 200. Muestra el resultado. ¿Qué diferencia hay con arange?\n"
   ]
  },
  {
   "cell_type": "code",
   "execution_count": 3,
   "metadata": {},
   "outputs": [
    {
     "name": "stdout",
     "output_type": "stream",
     "text": [
      "[ 2.  3.  5.  7. 11. 13. 17. 19. 23. 29.]\n",
      "[100 101 102 103 104 105 106 107 108 109 110 111 112 113 114 115 116 117\n",
      " 118 119 120 121 122 123 124 125 126 127 128 129 130 131 132 133 134 135\n",
      " 136 137 138 139 140 141 142 143 144 145 146 147 148 149 150 151 152 153\n",
      " 154 155 156 157 158 159 160 161 162 163 164 165 166 167 168 169 170 171\n",
      " 172 173 174 175 176 177 178 179 180 181 182 183 184 185 186 187 188 189\n",
      " 190 191 192 193 194 195 196 197 198 199]\n",
      "[100, 101, 102, 103, 104, 105, 106, 107, 108, 109, 110, 111, 112, 113, 114, 115, 116, 117, 118, 119, 120, 121, 122, 123, 124, 125, 126, 127, 128, 129, 130, 131, 132, 133, 134, 135, 136, 137, 138, 139, 140, 141, 142, 143, 144, 145, 146, 147, 148, 149, 150, 151, 152, 153, 154, 155, 156, 157, 158, 159, 160, 161, 162, 163, 164, 165, 166, 167, 168, 169, 170, 171, 172, 173, 174, 175, 176, 177, 178, 179, 180, 181, 182, 183, 184, 185, 186, 187, 188, 189, 190, 191, 192, 193, 194, 195, 196, 197, 198, 199]\n"
     ]
    }
   ],
   "source": [
    "primos = np.array([2,3,5,7,11,13,17,19,23,29])\n",
    "primos32 = np.array(primos, dtype=np.float32)\n",
    "print(primos32)\n",
    "\n",
    "lista_numeros = np.arange(100,200)\n",
    "print(lista_numeros)\n",
    "\n",
    "print(list(range(100,200)))\n",
    "\n",
    "# La diferencia es la coma. Uno es list de np"
   ]
  },
  {
   "cell_type": "markdown",
   "metadata": {},
   "source": [
    "Ejercicio 3\n",
    "Crea la siguiente matriz:\n",
    "\n",
    "- Muestra el elemento de la fila 2º y la columna 3º. Es el valor del 7.\n",
    "- Muestra la 3º Fila\n",
    "- Muestra la 2º Columna\n",
    "- Muestra la 2º y 3º Columna\n",
    "- Muestra la 2º y 3º Fila\n",
    "- Muestra la última columna. Debe funcionar independientemente del número de columnas.\n",
    "- Muestra la 2º y 4º Columna y la 1º y 3º fila\n",
    "- Muestra de la 2º a la 3º Columna y de la 1º a la 3º fila\n",
    "- Muestra todas las columnas excepto la primera y la última. Debe funcionar independientemente del número de columnas.\n",
    "- Muestra todas las filas excepto la primera y la última. Debe funcionar independientemente del número de filas.\n",
    "- Muestra todas las columnas excepto la primera y la última y todas las filas excepto la primera y la última. Debe funcionar independientemente del número de filas y columnas.\n",
    "- Imprime la matriz y haz que las cabeceras de cada columna sean A, B , C y D\n"
   ]
  },
  {
   "cell_type": "code",
   "execution_count": 4,
   "metadata": {},
   "outputs": [
    {
     "name": "stdout",
     "output_type": "stream",
     "text": [
      "Muestra el elemento de la fila 2º y la columna 3º. Es el valor del 7. Valor: 7\n",
      "Muestra la 3º Fila [2 9 1 2]\n",
      "Muestra la 2º Columna \n",
      "[[4]\n",
      " [1]\n",
      " [9]\n",
      " [3]]\n",
      "Muestra la 2º y 3º Columna \n",
      "[[4 6]\n",
      " [1 7]\n",
      " [9 1]\n",
      " [3 1]]\n",
      "Muestra la 2º y 3º Fila \n",
      "[[4 1 7 3]\n",
      " [2 9 1 2]]\n",
      "Muestra la ultima Columna \n",
      "[[5]\n",
      " [3]\n",
      " [2]\n",
      " [1]]\n",
      "Muestra la segunda Y cuarta Col Y primera Y terceraFila \n",
      "[[4 6 5]\n",
      " [1 7 3]\n",
      " [9 1 2]]\n",
      "Muestra la segunda Y tercera Col Y primera Y terceraFila \n",
      "[[4 6]\n",
      " [1 7]\n",
      " [9 1]]\n",
      "Muestra todas menos primera y ultima columnas \n",
      "[[4 6]\n",
      " [1 7]\n",
      " [9 1]\n",
      " [3 1]]\n",
      "Muestra todas menos primera y ultima columnas y columnas \n",
      "[[1 7]\n",
      " [9 1]]\n",
      " A B C D\n",
      "[1 4 6 5]\n",
      "[4 1 7 3]\n",
      "[2 9 1 2]\n",
      "[6 3 1 1]\n"
     ]
    }
   ],
   "source": [
    "matriz = np.array([[1,4,6,5],[4,1,7,3],[2,9,1,2],[6,3,1,1]])\n",
    "segundaFilaTerceraColumna = matriz[1][2]\n",
    "terceraFila = matriz[2]\n",
    "segundaColumna = matriz[:,1:2]\n",
    "segundaYterceraColumna = matriz[:,1:3]\n",
    "segundaYterceraFila = matriz[1:3,:]\n",
    "ultimaCol = matriz[:,-1:]\n",
    "segundaYcuartaColYprimeraYterceraFila = matriz[0:3,1:4]\n",
    "segundaYterceraColYprimeraYterceraFila = matriz[0:3,1:3]\n",
    "NoPrimeraUltima = matriz[:,1:-1]\n",
    "NoPrimeraUltimaFC = matriz[1:-1,1:-1]\n",
    "\n",
    "print(f\"Muestra el elemento de la fila 2º y la columna 3º. Es el valor del 7. Valor: {segundaFilaTerceraColumna}\")\n",
    "print(f\"Muestra la 3º Fila {terceraFila}\")\n",
    "print(f\"Muestra la 2º Columna \\n{segundaColumna}\")\n",
    "print(f\"Muestra la 2º y 3º Columna \\n{segundaYterceraColumna}\")\n",
    "print(f\"Muestra la 2º y 3º Fila \\n{segundaYterceraFila}\")\n",
    "print(f\"Muestra la ultima Columna \\n{ultimaCol}\")\n",
    "print(f\"Muestra la segunda Y cuarta Col Y primera Y terceraFila \\n{segundaYcuartaColYprimeraYterceraFila}\")\n",
    "print(f\"Muestra la segunda Y tercera Col Y primera Y terceraFila \\n{segundaYterceraColYprimeraYterceraFila}\")\n",
    "print(f\"Muestra todas menos primera y ultima columnas \\n{NoPrimeraUltima}\")\n",
    "print(f\"Muestra todas menos primera y ultima columnas y columnas \\n{NoPrimeraUltimaFC}\")\n",
    "print(f\" A B C D\")\n",
    "for i in matriz:\n",
    "    print(i)\n",
    "\n"
   ]
  },
  {
   "cell_type": "markdown",
   "metadata": {},
   "source": [
    "\n",
    "Ejercicio 4\n",
    "El siguiente array contiene las temperaturas medias que ha hecho en Valencia en cada mes [10.2, 10.7, 13.3, 15.8, 19.3, 23.6, 26, 25.9, 22.8, 19.1, 13.9, 10.8 ]\n",
    "- Muestra las temperaturas cuyo valor sea mayor que 20\n",
    "- Muestra las temperaturas cuyo valor sea menor que 11\n",
    "- Muestra las temperaturas cuyo valor sea mayor que 20 o menor que 11\n"
   ]
  },
  {
   "cell_type": "code",
   "execution_count": 5,
   "metadata": {},
   "outputs": [
    {
     "name": "stdout",
     "output_type": "stream",
     "text": [
      "Muestra las temperaturas cuyo valor sea mayor que 20 [23.6 26.  25.9 22.8]\n",
      "Muestra las temperaturas cuyo valor sea menor que 11 [10.2 10.7 10.8]\n",
      "Muestra las temperaturas cuyo valor sea mayor que 20 o menor que 11 [10.2 10.7 23.6 26.  25.9 22.8 10.8]\n"
     ]
    }
   ],
   "source": [
    "array = np.array([10.2, 10.7, 13.3, 15.8, 19.3, 23.6, 26, 25.9, 22.8, 19.1, 13.9, 10.8 ])\n",
    "print(f\"Muestra las temperaturas cuyo valor sea mayor que 20 {array[array>20]}\")\n",
    "print(f\"Muestra las temperaturas cuyo valor sea menor que 11 {array[array<11]}\")\n",
    "print(f\"Muestra las temperaturas cuyo valor sea mayor que 20 o menor que 11 {array[(array<11) | (array>20)]}\")"
   ]
  },
  {
   "cell_type": "markdown",
   "metadata": {},
   "source": [
    "Ejercicio 5\n",
    "Carga los datos de un dataset muy utilizado en la ciencia de datos con con el siguiente código:\n",
    "from sklearn.datasets import load_iris\n",
    "datos=load_iris().data\n",
    "resultado=load_iris().target\n",
    "\n",
    "\n",
    "- Crea un array llamado sepal_length con las 99 primeras filas y la 1º columna de la matriz datos\n",
    "- Crea un array llamado petal_length con las 99 primeras filas y la 3º columna de la matriz datos\n",
    "- Crea un array llamado x juntando las 2 columnas sepal_length y petal_length\n",
    "- Crea un array llamado y con las 99 primeras filas del vector resultado\n",
    "- Crea un array llamado x con las 99 primeras filas , la 1º columna y la 3º columna de la matriz datos.\n"
   ]
  },
  {
   "cell_type": "code",
   "execution_count": 6,
   "metadata": {},
   "outputs": [
    {
     "name": "stdout",
     "output_type": "stream",
     "text": [
      "[[5.1 1.4]\n",
      " [4.9 1.4]\n",
      " [4.7 1.3]\n",
      " [4.6 1.5]\n",
      " [5.  1.4]\n",
      " [5.4 1.7]\n",
      " [4.6 1.4]\n",
      " [5.  1.5]\n",
      " [4.4 1.4]\n",
      " [4.9 1.5]\n",
      " [5.4 1.5]\n",
      " [4.8 1.6]\n",
      " [4.8 1.4]\n",
      " [4.3 1.1]\n",
      " [5.8 1.2]\n",
      " [5.7 1.5]\n",
      " [5.4 1.3]\n",
      " [5.1 1.4]\n",
      " [5.7 1.7]\n",
      " [5.1 1.5]\n",
      " [5.4 1.7]\n",
      " [5.1 1.5]\n",
      " [4.6 1. ]\n",
      " [5.1 1.7]\n",
      " [4.8 1.9]\n",
      " [5.  1.6]\n",
      " [5.  1.6]\n",
      " [5.2 1.5]\n",
      " [5.2 1.4]\n",
      " [4.7 1.6]\n",
      " [4.8 1.6]\n",
      " [5.4 1.5]\n",
      " [5.2 1.5]\n",
      " [5.5 1.4]\n",
      " [4.9 1.5]\n",
      " [5.  1.2]\n",
      " [5.5 1.3]\n",
      " [4.9 1.4]\n",
      " [4.4 1.3]\n",
      " [5.1 1.5]\n",
      " [5.  1.3]\n",
      " [4.5 1.3]\n",
      " [4.4 1.3]\n",
      " [5.  1.6]\n",
      " [5.1 1.9]\n",
      " [4.8 1.4]\n",
      " [5.1 1.6]\n",
      " [4.6 1.4]\n",
      " [5.3 1.5]\n",
      " [5.  1.4]\n",
      " [7.  4.7]\n",
      " [6.4 4.5]\n",
      " [6.9 4.9]\n",
      " [5.5 4. ]\n",
      " [6.5 4.6]\n",
      " [5.7 4.5]\n",
      " [6.3 4.7]\n",
      " [4.9 3.3]\n",
      " [6.6 4.6]\n",
      " [5.2 3.9]\n",
      " [5.  3.5]\n",
      " [5.9 4.2]\n",
      " [6.  4. ]\n",
      " [6.1 4.7]\n",
      " [5.6 3.6]\n",
      " [6.7 4.4]\n",
      " [5.6 4.5]\n",
      " [5.8 4.1]\n",
      " [6.2 4.5]\n",
      " [5.6 3.9]\n",
      " [5.9 4.8]\n",
      " [6.1 4. ]\n",
      " [6.3 4.9]\n",
      " [6.1 4.7]\n",
      " [6.4 4.3]\n",
      " [6.6 4.4]\n",
      " [6.8 4.8]\n",
      " [6.7 5. ]\n",
      " [6.  4.5]\n",
      " [5.7 3.5]\n",
      " [5.5 3.8]\n",
      " [5.5 3.7]\n",
      " [5.8 3.9]\n",
      " [6.  5.1]\n",
      " [5.4 4.5]\n",
      " [6.  4.5]\n",
      " [6.7 4.7]\n",
      " [6.3 4.4]\n",
      " [5.6 4.1]\n",
      " [5.5 4. ]\n",
      " [5.5 4.4]\n",
      " [6.1 4.6]\n",
      " [5.8 4. ]\n",
      " [5.  3.3]\n",
      " [5.6 4.2]\n",
      " [5.7 4.2]\n",
      " [5.7 4.2]\n",
      " [6.2 4.3]\n",
      " [5.1 3. ]]\n"
     ]
    }
   ],
   "source": [
    "from sklearn.datasets import load_iris\n",
    "datos=load_iris().data\n",
    "resultado=load_iris().target\n",
    "sepal_length = datos[0:100,0:1]\n",
    "petal_length = datos[0:100,2:3]\n",
    "x = np.hstack((sepal_length, petal_length))\n",
    "y = resultado[:100]\n",
    "# Crea un array llamado x2 con las 99 primeras filas , la 1º columna y la 3º columna de la matriz datos.\n",
    "\n",
    "x2 = datos[:99, [0, 2]]\n",
    "\n",
    "# print(datos)\n",
    "# print(sepal_length)\n",
    "# print(petal_length)\n",
    "# print(x)\n",
    "\n",
    "# print(resultado)\n",
    "# print(y)\n",
    "print(x2)"
   ]
  },
  {
   "cell_type": "markdown",
   "metadata": {},
   "source": [
    "Ejercicio 6\n",
    "- Selecciona las celdas en rojo oscuro de la siguiente matriz:"
   ]
  },
  {
   "cell_type": "code",
   "execution_count": 8,
   "metadata": {},
   "outputs": [
    {
     "name": "stdout",
     "output_type": "stream",
     "text": [
      "Matriz original:\n",
      "[[ 0  1  2  3  4  5  6  7]\n",
      " [ 8  9 10 11 12 13 14 15]\n",
      " [16 17 18 19 20 21 22 23]\n",
      " [24 25 26 27 28 29 30 31]\n",
      " [32 33 34 35 36 37 38 39]\n",
      " [40 41 42 43 44 45 46 47]\n",
      " [48 49 50 51 52 53 54 55]\n",
      " [56 57 58 59 60 61 62 63]]\n",
      "\n",
      "Subarray 4x4 central:\n",
      "[[18 19 20 21]\n",
      " [26 27 28 29]\n",
      " [34 35 36 37]\n",
      " [42 43 44 45]]\n"
     ]
    }
   ],
   "source": [
    "\n",
    "matriz = np.arange(64).reshape(8, 8)\n",
    "\n",
    "subarray_central = matriz[2:6, 2:6]\n",
    "\n",
    "print(\"Matriz original:\")\n",
    "print(matriz)\n",
    "\n",
    "print(\"\\nSubarray 4x4 central:\")\n",
    "print(subarray_central)"
   ]
  },
  {
   "cell_type": "markdown",
   "metadata": {},
   "source": [
    "Ejercicio 7\n",
    "Selecciona las celdas en rojo oscuro de la siguiente matriz:\n",
    "\n"
   ]
  },
  {
   "cell_type": "code",
   "execution_count": 76,
   "metadata": {},
   "outputs": [
    {
     "name": "stdout",
     "output_type": "stream",
     "text": [
      "Matriz tridimensional original:\n",
      "[[[  0   1   2   3   4   5   6   7]\n",
      "  [  8   9  10  11  12  13  14  15]\n",
      "  [ 16  17  18  19  20  21  22  23]\n",
      "  [ 24  25  26  27  28  29  30  31]\n",
      "  [ 32  33  34  35  36  37  38  39]\n",
      "  [ 40  41  42  43  44  45  46  47]\n",
      "  [ 48  49  50  51  52  53  54  55]\n",
      "  [ 56  57  58  59  60  61  62  63]]\n",
      "\n",
      " [[ 64  65  66  67  68  69  70  71]\n",
      "  [ 72  73  74  75  76  77  78  79]\n",
      "  [ 80  81  82  83  84  85  86  87]\n",
      "  [ 88  89  90  91  92  93  94  95]\n",
      "  [ 96  97  98  99 100 101 102 103]\n",
      "  [104 105 106 107 108 109 110 111]\n",
      "  [112 113 114 115 116 117 118 119]\n",
      "  [120 121 122 123 124 125 126 127]]\n",
      "\n",
      " [[128 129 130 131 132 133 134 135]\n",
      "  [136 137 138 139 140 141 142 143]\n",
      "  [144 145 146 147 148 149 150 151]\n",
      "  [152 153 154 155 156 157 158 159]\n",
      "  [160 161 162 163 164 165 166 167]\n",
      "  [168 169 170 171 172 173 174 175]\n",
      "  [176 177 178 179 180 181 182 183]\n",
      "  [184 185 186 187 188 189 190 191]]\n",
      "\n",
      " [[192 193 194 195 196 197 198 199]\n",
      "  [200 201 202 203 204 205 206 207]\n",
      "  [208 209 210 211 212 213 214 215]\n",
      "  [216 217 218 219 220 221 222 223]\n",
      "  [224 225 226 227 228 229 230 231]\n",
      "  [232 233 234 235 236 237 238 239]\n",
      "  [240 241 242 243 244 245 246 247]\n",
      "  [248 249 250 251 252 253 254 255]]\n",
      "\n",
      " [[256 257 258 259 260 261 262 263]\n",
      "  [264 265 266 267 268 269 270 271]\n",
      "  [272 273 274 275 276 277 278 279]\n",
      "  [280 281 282 283 284 285 286 287]\n",
      "  [288 289 290 291 292 293 294 295]\n",
      "  [296 297 298 299 300 301 302 303]\n",
      "  [304 305 306 307 308 309 310 311]\n",
      "  [312 313 314 315 316 317 318 319]]\n",
      "\n",
      " [[320 321 322 323 324 325 326 327]\n",
      "  [328 329 330 331 332 333 334 335]\n",
      "  [336 337 338 339 340 341 342 343]\n",
      "  [344 345 346 347 348 349 350 351]\n",
      "  [352 353 354 355 356 357 358 359]\n",
      "  [360 361 362 363 364 365 366 367]\n",
      "  [368 369 370 371 372 373 374 375]\n",
      "  [376 377 378 379 380 381 382 383]]\n",
      "\n",
      " [[384 385 386 387 388 389 390 391]\n",
      "  [392 393 394 395 396 397 398 399]\n",
      "  [400 401 402 403 404 405 406 407]\n",
      "  [408 409 410 411 412 413 414 415]\n",
      "  [416 417 418 419 420 421 422 423]\n",
      "  [424 425 426 427 428 429 430 431]\n",
      "  [432 433 434 435 436 437 438 439]\n",
      "  [440 441 442 443 444 445 446 447]]\n",
      "\n",
      " [[448 449 450 451 452 453 454 455]\n",
      "  [456 457 458 459 460 461 462 463]\n",
      "  [464 465 466 467 468 469 470 471]\n",
      "  [472 473 474 475 476 477 478 479]\n",
      "  [480 481 482 483 484 485 486 487]\n",
      "  [488 489 490 491 492 493 494 495]\n",
      "  [496 497 498 499 500 501 502 503]\n",
      "  [504 505 506 507 508 509 510 511]]]\n",
      "\n",
      "Subarray 4x4x4 central:\n",
      "[[[18 19 20 21]\n",
      "  [26 27 28 29]\n",
      "  [34 35 36 37]\n",
      "  [42 43 44 45]]]\n"
     ]
    }
   ],
   "source": [
    "matriz_3d = np.arange(512).reshape(8, 8, 8)\n",
    "subarray_central_3d = matriz_3d[0:1, 2:6, 2:6]\n",
    "\n",
    "print(\"Matriz tridimensional original:\")\n",
    "print(matriz_3d)\n",
    "\n",
    "print(\"\\nSubarray 4x4x4 central:\")\n",
    "print(subarray_central_3d)"
   ]
  },
  {
   "cell_type": "markdown",
   "metadata": {},
   "source": [
    "Ahora selecciona las celdas en rojo oscuro pero también las verdes y azules que hay por detrás de las rojo oscuro."
   ]
  },
  {
   "cell_type": "code",
   "execution_count": 12,
   "metadata": {},
   "outputs": [
    {
     "name": "stdout",
     "output_type": "stream",
     "text": [
      "\n",
      "Subarray 4x4x4 central:\n",
      "[[[ 18  19  20  21]\n",
      "  [ 26  27  28  29]\n",
      "  [ 34  35  36  37]\n",
      "  [ 42  43  44  45]]\n",
      "\n",
      " [[ 82  83  84  85]\n",
      "  [ 90  91  92  93]\n",
      "  [ 98  99 100 101]\n",
      "  [106 107 108 109]]\n",
      "\n",
      " [[146 147 148 149]\n",
      "  [154 155 156 157]\n",
      "  [162 163 164 165]\n",
      "  [170 171 172 173]]]\n"
     ]
    }
   ],
   "source": [
    "matriz_3d = np.arange(512).reshape(8, 8, 8)\n",
    "subarray_central_3d = matriz_3d[0:3, 2:6, 2:6]\n",
    "\n",
    "# print(\"Matriz tridimensional original:\")\n",
    "# print(matriz_3d)\n",
    "\n",
    "print(\"\\nSubarray 4x4x4 central:\")\n",
    "print(subarray_central_3d)"
   ]
  },
  {
   "cell_type": "markdown",
   "metadata": {},
   "source": [
    "Crea la siguiente matriz:\n",
    "\n",
    "\n",
    "A todos los elementos de la matriz sumale un 10. Usando las funciones de numpy\n",
    "A todos los elementos de la matriz sumale un 10 y divídelos entre 2. Usando las funciones de numpy\n",
    "A todos los elementos de la matriz sumale un 10. Usando operadores\n",
    "A todos los elementos de la matriz sumale un 10 y divídelos entre 2. Usando operadores\n"
   ]
  },
  {
   "cell_type": "code",
   "execution_count": 15,
   "metadata": {},
   "outputs": [
    {
     "name": "stdout",
     "output_type": "stream",
     "text": [
      "Matriz original:\n",
      "[[1 4 6 5]\n",
      " [4 1 7 3]\n",
      " [2 9 1 2]\n",
      " [6 3 1 1]]\n",
      "\n",
      "Matriz sumada con 10 usando funciones de NumPy:\n",
      "[[11 14 16 15]\n",
      " [14 11 17 13]\n",
      " [12 19 11 12]\n",
      " [16 13 11 11]]\n",
      "\n",
      "Matriz sumada con 10 y dividida entre 2 usando funciones de NumPy:\n",
      "[[5.5 7.  8.  7.5]\n",
      " [7.  5.5 8.5 6.5]\n",
      " [6.  9.5 5.5 6. ]\n",
      " [8.  6.5 5.5 5.5]]\n",
      "\n",
      "Matriz sumada con 10 usando operadores:\n",
      "[[11 14 16 15]\n",
      " [14 11 17 13]\n",
      " [12 19 11 12]\n",
      " [16 13 11 11]]\n",
      "\n",
      "Matriz sumada con 10 y dividida entre 2 usando operadores:\n",
      "[[5.5 7.  8.  7.5]\n",
      " [7.  5.5 8.5 6.5]\n",
      " [6.  9.5 5.5 6. ]\n",
      " [8.  6.5 5.5 5.5]]\n"
     ]
    }
   ],
   "source": [
    "matriz = np.array([[1,4,6,5],[4,1,7,3],[2,9,1,2],[6,3,1,1]])\n",
    "matriz_sumada_np = np.add(matriz, 10)\n",
    "\n",
    "matriz_sumada_dividida_np = np.divide(np.add(matriz, 10), 2)\n",
    "\n",
    "matriz_sumada_op = matriz + 10\n",
    "\n",
    "matriz_sumada_dividida_op = (matriz + 10) / 2\n",
    "\n",
    "print(\"Matriz original:\")\n",
    "print(matriz)\n",
    "\n",
    "print(\"\\nMatriz sumada con 10 usando funciones de NumPy:\")\n",
    "print(matriz_sumada_np)\n",
    "\n",
    "print(\"\\nMatriz sumada con 10 y dividida entre 2 usando funciones de NumPy:\")\n",
    "print(matriz_sumada_dividida_np)\n",
    "\n",
    "print(\"\\nMatriz sumada con 10 usando operadores:\")\n",
    "print(matriz_sumada_op)\n",
    "\n",
    "print(\"\\nMatriz sumada con 10 y dividida entre 2 usando operadores:\")\n",
    "print(matriz_sumada_dividida_op)\n"
   ]
  },
  {
   "cell_type": "markdown",
   "metadata": {},
   "source": [
    "Crea la siguiente matriz:\n",
    "\n",
    "- Multiplica cada elemento de la matriz por sí mismo\n",
    "- Multiplica la matriz por sí misma\n"
   ]
  },
  {
   "cell_type": "code",
   "execution_count": 18,
   "metadata": {},
   "outputs": [
    {
     "name": "stdout",
     "output_type": "stream",
     "text": [
      "Matriz original:\n",
      "[[1, 2, 3], [4, 5, 6], [7, 8, 9]]\n",
      "\n",
      "Matriz con cada elemento multiplicado por sí mismo:\n",
      "[[ 1  4  9]\n",
      " [16 25 36]\n",
      " [49 64 81]]\n",
      "\n",
      "Matriz multiplicada por sí misma:\n",
      "[[ 30  36  42]\n",
      " [ 66  81  96]\n",
      " [102 126 150]]\n"
     ]
    }
   ],
   "source": [
    "matriz = [[1,2,3],[4,5,6], [7,8,9]]\n",
    "matriz_elemento = np.multiply(matriz, matriz)\n",
    "matriz_product = np.dot(matriz, matriz)\n",
    "\n",
    "print(\"Matriz original:\")\n",
    "print(matriz)\n",
    "\n",
    "print(\"\\nMatriz con cada elemento multiplicado por sí mismo:\")\n",
    "print(matriz_elemento)\n",
    "\n",
    "print(\"\\nMatriz multiplicada por sí misma:\")\n",
    "print(matriz_product)"
   ]
  },
  {
   "cell_type": "markdown",
   "metadata": {},
   "source": [
    "\n",
    "Ejercicio 10\n",
    "- Crea una función llamada f que acepte como parámetro el número y que retorne el valor multiplicado por 2 y además que se le sume 1.\n",
    "- Crea ahora el vector de numpy [1,5,4,7,3,9,8,6] y aplícale la función f"
   ]
  },
  {
   "cell_type": "code",
   "execution_count": 49,
   "metadata": {},
   "outputs": [
    {
     "name": "stdout",
     "output_type": "stream",
     "text": [
      "Vector original:\n",
      "[1 5 4 7 3 9 8 6]\n",
      "\n",
      "Vector después de aplicar la función f:\n",
      "[ 3 11  9 15  7 19 17 13]\n"
     ]
    }
   ],
   "source": [
    "def f(x):\n",
    "    return x * 2 + 1\n",
    "\n",
    "vector = np.array([1, 5, 4, 7, 3, 9, 8, 6])\n",
    "\n",
    "resultado = f(vector)\n",
    "\n",
    "print(\"Vector original:\")\n",
    "print(vector)\n",
    "\n",
    "print(\"\\nVector después de aplicar la función f:\")\n",
    "print(resultado)"
   ]
  },
  {
   "cell_type": "markdown",
   "metadata": {},
   "source": [
    "Ejercicio 11\n",
    "Crea una función llamada f que acepte como parámetro el número y que retorne lo siguiente:\n",
    "- Si es valor está en el rango (-inf,3] que retorne 0\n",
    "- Si es valor está en el rango [3,5] que retorne 4\n",
    "- Si es valor está en el rango [5,6] que retorne 5\n",
    "- Si es valor está en el rango [6,7] que retorne 6\n",
    "- Si es valor está en el rango [7,9] que retorne 8\n",
    "- Si es valor está en el rango [9,+inf) que retorne 10\n",
    "- Crea ahora el vector de numpy [1,5,4,7,3,9,8,6] y aplícale la función f\n"
   ]
  },
  {
   "cell_type": "code",
   "execution_count": 38,
   "metadata": {},
   "outputs": [
    {
     "name": "stdout",
     "output_type": "stream",
     "text": [
      "Vector original:\n",
      "[1 5 4 7 3 9 8 6]\n",
      "\n",
      "Vector después de aplicar la función f:\n",
      "[0 4 4 6 0 8 8 5]\n"
     ]
    }
   ],
   "source": [
    "def f(x):\n",
    "    if x <= 3:\n",
    "        return 0\n",
    "    elif 3 < x <= 5:\n",
    "        return 4\n",
    "    elif 5 < x <= 6:\n",
    "        return 5\n",
    "    elif 6 < x <= 7:\n",
    "        return 6\n",
    "    elif 7 < x <= 9:\n",
    "        return 8\n",
    "    else:\n",
    "        return 10\n",
    "\n",
    "vector = np.array([1, 5, 4, 7, 3, 9, 8, 6])\n",
    "\n",
    "f_vectorized = np.vectorize(f)\n",
    "resultado = f_vectorized(vector)\n",
    "\n",
    "print(\"Vector original:\")\n",
    "print(vector)\n",
    "\n",
    "print(\"\\nVector después de aplicar la función f:\")\n",
    "print(resultado)"
   ]
  },
  {
   "cell_type": "markdown",
   "metadata": {},
   "source": [
    "Ejercicio 12\n",
    "Muestra con numpy el número de dimensiones de los siguientes arrays:\n",
    "\n",
    "\n",
    "a=[2, 3, 5, 7, 11, 13, 17, 19, 23, 29, 31, 37]\n",
    "\n",
    "\n",
    "\n",
    "\n",
    "b=[[2, 3], [5, 7], [11, 13], [17, 19], [23, 29], [31, 37]]\n",
    "\n",
    "\n",
    "\n",
    "\n",
    "c=[[[2, 3], [5, 7]], [[11, 13], [17, 19]], [[23, 29], [31, 37]]]\n",
    "\n"
   ]
  },
  {
   "cell_type": "code",
   "execution_count": 39,
   "metadata": {},
   "outputs": [
    {
     "name": "stdout",
     "output_type": "stream",
     "text": [
      "Número de dimensiones de array_a: 1\n",
      "Número de dimensiones de array_b: 2\n",
      "Número de dimensiones de array_c: 3\n"
     ]
    }
   ],
   "source": [
    "a = [2, 3, 5, 7, 11, 13, 17, 19, 23, 29, 31, 37]\n",
    "b = [[2, 3], [5, 7], [11, 13], [17, 19], [23, 29], [31, 37]]\n",
    "c = [[[2, 3], [5, 7]], [[11, 13], [17, 19]], [[23, 29], [31, 37]]]\n",
    "\n",
    "array_a = np.array(a)\n",
    "array_b = np.array(b)\n",
    "array_c = np.array(c)\n",
    "\n",
    "print(\"Número de dimensiones de array_a:\", array_a.ndim)\n",
    "print(\"Número de dimensiones de array_b:\", array_b.ndim)\n",
    "print(\"Número de dimensiones de array_c:\", array_c.ndim)"
   ]
  },
  {
   "cell_type": "markdown",
   "metadata": {},
   "source": [
    "Crea una función llamada mostrar_tamanyo que le pasemos un array de numpy y nos imprima el tamaño de cada una de las dimensiones. \n",
    "Por ejemplo con el array [ [ [2, 3], [5, 7]], [ [11, 13], [17, 19]], [ [23, 29], [31, 37] ] ] deberá mostrar\n",
    "- El nº de elementos de la dimension 0 es 3\n",
    "- El nº de elementos de la dimension 1 es 2\n",
    "- El nº de elementos de la dimension 2 es 2\n",
    "\n",
    "Prueba también con los siguientes arrays\n",
    "\n",
    "\n",
    "a=[2, 3, 5, 7, 11, 13, 17, 19, 23, 29, 31, 37]\n",
    "\n",
    "\n",
    "\n",
    "\n",
    "b=[[2, 3], [5, 7], [11, 13], [17, 19], [23, 29], [31, 37]]\n",
    "\n",
    "\n",
    "\n",
    "\n",
    "c=[[[2, 3], [5, 7]], [[11, 13], [17, 19]], [[23, 29], [31, 37]]]\n",
    "\n"
   ]
  },
  {
   "cell_type": "code",
   "execution_count": 40,
   "metadata": {},
   "outputs": [
    {
     "name": "stdout",
     "output_type": "stream",
     "text": [
      "Array a:\n",
      "El nº de elementos de la dimension 0 es 12\n",
      "\n",
      "Array b:\n",
      "El nº de elementos de la dimension 0 es 6\n",
      "El nº de elementos de la dimension 1 es 2\n",
      "\n",
      "Array c:\n",
      "El nº de elementos de la dimension 0 es 3\n",
      "El nº de elementos de la dimension 1 es 2\n",
      "El nº de elementos de la dimension 2 es 2\n"
     ]
    }
   ],
   "source": [
    "def mostrar_tamanyo(array):\n",
    "    for i, size in enumerate(array.shape):\n",
    "        print(f\"El nº de elementos de la dimension {i} es {size}\")\n",
    "\n",
    "a = np.array([2, 3, 5, 7, 11, 13, 17, 19, 23, 29, 31, 37])\n",
    "b = np.array([[2, 3], [5, 7], [11, 13], [17, 19], [23, 29], [31, 37]])\n",
    "c = np.array([[[2, 3], [5, 7]], [[11, 13], [17, 19]], [[23, 29], [31, 37]]])\n",
    "\n",
    "print(\"Array a:\")\n",
    "mostrar_tamanyo(a)\n",
    "print(\"\\nArray b:\")\n",
    "mostrar_tamanyo(b)\n",
    "print(\"\\nArray c:\")\n",
    "mostrar_tamanyo(c)"
   ]
  },
  {
   "cell_type": "markdown",
   "metadata": {},
   "source": [
    "Ejercicio 14\n",
    "Muestra con numpy el tipo de datos de los siguientes arrays:\n",
    "\n",
    "\n",
    "a=[2, 3, 5]\n",
    "\n",
    "\n",
    "\n",
    "\n",
    "b=[2.4, 3.2, 5.6]\n",
    "\n",
    "\n",
    "\n",
    "\n",
    "c=[2, 3, 5.6]\n",
    "\n",
    "\n"
   ]
  },
  {
   "cell_type": "code",
   "execution_count": 53,
   "metadata": {},
   "outputs": [
    {
     "name": "stdout",
     "output_type": "stream",
     "text": [
      "Tipo de datos de array_a: int64\n",
      "Tipo de datos de array_b: float64\n",
      "Tipo de datos de array_c: float64\n"
     ]
    }
   ],
   "source": [
    "a = [2, 3, 5]\n",
    "b = [2.4, 3.2, 5.6]\n",
    "c = [2, 3, 5.6]\n",
    "\n",
    "array_a = np.array(a)\n",
    "array_b = np.array(b)\n",
    "array_c = np.array(c)\n",
    "\n",
    "print(\"Tipo de datos de array_a:\", array_a.dtype)\n",
    "print(\"Tipo de datos de array_b:\", array_b.dtype)\n",
    "print(\"Tipo de datos de array_c:\", array_c.dtype)"
   ]
  },
  {
   "cell_type": "markdown",
   "metadata": {},
   "source": [
    "Ejercicio 15\n",
    "Transforma el siguiente array en 8 bits sin signo y muestra cuánto ocupa en memoria\n",
    "\n",
    "\n",
    "a=np.array([1, -2, 3])\n",
    "\n",
    "\n",
    "Transforma el siguiente array en 8 bits sin signo y muestra cuánto ocupa en memoria\n",
    "\n",
    "\n",
    "b=np.array([1,254,255])\n",
    "\n",
    "\n",
    "Transforma el siguiente array en 8 bits con signo y muestra cuánto ocupa en memoria\n",
    "\n",
    "\n",
    "b=np.array([1,127,128])\n",
    "\n",
    "\n",
    "Transforma el siguiente array en 8 bits con signo y muestra cuánto ocupa en memoria\n",
    "\n",
    "\n",
    "b=np.array([1,-128,-129])\n",
    "\n",
    "Transforma el siguiente array en float32 y muestra cuánto ocupa en memoria\n",
    "\n",
    "\n",
    "b=np.array([1,2,3])\n",
    "\n",
    "\n",
    "Transforma el siguiente array en int32 y muestra cuánto ocupa en memoria\n",
    "\n",
    "\n",
    "b=np.array([1.9,2.01,3.51])\n",
    "\n"
   ]
  },
  {
   "cell_type": "code",
   "execution_count": 54,
   "metadata": {},
   "outputs": [
    {
     "name": "stdout",
     "output_type": "stream",
     "text": [
      "Array a transformado a 8 bits sin signo: [  1 254   3]\n",
      "Memoria ocupada por a: 3 bytes\n",
      "\n",
      "Array b transformado a 8 bits sin signo: [  1 254 255]\n",
      "Memoria ocupada por b: 3 bytes\n",
      "\n",
      "Array b transformado a 8 bits con signo: [   1  127 -128]\n",
      "Memoria ocupada por b: 3 bytes\n",
      "\n",
      "Array b transformado a 8 bits con signo: [   1 -128  127]\n",
      "Memoria ocupada por b: 3 bytes\n",
      "\n",
      "Array b transformado a float32: [1. 2. 3.]\n",
      "Memoria ocupada por b: 12 bytes\n",
      "\n",
      "Array b transformado a int32: [1 2 3]\n",
      "Memoria ocupada por b: 12 bytes\n"
     ]
    },
    {
     "name": "stderr",
     "output_type": "stream",
     "text": [
      "/tmp/ipykernel_16254/4258162009.py:3: DeprecationWarning: NumPy will stop allowing conversion of out-of-bound Python integers to integer arrays.  The conversion of -2 to uint8 will fail in the future.\n",
      "For the old behavior, usually:\n",
      "    np.array(value).astype(dtype)\n",
      "will give the desired result (the cast overflows).\n",
      "  a = np.array([1, -2, 3], dtype=np.uint8)\n",
      "/tmp/ipykernel_16254/4258162009.py:11: DeprecationWarning: NumPy will stop allowing conversion of out-of-bound Python integers to integer arrays.  The conversion of 128 to int8 will fail in the future.\n",
      "For the old behavior, usually:\n",
      "    np.array(value).astype(dtype)\n",
      "will give the desired result (the cast overflows).\n",
      "  b = np.array([1, 127, 128], dtype=np.int8)\n",
      "/tmp/ipykernel_16254/4258162009.py:15: DeprecationWarning: NumPy will stop allowing conversion of out-of-bound Python integers to integer arrays.  The conversion of -129 to int8 will fail in the future.\n",
      "For the old behavior, usually:\n",
      "    np.array(value).astype(dtype)\n",
      "will give the desired result (the cast overflows).\n",
      "  b = np.array([1, -128, -129], dtype=np.int8)\n"
     ]
    }
   ],
   "source": [
    "import numpy as np\n",
    "\n",
    "a = np.array([1, -2, 3], dtype=np.uint8)\n",
    "print(\"Array a transformado a 8 bits sin signo:\", a)\n",
    "print(\"Memoria ocupada por a:\", a.nbytes, \"bytes\")\n",
    "\n",
    "b = np.array([1, 254, 255], dtype=np.uint8)\n",
    "print(\"\\nArray b transformado a 8 bits sin signo:\", b)\n",
    "print(\"Memoria ocupada por b:\", b.nbytes, \"bytes\")\n",
    "\n",
    "b = np.array([1, 127, 128], dtype=np.int8)\n",
    "print(\"\\nArray b transformado a 8 bits con signo:\", b)\n",
    "print(\"Memoria ocupada por b:\", b.nbytes, \"bytes\")\n",
    "\n",
    "b = np.array([1, -128, -129], dtype=np.int8)\n",
    "print(\"\\nArray b transformado a 8 bits con signo:\", b)\n",
    "print(\"Memoria ocupada por b:\", b.nbytes, \"bytes\")\n",
    "\n",
    "b = np.array([1, 2, 3], dtype=np.float32)\n",
    "print(\"\\nArray b transformado a float32:\", b)\n",
    "print(\"Memoria ocupada por b:\", b.nbytes, \"bytes\")\n",
    "\n",
    "b = np.array([1.9, 2.01, 3.51], dtype=np.int32)\n",
    "print(\"\\nArray b transformado a int32:\", b)\n",
    "print(\"Memoria ocupada por b:\", b.nbytes, \"bytes\")"
   ]
  },
  {
   "cell_type": "markdown",
   "metadata": {},
   "source": [
    "Ejercicio 16\n",
    "- En ejercicios anteriores obtuviste para el problema de las flores, una matriz x y un vector y.\n",
    "- Une los datos en una nueva matriz de forma que cada fila de la nueva matriz contenga los datos de cada fila de la x y el dato correspondiente de la y.\n"
   ]
  },
  {
   "cell_type": "code",
   "execution_count": 55,
   "metadata": {},
   "outputs": [
    {
     "name": "stdout",
     "output_type": "stream",
     "text": [
      "Matriz x:\n",
      "[[5.1 3.5 1.4 0.2]\n",
      " [4.9 3.  1.4 0.2]\n",
      " [4.7 3.2 1.3 0.2]]\n",
      "\n",
      "Vector y:\n",
      "[[0]\n",
      " [1]\n",
      " [2]]\n",
      "\n",
      "Nueva matriz:\n",
      "[[5.1 3.5 1.4 0.2 0. ]\n",
      " [4.9 3.  1.4 0.2 1. ]\n",
      " [4.7 3.2 1.3 0.2 2. ]]\n"
     ]
    }
   ],
   "source": [
    "import numpy as np\n",
    "\n",
    "x = np.array([[5.1, 3.5, 1.4, 0.2],\n",
    "              [4.9, 3.0, 1.4, 0.2],\n",
    "              [4.7, 3.2, 1.3, 0.2]])\n",
    "\n",
    "y = np.array([0, 1, 2])\n",
    "\n",
    "y = y.reshape(-1, 1) \n",
    "\n",
    "nueva_matriz = np.hstack((x, y))\n",
    "\n",
    "print(\"Matriz x:\")\n",
    "print(x)\n",
    "\n",
    "print(\"\\nVector y:\")\n",
    "print(y)\n",
    "\n",
    "print(\"\\nNueva matriz:\")\n",
    "print(nueva_matriz)"
   ]
  },
  {
   "cell_type": "markdown",
   "metadata": {},
   "source": [
    "Dado el siguiente código python:\n",
    "import matplotlib.pyplot as plt\n",
    "import numpy as np\n",
    "figure=plt.figure(figsize=(8,8))\n",
    "axes = figure.add_subplot()\n",
    "x=[-3,-2,-1,0,1,2,3]\n",
    "y =  3*(1 - x)**2 * np.exp(-x**2 )  - 10*(x/5 - x**3 )*np.exp(-x**2 ) - 1./3*np.exp(-(x + 1)**2 )\n",
    "axes.plot(x,y)\n",
    "\n",
    "\n",
    "\n",
    "Modifica el código que genera la variable x para que sea un array de numpy y de tipo float. Muestra la imagen\n",
    "Modifica el código que genera la variable x para que sean 10 valores entre el [-3,3]. Muestra la imagen\n",
    "Modifica el código que genera la variable x para que sean 20 valores entre el [-3,3]. Muestra la imagen\n",
    "Modifica el código que genera la variable x para que sean 40 valores entre el [-3,3]. Muestra la imagen\n",
    "Modifica el código que genera la variable x para que sean 60 valores entre el [-3,3]. Muestra la imagen\n",
    "Modifica el código que genera la variable x para que sean 100 valores entre el [-3,3]. Muestra la imagen\n"
   ]
  },
  {
   "cell_type": "code",
   "execution_count": 70,
   "metadata": {},
   "outputs": [
    {
     "data": {
      "image/png": "[encoded data removed]",
      "text/plain": [
       "<Figure size 800x800 with 1 Axes>"
      ]
     },
     "metadata": {},
     "output_type": "display_data"
    }
   ],
   "source": [
    "import matplotlib.pyplot as plt\n",
    "import numpy as np\n",
    "\n",
    "figure = plt.figure(figsize=(8, 8))\n",
    "axes = figure.add_subplot()\n",
    "\n",
    "x = np.array([-3, -2, -1, 0, 1, 2, 3])\n",
    "y = 3 * (1 - x)**2 * np.exp(-x**2) - 10 * (x / 5 - x**3) * np.exp(-x**2) - 1./3 * np.exp(-(x + 1)**2)\n",
    "axes.plot(x, y)\n",
    "\n",
    "plt.show()"
   ]
  },
  {
   "cell_type": "code",
   "execution_count": 58,
   "metadata": {},
   "outputs": [
    {
     "data": {
      "image/png": "[encoded data removed]",
      "text/plain": [
       "<Figure size 800x800 with 1 Axes>"
      ]
     },
     "metadata": {},
     "output_type": "display_data"
    }
   ],
   "source": [
    "import matplotlib.pyplot as plt\n",
    "import numpy as np\n",
    "\n",
    "figure = plt.figure(figsize=(8, 8))\n",
    "axes = figure.add_subplot()\n",
    "\n",
    "# Generar 10 valores entre [-3, 3]\n",
    "x = np.linspace(-3, 3, 10)\n",
    "y = 3 * (1 - x)**2 * np.exp(-x**2) - 10 * (x / 5 - x**3) * np.exp(-x**2) - 1./3 * np.exp(-(x + 1)**2)\n",
    "axes.plot(x, y)\n",
    "\n",
    "plt.show()"
   ]
  },
  {
   "cell_type": "code",
   "execution_count": 59,
   "metadata": {},
   "outputs": [
    {
     "data": {
      "image/png": "[encoded data removed]",
      "text/plain": [
       "<Figure size 800x800 with 1 Axes>"
      ]
     },
     "metadata": {},
     "output_type": "display_data"
    }
   ],
   "source": [
    "import matplotlib.pyplot as plt\n",
    "import numpy as np\n",
    "\n",
    "figure = plt.figure(figsize=(8, 8))\n",
    "axes = figure.add_subplot()\n",
    "\n",
    "# Generar 20 valores entre [-3, 3]\n",
    "x = np.linspace(-3, 3, 20)\n",
    "y = 3 * (1 - x)**2 * np.exp(-x**2) - 10 * (x / 5 - x**3) * np.exp(-x**2) - 1./3 * np.exp(-(x + 1)**2)\n",
    "axes.plot(x, y)\n",
    "\n",
    "plt.show()"
   ]
  },
  {
   "cell_type": "code",
   "execution_count": 60,
   "metadata": {},
   "outputs": [
    {
     "data": {
      "image/png": "[encoded data removed]",
      "text/plain": [
       "<Figure size 800x800 with 1 Axes>"
      ]
     },
     "metadata": {},
     "output_type": "display_data"
    }
   ],
   "source": [
    "import matplotlib.pyplot as plt\n",
    "import numpy as np\n",
    "\n",
    "figure = plt.figure(figsize=(8, 8))\n",
    "axes = figure.add_subplot()\n",
    "\n",
    "# Generar 40 valores entre [-3, 3]\n",
    "x = np.linspace(-3, 3, 40)\n",
    "y = 3 * (1 - x)**2 * np.exp(-x**2) - 10 * (x / 5 - x**3) * np.exp(-x**2) - 1./3 * np.exp(-(x + 1)**2)\n",
    "axes.plot(x, y)\n",
    "\n",
    "plt.show()"
   ]
  },
  {
   "cell_type": "code",
   "execution_count": 61,
   "metadata": {},
   "outputs": [
    {
     "data": {
      "image/png": "[encoded data removed]",
      "text/plain": [
       "<Figure size 800x800 with 1 Axes>"
      ]
     },
     "metadata": {},
     "output_type": "display_data"
    }
   ],
   "source": [
    "import matplotlib.pyplot as plt\n",
    "import numpy as np\n",
    "\n",
    "figure = plt.figure(figsize=(8, 8))\n",
    "axes = figure.add_subplot()\n",
    "\n",
    "# Generar 60 valores entre [-3, 3]\n",
    "x = np.linspace(-3, 3, 60)\n",
    "y = 3 * (1 - x)**2 * np.exp(-x**2) - 10 * (x / 5 - x**3) * np.exp(-x**2) - 1./3 * np.exp(-(x + 1)**2)\n",
    "axes.plot(x, y)\n",
    "\n",
    "plt.show()"
   ]
  },
  {
   "cell_type": "code",
   "execution_count": 62,
   "metadata": {},
   "outputs": [
    {
     "data": {
      "image/png": "[encoded data removed]",
      "text/plain": [
       "<Figure size 800x800 with 1 Axes>"
      ]
     },
     "metadata": {},
     "output_type": "display_data"
    }
   ],
   "source": [
    "import matplotlib.pyplot as plt\n",
    "import numpy as np\n",
    "\n",
    "figure = plt.figure(figsize=(8, 8))\n",
    "axes = figure.add_subplot()\n",
    "\n",
    "# Generar 100 valores entre [-3, 3]\n",
    "x = np.linspace(-3, 3, 100)\n",
    "y = 3 * (1 - x)**2 * np.exp(-x**2) - 10 * (x / 5 - x**3) * np.exp(-x**2) - 1./3 * np.exp(-(x + 1)**2)\n",
    "axes.plot(x, y)\n",
    "\n",
    "plt.show()"
   ]
  },
  {
   "cell_type": "markdown",
   "metadata": {},
   "source": [
    "Carga con numpy el fichero wine.csv que contiene una matriz de números separados por coma.\n",
    "La matriz contiene una serie de columnas con características del vino y la última columna indica el tipo del vino.\n",
    "Crea una función en python llamada imprimir_datos y tendrá como parámetro una matriz de numpy de forma que:\n",
    "Imprima cuantas características tenemos de cada tipo de vino.\n",
    "Imprima cuantas muestra de vino tenemos\n",
    "Imprima cuantos tipos distintos de vino tenemos y cuales son\n",
    "Imprima los valores máximos y mínimos de cada característica\n",
    "Retorna una nueva matriz llamada x solo con las características y un nuevo array llamado y solo con los tipos de vino\n",
    "Llama a la función imprimir_datos con los datos de wine.csv\n"
   ]
  },
  {
   "cell_type": "code",
   "execution_count": 64,
   "metadata": {},
   "outputs": [
    {
     "name": "stdout",
     "output_type": "stream",
     "text": [
      "Tenemos 59 características del tipo de vino 0\n",
      "Tenemos 71 características del tipo de vino 1\n",
      "Tenemos 48 características del tipo de vino 2\n",
      "\n",
      "Tenemos 178 muestras de vino\n",
      "\n",
      "Tenemos 3 tipos distintos de vino: [0 1 2]\n",
      "\n",
      "Característica 1:\n",
      "Valor máximo: 14.83\n",
      "Valor mínimo: 11.03\n",
      "\n",
      "Característica 2:\n",
      "Valor máximo: 5.8\n",
      "Valor mínimo: 0.74\n",
      "\n",
      "Característica 3:\n",
      "Valor máximo: 3.23\n",
      "Valor mínimo: 1.36\n",
      "\n",
      "Característica 4:\n",
      "Valor máximo: 30.0\n",
      "Valor mínimo: 10.6\n",
      "\n",
      "Característica 5:\n",
      "Valor máximo: 162.0\n",
      "Valor mínimo: 70.0\n",
      "\n",
      "Característica 6:\n",
      "Valor máximo: 3.88\n",
      "Valor mínimo: 0.98\n",
      "\n",
      "Característica 7:\n",
      "Valor máximo: 5.08\n",
      "Valor mínimo: 0.34\n",
      "\n",
      "Característica 8:\n",
      "Valor máximo: 0.66\n",
      "Valor mínimo: 0.13\n",
      "\n",
      "Característica 9:\n",
      "Valor máximo: 3.58\n",
      "Valor mínimo: 0.41\n",
      "\n",
      "Característica 10:\n",
      "Valor máximo: 13.0\n",
      "Valor mínimo: 1.28\n",
      "\n",
      "Característica 11:\n",
      "Valor máximo: 1.71\n",
      "Valor mínimo: 0.48\n",
      "\n",
      "Característica 12:\n",
      "Valor máximo: 4.0\n",
      "Valor mínimo: 1.27\n",
      "\n",
      "Característica 13:\n",
      "Valor máximo: 1680.0\n",
      "Valor mínimo: 278.0\n"
     ]
    }
   ],
   "source": [
    "import numpy as np\n",
    "\n",
    "# Cargar el fichero wine.csv\n",
    "data = np.genfromtxt('wine.csv', delimiter=',')\n",
    "\n",
    "# Definir la función imprimir_datos\n",
    "def imprimir_datos(matriz):\n",
    "    # Separar las características y los tipos de vino\n",
    "    x = matriz[:, :-1]\n",
    "    y = matriz[:, -1]\n",
    "    \n",
    "    # Imprimir cuántas características tenemos de cada tipo de vino\n",
    "    tipos, counts = np.unique(y, return_counts=True)\n",
    "    for tipo, count in zip(tipos, counts):\n",
    "        print(f\"Tenemos {count} características del tipo de vino {int(tipo)}\")\n",
    "    \n",
    "    # Imprimir cuántas muestras de vino tenemos\n",
    "    print(f\"\\nTenemos {matriz.shape[0]} muestras de vino\")\n",
    "    \n",
    "    # Imprimir cuántos tipos distintos de vino tenemos y cuáles son\n",
    "    print(f\"\\nTenemos {len(tipos)} tipos distintos de vino: {tipos.astype(int)}\")\n",
    "    \n",
    "    # Imprimir los valores máximos y mínimos de cada característica\n",
    "    max_values = np.max(x, axis=0)\n",
    "    min_values = np.min(x, axis=0)\n",
    "    for i in range(x.shape[1]):\n",
    "        print(f\"\\nCaracterística {i+1}:\")\n",
    "        print(f\"Valor máximo: {max_values[i]}\")\n",
    "        print(f\"Valor mínimo: {min_values[i]}\")\n",
    "    \n",
    "    return x, y\n",
    "\n",
    "# Llamar a la función imprimir_datos con los datos de wine.csv\n",
    "x, y = imprimir_datos(data)"
   ]
  },
  {
   "cell_type": "markdown",
   "metadata": {},
   "source": [
    "Tienes los datos de las ventas diarias de una tienda durante un año. Los datos incluyen ventas anormalmente altas debido a días festivos o promociones. El objetivo es limpiar los datos eliminando estos valores atípicos y analizar la tendencia general de ventas.\n",
    "\n",
    "\n",
    "\n",
    "np.random.seed(0)\n",
    "# Ventas diarias simuladas con media 500 y desviación estándar 50\n",
    "sales_data = np.random.normal(500, 50, 365)  \n",
    "# Ventas atípicas por promociones\n",
    "sales_data[[50, 120, 180, 250, 300]] = [1500, 1400, 1600, 1700, 1800]  \n",
    "\n",
    "\n",
    "Detecta y elimina los valores atípicos (aquellos que están fuera de 3 desviaciones estándar del promedio).\n",
    "Calcula el promedio, la mediana y la desviación estándar de las ventas después de limpiar los datos.\n",
    "Genera una vista de las ventas de cada trimestre (3 primeros meses, 3 siguientes, etc.).\n",
    "Encuentra los 5 días con las ventas más bajas después de la limpieza de los datos.\n",
    "\n"
   ]
  },
  {
   "cell_type": "code",
   "execution_count": 65,
   "metadata": {},
   "outputs": [
    {
     "name": "stdout",
     "output_type": "stream",
     "text": [
      "Promedio de ventas después de limpiar los datos: 499.59745244819544\n",
      "Mediana de ventas después de limpiar los datos: 497.6293888017453\n",
      "Desviación estándar de ventas después de limpiar los datos: 49.581188263372624\n",
      "\n",
      "Ventas del primer trimestre: [588.2026173  520.00786042 548.93689921 612.04465996 593.37789951\n",
      " 451.13610601 547.50442088 492.43213959 494.83905741 520.5299251\n",
      " 507.20217856 572.71367535 538.05188626 506.08375082 522.19316164\n",
      " 516.68371637 574.70395366 489.74208681 515.65338508 457.29521303\n",
      " 372.35050921 532.68092977 543.22180994 462.89174898 613.4877312\n",
      " 427.28171627 502.28792587 490.6408075  576.63896072 573.4679385\n",
      " 507.74737128 518.90812598 455.61071262 400.96017659 482.60439253\n",
      " 507.81744846 561.51453404 560.11899244 480.63365913 484.88486247\n",
      " 447.57235175 428.99910314 414.68649047 597.53876976 474.51739091\n",
      " 478.09628492 437.360232   538.87451779 419.30510762 489.36298599\n",
      " 519.34512489 474.45974312 440.96839079 498.59088858 521.41659353\n",
      " 503.32586112 515.12359489 468.28389532 481.8629417  466.37697761\n",
      " 482.02234192 459.3426859  413.68586988 508.87130711 479.91095319\n",
      " 418.49008265 523.13911278 454.63508178 502.59726979 536.45452811\n",
      " 506.44914554 556.97003423 438.25870898 520.11708206 465.75949545\n",
      " 456.46014254 471.05751676 484.42237339 502.80826711 441.74250796\n",
      " 545.04132435 523.28312199 423.18781569 574.41260969 594.7944588\n",
      " 558.93897856 491.00375821 446.46236892 552.72258635 479.84115265]\n",
      "Ventas del segundo trimestre: [561.12225352 510.4137489  548.83195182 517.81831986 535.32865841\n",
      " 500.52500104 589.2935247  506.34560464 520.09946817 594.15753485\n",
      " 432.61204694 436.47575008 548.46983541 441.34382974 597.18105928\n",
      " 479.31905096 462.62725943 596.14710132 574.02573957 593.37794802\n",
      " 545.30223291 456.93871575 595.50324765 486.59983145 540.12281979\n",
      " 547.36259839 492.24949535 530.70396852 546.11033358 445.02996047\n",
      " 514.91190871 566.31929483 465.27160701 492.51827298 478.24232241\n",
      " 592.46318642 533.61473785 520.37309181 461.50419628 526.96245956\n",
      " 466.28336697 501.59152791 468.20769608 533.82166475 528.82954083\n",
      " 489.58506222 519.80033563 445.34692456 425.43712036 521.96958506\n",
      " 508.33367477 531.75157184 619.15723874 547.22397435 454.35888873\n",
      " 555.8508144  434.20462947 476.92076976 496.58791973 585.66713608\n",
      " 462.7622589  458.67807307 495.07737378 466.82608568 556.33179611\n",
      " 446.00342458 442.62656738 478.10899776 475.09837747 596.47660269\n",
      " 547.47104035 504.37756207 438.72822406 542.21814882 449.98923263\n",
      " 422.76144516 559.40148962 515.8471306  546.04294119 515.93638265\n",
      " 542.8415306  467.44872033 448.28785791 534.07972591 459.82951679\n",
      " 465.52251111 477.22337482 500.87395795 431.25243533 467.81907986]\n",
      "Ventas del tercer trimestre: [388.82984239 531.26157255 419.89711722 444.78083303 502.60825396\n",
      " 463.02185018 577.15072977 435.35715451 513.35254347 498.03585909\n",
      " 441.59532511 526.16383303 491.42268344 538.58952756 541.1752077\n",
      " 608.16179746 566.82639747 481.5409081  488.03104112 554.98297979\n",
      " 532.76318654 532.0065763  419.15219778 498.78369378 463.09845454\n",
      " 513.99622995 495.09248052 545.5089454  515.86091076 539.31639811\n",
      " 476.67904516 452.7776872  479.49751534 499.14897931 518.95758678\n",
      " 612.96544753 497.88714242 452.20274998 482.70091122 476.82020127\n",
      " 524.07407369 422.96014928 503.16309971 507.8253269  511.60905181\n",
      " 470.13419655 488.10391351 428.79695455 475.33400583 472.8569262\n",
      " 520.80250231 442.19087841 539.05990509 574.72422722 396.50074875\n",
      " 521.31293654 533.84540175 468.12814872 480.13640928 493.35597112\n",
      " 485.11045603 484.54935155 416.19980968 557.61657824 553.9809296\n",
      " 459.33178704 426.67878361 471.21060151 507.09765817 484.03357914\n",
      " 534.57693755 534.73745718 463.72013108 430.83180223 420.85308013\n",
      " 530.51896896 440.55703711 474.65918229 470.18429808 497.37163519\n",
      " 403.18600971 509.43892984 526.19455119 504.42110435 484.45569142\n",
      " 504.87000831 519.95231728 361.37036218 597.79561541 519.50466613]\n",
      "Ventas del cuarto trimestre: [467.37957088 480.45233124 524.68708887 494.19480305 398.46577661\n",
      " 603.22464307 494.47296714 551.00863559 465.39750761 576.81885271\n",
      " 514.31718444 530.44219172 447.73733169 560.55726448 534.49090823\n",
      " 565.09231148 468.59562202 475.94864408 615.19583488 446.99920886\n",
      " 493.20251497 556.84456813 504.88624839 529.14768399 480.02754854\n",
      " 518.50279439 582.90653398 494.09179774 465.9910898  533.3191541\n",
      " 476.96401063 433.28707643 432.66412471 534.68865763 492.02132809\n",
      " 493.31492202 553.8871903  443.65870956 463.46611236 480.75600954\n",
      " 504.71757947 497.89142744 485.65564038 496.9186799  494.63473619\n",
      " 464.01978057 459.35035057 513.72581789 455.45424585 442.13223704\n",
      " 484.38538744 492.11664919 612.83617486 464.76498621 547.16303625\n",
      " 537.35941671 440.55275224 538.66264887 440.80596799 367.0413881\n",
      " 530.31597622 412.20547083 522.54672309 465.79945511 582.97753981\n",
      " 553.42546997 477.33070981 465.60811945 439.29612985 477.95386839\n",
      " 485.98222524 481.76532278 507.83519276 528.92607489 517.48272285\n",
      " 461.7928038  428.11042631 568.22659241 465.52754077 467.38532\n",
      " 473.94053438 407.84652249 476.1012998  476.0172093  531.01791492\n",
      " 534.92285746 500.18854445 546.59241871 516.99824919 499.21589442]\n",
      "\n",
      "5 días con las ventas más bajas después de la limpieza de los datos: [267 329  20 180 234]\n",
      "Ventas en esos días: [361.37036218 367.0413881  372.35050921 388.82984239 396.50074875]\n"
     ]
    }
   ],
   "source": [
    "import numpy as np\n",
    "\n",
    "# Generar los datos de ventas diarias\n",
    "np.random.seed(0)\n",
    "sales_data = np.random.normal(500, 50, 365)\n",
    "sales_data[[50, 120, 180, 250, 300]] = [1500, 1400, 1600, 1700, 1800]\n",
    "\n",
    "# Detectar y eliminar los valores atípicos\n",
    "mean_sales = np.mean(sales_data)\n",
    "std_sales = np.std(sales_data)\n",
    "threshold = 3 * std_sales\n",
    "\n",
    "# Filtrar los datos para eliminar los valores atípicos\n",
    "cleaned_sales_data = sales_data[np.abs(sales_data - mean_sales) <= threshold]\n",
    "\n",
    "# Calcular el promedio, la mediana y la desviación estándar de las ventas después de limpiar los datos\n",
    "mean_cleaned = np.mean(cleaned_sales_data)\n",
    "median_cleaned = np.median(cleaned_sales_data)\n",
    "std_cleaned = np.std(cleaned_sales_data)\n",
    "\n",
    "# Generar una vista de las ventas de cada trimestre\n",
    "q1_sales = cleaned_sales_data[:90]\n",
    "q2_sales = cleaned_sales_data[90:180]\n",
    "q3_sales = cleaned_sales_data[180:270]\n",
    "q4_sales = cleaned_sales_data[270:]\n",
    "\n",
    "# Encontrar los 5 días con las ventas más bajas después de la limpieza de los datos\n",
    "lowest_sales_days = np.argsort(cleaned_sales_data)[:5]\n",
    "\n",
    "# Imprimir los resultados\n",
    "print(\"Promedio de ventas después de limpiar los datos:\", mean_cleaned)\n",
    "print(\"Mediana de ventas después de limpiar los datos:\", median_cleaned)\n",
    "print(\"Desviación estándar de ventas después de limpiar los datos:\", std_cleaned)\n",
    "\n",
    "print(\"\\nVentas del primer trimestre:\", q1_sales)\n",
    "print(\"Ventas del segundo trimestre:\", q2_sales)\n",
    "print(\"Ventas del tercer trimestre:\", q3_sales)\n",
    "print(\"Ventas del cuarto trimestre:\", q4_sales)\n",
    "\n",
    "print(\"\\n5 días con las ventas más bajas después de la limpieza de los datos:\", lowest_sales_days)\n",
    "print(\"Ventas en esos días:\", cleaned_sales_data[lowest_sales_days])"
   ]
  },
  {
   "cell_type": "markdown",
   "metadata": {},
   "source": [
    "Tienes un conjunto de datos que contiene información demográfica de varias personas, incluyendo edad, ingresos anuales, y nivel de educación. El objetivo es realizar un análisis y encontrar patrones significativos entre estas variables.\n",
    "\n",
    "np.random.seed(3)\n",
    "ages = np.random.randint(18, 70, size=200)  # Edades de 200 personas\n",
    "income = np.random.normal(50000, 15000, size=200)  # Ingresos anuales en un rango normal alrededor de 50,000\n",
    "education_years = np.random.randint(0, 20, size=200)  # Años de educación formal\n",
    "\n",
    "\n",
    "Calcula la correlación entre los años de educación y los ingresos.\n",
    "Divide a las personas en grupos de edades (18-30, 31-45, 46-60, 61+) y calcula el ingreso promedio por grupo.\n",
    "Encuentra el percentil 90 de ingresos y determina cuántas personas ganan por encima de ese valor.\n",
    "Agrupa los datos en función del número de años de educación y calcula el promedio de ingresos para cada grupo.\n",
    "\n",
    "Para calcular la correlación utiliza la función corrcoef.\n",
    "\n",
    "Para encontrar el percentil 90 utiliza la función percentile.\n"
   ]
  },
  {
   "cell_type": "code",
   "execution_count": 66,
   "metadata": {},
   "outputs": [
    {
     "name": "stdout",
     "output_type": "stream",
     "text": [
      "Correlación entre años de educación e ingresos: 0.011391118176642918\n",
      "Ingreso promedio para el grupo de edad 18-30: 48721.34764297592\n",
      "Ingreso promedio para el grupo de edad 31-45: 51530.90755375498\n",
      "Ingreso promedio para el grupo de edad 46-60: 50692.65084047985\n",
      "Ingreso promedio para el grupo de edad 61-70: 54879.98455882385\n",
      "\n",
      "Percentil 90 de ingresos: 71874.39695080549\n",
      "Número de personas que ganan por encima del percentil 90: 20\n",
      "Promedio de ingresos para 0 años de educación: 57612.66375034938\n",
      "Promedio de ingresos para 1 años de educación: 52935.745972603014\n",
      "Promedio de ingresos para 2 años de educación: 49788.25314559516\n",
      "Promedio de ingresos para 3 años de educación: 56666.56489997413\n",
      "Promedio de ingresos para 4 años de educación: 43664.765577452716\n",
      "Promedio de ingresos para 5 años de educación: 40515.89774739416\n",
      "Promedio de ingresos para 6 años de educación: 49487.56288285374\n",
      "Promedio de ingresos para 7 años de educación: 47508.15027321213\n",
      "Promedio de ingresos para 8 años de educación: 39668.01991611591\n",
      "Promedio de ingresos para 9 años de educación: 48373.114190473614\n",
      "Promedio de ingresos para 10 años de educación: 53053.598727580655\n",
      "Promedio de ingresos para 11 años de educación: 49049.38870920908\n",
      "Promedio de ingresos para 12 años de educación: 48043.07450822107\n",
      "Promedio de ingresos para 13 años de educación: 54938.16329544719\n",
      "Promedio de ingresos para 14 años de educación: 51992.31288652752\n",
      "Promedio de ingresos para 15 años de educación: 46378.828403049556\n",
      "Promedio de ingresos para 16 años de educación: 68264.05155236766\n",
      "Promedio de ingresos para 17 años de educación: 52895.76014366534\n",
      "Promedio de ingresos para 18 años de educación: 52551.03330205044\n",
      "Promedio de ingresos para 19 años de educación: 53305.13494712623\n"
     ]
    }
   ],
   "source": [
    "import numpy as np\n",
    "\n",
    "# Generar los datos demográficos\n",
    "np.random.seed(3)\n",
    "ages = np.random.randint(18, 70, size=200)  # Edades de 200 personas\n",
    "income = np.random.normal(50000, 15000, size=200)  # Ingresos anuales en un rango normal alrededor de 50,000\n",
    "education_years = np.random.randint(0, 20, size=200)  # Años de educación formal\n",
    "\n",
    "# Calcular la correlación entre los años de educación y los ingresos\n",
    "correlation = np.corrcoef(education_years, income)[0, 1]\n",
    "print(\"Correlación entre años de educación e ingresos:\", correlation)\n",
    "\n",
    "# Dividir a las personas en grupos de edades y calcular el ingreso promedio por grupo\n",
    "age_groups = [(18, 30), (31, 45), (46, 60), (61, 70)]\n",
    "for (start, end) in age_groups:\n",
    "    mask = (ages >= start) & (ages <= end)\n",
    "    avg_income = np.mean(income[mask])\n",
    "    print(f\"Ingreso promedio para el grupo de edad {start}-{end}: {avg_income}\")\n",
    "\n",
    "# Encontrar el percentil 90 de ingresos y determinar cuántas personas ganan por encima de ese valor\n",
    "percentile_90 = np.percentile(income, 90)\n",
    "above_percentile_90 = np.sum(income > percentile_90)\n",
    "print(f\"\\nPercentil 90 de ingresos: {percentile_90}\")\n",
    "print(f\"Número de personas que ganan por encima del percentil 90: {above_percentile_90}\")\n",
    "\n",
    "# Agrupar los datos en función del número de años de educación y calcular el promedio de ingresos para cada grupo\n",
    "unique_education_years = np.unique(education_years)\n",
    "for years in unique_education_years:\n",
    "    mask = (education_years == years)\n",
    "    avg_income = np.mean(income[mask])\n",
    "    print(f\"Promedio de ingresos para {years} años de educación: {avg_income}\")"
   ]
  }
 ],
 "metadata": {
  "kernelspec": {
   "display_name": "base",
   "language": "python",
   "name": "python3"
  },
  "language_info": {
   "codemirror_mode": {
    "name": "ipython",
    "version": 3
   },
   "file_extension": ".py",
   "mimetype": "text/x-python",
   "name": "python",
   "nbconvert_exporter": "python",
   "pygments_lexer": "ipython3",
   "version": "3.12.4"
  }
 },
 "nbformat": 4,
 "nbformat_minor": 2
}
