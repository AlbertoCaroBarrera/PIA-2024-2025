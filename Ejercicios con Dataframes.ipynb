{
 "cells": [
  {
   "cell_type": "markdown",
   "metadata": {},
   "source": [
    "1. Crear un objeto de la clase DataFrame.\n"
   ]
  },
  {
   "cell_type": "code",
   "execution_count": 14,
   "metadata": {},
   "outputs": [
    {
     "name": "stdout",
     "output_type": "stream",
     "text": [
      "   Nombre  Edad Género\n",
      "0     Ana    23      F\n",
      "1    Luis    34      M\n",
      "2  Carlos    45      M\n"
     ]
    }
   ],
   "source": [
    "import pandas as pd\n",
    "\n",
    "# Crear un objeto de la clase DataFrame\n",
    "df = pd.DataFrame({'Nombre': ['Ana', 'Luis', 'Carlos'], 'Edad': [23, 34, 45], 'Género': ['F', 'M', 'M']})\n",
    "print(df)"
   ]
  },
  {
   "cell_type": "markdown",
   "metadata": {},
   "source": [
    "2. Leer un archivo CSV con la función read_csv para crear un DataFrame.\n"
   ]
  },
  {
   "cell_type": "code",
   "execution_count": 18,
   "metadata": {},
   "outputs": [
    {
     "name": "stdout",
     "output_type": "stream",
     "text": [
      "     Patient ID  Age  Gender                  Diagnosis  \\\n",
      "0             1   43  Female  Major Depressive Disorder   \n",
      "1             2   40  Female  Major Depressive Disorder   \n",
      "2             3   55  Female  Major Depressive Disorder   \n",
      "3             4   34  Female  Major Depressive Disorder   \n",
      "4             5   52    Male             Panic Disorder   \n",
      "..          ...  ...     ...                        ...   \n",
      "495         496   24    Male        Generalized Anxiety   \n",
      "496         497   22    Male             Panic Disorder   \n",
      "497         498   23    Male  Major Depressive Disorder   \n",
      "498         499   48    Male           Bipolar Disorder   \n",
      "499         500   58    Male           Bipolar Disorder   \n",
      "\n",
      "     Symptom Severity (1-10)  Mood Score (1-10)  Sleep Quality (1-10)  \\\n",
      "0                         10                  5                     8   \n",
      "1                          9                  5                     4   \n",
      "2                          6                  3                     4   \n",
      "3                          6                  3                     6   \n",
      "4                          7                  6                     6   \n",
      "..                       ...                ...                   ...   \n",
      "495                       10                  4                     8   \n",
      "496                        5                  6                     6   \n",
      "497                        7                  3                     4   \n",
      "498                        9                  4                     6   \n",
      "499                        5                  7                     6   \n",
      "\n",
      "     Physical Activity (hrs/week)        Medication  \\\n",
      "0                               5  Mood Stabilizers   \n",
      "1                               7    Antipsychotics   \n",
      "2                               3             SSRIs   \n",
      "3                               5             SSRIs   \n",
      "4                               8       Anxiolytics   \n",
      "..                            ...               ...   \n",
      "495                             6  Mood Stabilizers   \n",
      "496                             7   Benzodiazepines   \n",
      "497                             2   Antidepressants   \n",
      "498                             9   Antidepressants   \n",
      "499                             2             SSRIs   \n",
      "\n",
      "                       Therapy Type Treatment Start Date  \\\n",
      "0             Interpersonal Therapy           2024-01-25   \n",
      "1             Interpersonal Therapy           2024-02-27   \n",
      "2         Mindfulness-Based Therapy           2024-03-20   \n",
      "3         Mindfulness-Based Therapy           2024-03-29   \n",
      "4             Interpersonal Therapy           2024-03-18   \n",
      "..                              ...                  ...   \n",
      "495  Dialectical Behavioral Therapy           2024-04-09   \n",
      "496       Mindfulness-Based Therapy           2024-02-05   \n",
      "497    Cognitive Behavioral Therapy           2024-03-24   \n",
      "498       Mindfulness-Based Therapy           2024-03-22   \n",
      "499    Cognitive Behavioral Therapy           2024-03-24   \n",
      "\n",
      "     Treatment Duration (weeks)  Stress Level (1-10)       Outcome  \\\n",
      "0                            11                    9  Deteriorated   \n",
      "1                            11                    7     No Change   \n",
      "2                            14                    7  Deteriorated   \n",
      "3                             8                    8  Deteriorated   \n",
      "4                            12                    5  Deteriorated   \n",
      "..                          ...                  ...           ...   \n",
      "495                           8                    9      Improved   \n",
      "496                          13                    6  Deteriorated   \n",
      "497                          10                    5  Deteriorated   \n",
      "498                          10                    6      Improved   \n",
      "499                          10                    6  Deteriorated   \n",
      "\n",
      "     Treatment Progress (1-10) AI-Detected Emotional State  \\\n",
      "0                            7                     Anxious   \n",
      "1                            7                     Neutral   \n",
      "2                            5                       Happy   \n",
      "3                           10                     Excited   \n",
      "4                            6                     Excited   \n",
      "..                         ...                         ...   \n",
      "495                         10                   Depressed   \n",
      "496                          8                       Happy   \n",
      "497                          5                     Neutral   \n",
      "498                          7                     Anxious   \n",
      "499                          5                       Happy   \n",
      "\n",
      "     Adherence to Treatment (%)  \n",
      "0                            66  \n",
      "1                            78  \n",
      "2                            62  \n",
      "3                            72  \n",
      "4                            63  \n",
      "..                          ...  \n",
      "495                          73  \n",
      "496                          86  \n",
      "497                          87  \n",
      "498                          73  \n",
      "499                          70  \n",
      "\n",
      "[500 rows x 17 columns]\n"
     ]
    }
   ],
   "source": [
    "# Leer un archivo CSV para crear un DataFrame\n",
    "df_csv = pd.read_csv('mental_health_diagnosis_treatment_csv.csv')\n",
    "print(df_csv)"
   ]
  },
  {
   "cell_type": "markdown",
   "metadata": {},
   "source": [
    "3. Guardar los registros de un DataFrame en un archivo de formato CSV.\n"
   ]
  },
  {
   "cell_type": "code",
   "execution_count": 19,
   "metadata": {},
   "outputs": [],
   "source": [
    "# Guardar los registros del DataFrame df_csv en un archivo CSV\n",
    "df_csv.to_csv('mental_health_diagnosis_treatment_csv2.csv', index=False)"
   ]
  },
  {
   "cell_type": "markdown",
   "metadata": {},
   "source": [
    "4. Obtener las primeras n filas de un objeto DataFrame.\n"
   ]
  },
  {
   "cell_type": "code",
   "execution_count": 21,
   "metadata": {},
   "outputs": [
    {
     "name": "stdout",
     "output_type": "stream",
     "text": [
      "   Patient ID  Age  Gender                  Diagnosis  \\\n",
      "0           1   43  Female  Major Depressive Disorder   \n",
      "1           2   40  Female  Major Depressive Disorder   \n",
      "2           3   55  Female  Major Depressive Disorder   \n",
      "\n",
      "   Symptom Severity (1-10)  Mood Score (1-10)  Sleep Quality (1-10)  \\\n",
      "0                       10                  5                     8   \n",
      "1                        9                  5                     4   \n",
      "2                        6                  3                     4   \n",
      "\n",
      "   Physical Activity (hrs/week)        Medication               Therapy Type  \\\n",
      "0                             5  Mood Stabilizers      Interpersonal Therapy   \n",
      "1                             7    Antipsychotics      Interpersonal Therapy   \n",
      "2                             3             SSRIs  Mindfulness-Based Therapy   \n",
      "\n",
      "  Treatment Start Date  Treatment Duration (weeks)  Stress Level (1-10)  \\\n",
      "0           2024-01-25                          11                    9   \n",
      "1           2024-02-27                          11                    7   \n",
      "2           2024-03-20                          14                    7   \n",
      "\n",
      "        Outcome  Treatment Progress (1-10) AI-Detected Emotional State  \\\n",
      "0  Deteriorated                          7                     Anxious   \n",
      "1     No Change                          7                     Neutral   \n",
      "2  Deteriorated                          5                       Happy   \n",
      "\n",
      "   Adherence to Treatment (%)  \n",
      "0                          66  \n",
      "1                          78  \n",
      "2                          62  \n"
     ]
    }
   ],
   "source": [
    "# Obtener las primeras 3 filas del DataFrame df\n",
    "primeras_filas_df = df_csv.head(3)\n",
    "print(primeras_filas_df)\n"
   ]
  },
  {
   "cell_type": "markdown",
   "metadata": {},
   "source": [
    "5. Obtener las últimas n filas de un objeto DataFrame.\n"
   ]
  },
  {
   "cell_type": "code",
   "execution_count": 22,
   "metadata": {},
   "outputs": [
    {
     "name": "stdout",
     "output_type": "stream",
     "text": [
      "     Patient ID  Age Gender                  Diagnosis  \\\n",
      "497         498   23   Male  Major Depressive Disorder   \n",
      "498         499   48   Male           Bipolar Disorder   \n",
      "499         500   58   Male           Bipolar Disorder   \n",
      "\n",
      "     Symptom Severity (1-10)  Mood Score (1-10)  Sleep Quality (1-10)  \\\n",
      "497                        7                  3                     4   \n",
      "498                        9                  4                     6   \n",
      "499                        5                  7                     6   \n",
      "\n",
      "     Physical Activity (hrs/week)       Medication  \\\n",
      "497                             2  Antidepressants   \n",
      "498                             9  Antidepressants   \n",
      "499                             2            SSRIs   \n",
      "\n",
      "                     Therapy Type Treatment Start Date  \\\n",
      "497  Cognitive Behavioral Therapy           2024-03-24   \n",
      "498     Mindfulness-Based Therapy           2024-03-22   \n",
      "499  Cognitive Behavioral Therapy           2024-03-24   \n",
      "\n",
      "     Treatment Duration (weeks)  Stress Level (1-10)       Outcome  \\\n",
      "497                          10                    5  Deteriorated   \n",
      "498                          10                    6      Improved   \n",
      "499                          10                    6  Deteriorated   \n",
      "\n",
      "     Treatment Progress (1-10) AI-Detected Emotional State  \\\n",
      "497                          5                     Neutral   \n",
      "498                          7                     Anxious   \n",
      "499                          5                       Happy   \n",
      "\n",
      "     Adherence to Treatment (%)  \n",
      "497                          87  \n",
      "498                          73  \n",
      "499                          70  \n"
     ]
    }
   ],
   "source": [
    "# Obtener las últimas 3 filas del DataFrame df\n",
    "ultimas_filas_df = df_csv.tail(3)\n",
    "print(ultimas_filas_df)"
   ]
  },
  {
   "cell_type": "markdown",
   "metadata": {},
   "source": [
    "6. Obtener los nombres de las filas y las columnas de un DataFrame.\n",
    "\n"
   ]
  },
  {
   "cell_type": "code",
   "execution_count": 23,
   "metadata": {},
   "outputs": [
    {
     "name": "stdout",
     "output_type": "stream",
     "text": [
      "Nombres de las filas: RangeIndex(start=0, stop=500, step=1)\n",
      "Nombres de las columnas: Index(['Patient ID', 'Age', 'Gender', 'Diagnosis', 'Symptom Severity (1-10)',\n",
      "       'Mood Score (1-10)', 'Sleep Quality (1-10)',\n",
      "       'Physical Activity (hrs/week)', 'Medication', 'Therapy Type',\n",
      "       'Treatment Start Date', 'Treatment Duration (weeks)',\n",
      "       'Stress Level (1-10)', 'Outcome', 'Treatment Progress (1-10)',\n",
      "       'AI-Detected Emotional State', 'Adherence to Treatment (%)'],\n",
      "      dtype='object')\n"
     ]
    }
   ],
   "source": [
    "# Obtener los nombres de las filas y las columnas del DataFrame df\n",
    "nombres_filas = df_csv.index\n",
    "nombres_columnas = df_csv.columns\n",
    "\n",
    "print(\"Nombres de las filas:\", nombres_filas)\n",
    "print(\"Nombres de las columnas:\", nombres_columnas)"
   ]
  },
  {
   "cell_type": "markdown",
   "metadata": {},
   "source": [
    "7. Obtener como una lista Python los nombres de las columnas de un DataFrame.\n"
   ]
  },
  {
   "cell_type": "code",
   "execution_count": 24,
   "metadata": {},
   "outputs": [
    {
     "name": "stdout",
     "output_type": "stream",
     "text": [
      "['Patient ID', 'Age', 'Gender', 'Diagnosis', 'Symptom Severity (1-10)', 'Mood Score (1-10)', 'Sleep Quality (1-10)', 'Physical Activity (hrs/week)', 'Medication', 'Therapy Type', 'Treatment Start Date', 'Treatment Duration (weeks)', 'Stress Level (1-10)', 'Outcome', 'Treatment Progress (1-10)', 'AI-Detected Emotional State', 'Adherence to Treatment (%)']\n"
     ]
    }
   ],
   "source": [
    "# Obtener los nombres de las columnas del DataFrame df_csv como una lista\n",
    "nombres_columnas_lista = list(df_csv.columns)\n",
    "print(nombres_columnas_lista)"
   ]
  },
  {
   "cell_type": "markdown",
   "metadata": {},
   "source": [
    "8. Renombrar las columnas de un objeto DataFrame."
   ]
  },
  {
   "cell_type": "code",
   "execution_count": 25,
   "metadata": {},
   "outputs": [
    {
     "name": "stdout",
     "output_type": "stream",
     "text": [
      "     Patient ID  Age  Gender                  Diagnosis  \\\n",
      "0             1   43  Female  Major Depressive Disorder   \n",
      "1             2   40  Female  Major Depressive Disorder   \n",
      "2             3   55  Female  Major Depressive Disorder   \n",
      "3             4   34  Female  Major Depressive Disorder   \n",
      "4             5   52    Male             Panic Disorder   \n",
      "..          ...  ...     ...                        ...   \n",
      "495         496   24    Male        Generalized Anxiety   \n",
      "496         497   22    Male             Panic Disorder   \n",
      "497         498   23    Male  Major Depressive Disorder   \n",
      "498         499   48    Male           Bipolar Disorder   \n",
      "499         500   58    Male           Bipolar Disorder   \n",
      "\n",
      "     Symptom Severity (1-10)  Mood Score (1-10)  Sleep Quality (1-10)  \\\n",
      "0                         10                  5                     8   \n",
      "1                          9                  5                     4   \n",
      "2                          6                  3                     4   \n",
      "3                          6                  3                     6   \n",
      "4                          7                  6                     6   \n",
      "..                       ...                ...                   ...   \n",
      "495                       10                  4                     8   \n",
      "496                        5                  6                     6   \n",
      "497                        7                  3                     4   \n",
      "498                        9                  4                     6   \n",
      "499                        5                  7                     6   \n",
      "\n",
      "     Physical Activity (hrs/week)        Medication  \\\n",
      "0                               5  Mood Stabilizers   \n",
      "1                               7    Antipsychotics   \n",
      "2                               3             SSRIs   \n",
      "3                               5             SSRIs   \n",
      "4                               8       Anxiolytics   \n",
      "..                            ...               ...   \n",
      "495                             6  Mood Stabilizers   \n",
      "496                             7   Benzodiazepines   \n",
      "497                             2   Antidepressants   \n",
      "498                             9   Antidepressants   \n",
      "499                             2             SSRIs   \n",
      "\n",
      "                       Therapy Type Treatment Start Date  \\\n",
      "0             Interpersonal Therapy           2024-01-25   \n",
      "1             Interpersonal Therapy           2024-02-27   \n",
      "2         Mindfulness-Based Therapy           2024-03-20   \n",
      "3         Mindfulness-Based Therapy           2024-03-29   \n",
      "4             Interpersonal Therapy           2024-03-18   \n",
      "..                              ...                  ...   \n",
      "495  Dialectical Behavioral Therapy           2024-04-09   \n",
      "496       Mindfulness-Based Therapy           2024-02-05   \n",
      "497    Cognitive Behavioral Therapy           2024-03-24   \n",
      "498       Mindfulness-Based Therapy           2024-03-22   \n",
      "499    Cognitive Behavioral Therapy           2024-03-24   \n",
      "\n",
      "     Treatment Duration (weeks)  Stress Level (1-10)       Outcome  \\\n",
      "0                            11                    9  Deteriorated   \n",
      "1                            11                    7     No Change   \n",
      "2                            14                    7  Deteriorated   \n",
      "3                             8                    8  Deteriorated   \n",
      "4                            12                    5  Deteriorated   \n",
      "..                          ...                  ...           ...   \n",
      "495                           8                    9      Improved   \n",
      "496                          13                    6  Deteriorated   \n",
      "497                          10                    5  Deteriorated   \n",
      "498                          10                    6      Improved   \n",
      "499                          10                    6  Deteriorated   \n",
      "\n",
      "     Treatment Progress (1-10) AI-Detected Emotional State  \\\n",
      "0                            7                     Anxious   \n",
      "1                            7                     Neutral   \n",
      "2                            5                       Happy   \n",
      "3                           10                     Excited   \n",
      "4                            6                     Excited   \n",
      "..                         ...                         ...   \n",
      "495                         10                   Depressed   \n",
      "496                          8                       Happy   \n",
      "497                          5                     Neutral   \n",
      "498                          7                     Anxious   \n",
      "499                          5                       Happy   \n",
      "\n",
      "     Adherence to Treatment (%)  \n",
      "0                            66  \n",
      "1                            78  \n",
      "2                            62  \n",
      "3                            72  \n",
      "4                            63  \n",
      "..                          ...  \n",
      "495                          73  \n",
      "496                          86  \n",
      "497                          87  \n",
      "498                          73  \n",
      "499                          70  \n",
      "\n",
      "[500 rows x 17 columns]\n"
     ]
    }
   ],
   "source": [
    "# Renombrar las columnas del DataFrame df\n",
    "df_renombrado = df_csv.rename(columns={'Nombre': 'Name', 'Edad': 'Age', 'Género': 'Gender'})\n",
    "print(df_renombrado)"
   ]
  },
  {
   "cell_type": "markdown",
   "metadata": {},
   "source": [
    "9. Renombrar una columna de un DataFrame con la función rename.\n"
   ]
  },
  {
   "cell_type": "code",
   "execution_count": 26,
   "metadata": {},
   "outputs": [
    {
     "name": "stdout",
     "output_type": "stream",
     "text": [
      "     Patient ID  Age  Gender                  Diagnosis  \\\n",
      "0             1   43  Female  Major Depressive Disorder   \n",
      "1             2   40  Female  Major Depressive Disorder   \n",
      "2             3   55  Female  Major Depressive Disorder   \n",
      "3             4   34  Female  Major Depressive Disorder   \n",
      "4             5   52    Male             Panic Disorder   \n",
      "..          ...  ...     ...                        ...   \n",
      "495         496   24    Male        Generalized Anxiety   \n",
      "496         497   22    Male             Panic Disorder   \n",
      "497         498   23    Male  Major Depressive Disorder   \n",
      "498         499   48    Male           Bipolar Disorder   \n",
      "499         500   58    Male           Bipolar Disorder   \n",
      "\n",
      "     Symptom Severity (1-10)  Mood Score (1-10)  Sleep Quality (1-10)  \\\n",
      "0                         10                  5                     8   \n",
      "1                          9                  5                     4   \n",
      "2                          6                  3                     4   \n",
      "3                          6                  3                     6   \n",
      "4                          7                  6                     6   \n",
      "..                       ...                ...                   ...   \n",
      "495                       10                  4                     8   \n",
      "496                        5                  6                     6   \n",
      "497                        7                  3                     4   \n",
      "498                        9                  4                     6   \n",
      "499                        5                  7                     6   \n",
      "\n",
      "     Physical Activity (hrs/week)        Medication  \\\n",
      "0                               5  Mood Stabilizers   \n",
      "1                               7    Antipsychotics   \n",
      "2                               3             SSRIs   \n",
      "3                               5             SSRIs   \n",
      "4                               8       Anxiolytics   \n",
      "..                            ...               ...   \n",
      "495                             6  Mood Stabilizers   \n",
      "496                             7   Benzodiazepines   \n",
      "497                             2   Antidepressants   \n",
      "498                             9   Antidepressants   \n",
      "499                             2             SSRIs   \n",
      "\n",
      "                       Therapy Type Treatment Start Date  \\\n",
      "0             Interpersonal Therapy           2024-01-25   \n",
      "1             Interpersonal Therapy           2024-02-27   \n",
      "2         Mindfulness-Based Therapy           2024-03-20   \n",
      "3         Mindfulness-Based Therapy           2024-03-29   \n",
      "4             Interpersonal Therapy           2024-03-18   \n",
      "..                              ...                  ...   \n",
      "495  Dialectical Behavioral Therapy           2024-04-09   \n",
      "496       Mindfulness-Based Therapy           2024-02-05   \n",
      "497    Cognitive Behavioral Therapy           2024-03-24   \n",
      "498       Mindfulness-Based Therapy           2024-03-22   \n",
      "499    Cognitive Behavioral Therapy           2024-03-24   \n",
      "\n",
      "     Treatment Duration (weeks)  Stress Level (1-10)       Outcome  \\\n",
      "0                            11                    9  Deteriorated   \n",
      "1                            11                    7     No Change   \n",
      "2                            14                    7  Deteriorated   \n",
      "3                             8                    8  Deteriorated   \n",
      "4                            12                    5  Deteriorated   \n",
      "..                          ...                  ...           ...   \n",
      "495                           8                    9      Improved   \n",
      "496                          13                    6  Deteriorated   \n",
      "497                          10                    5  Deteriorated   \n",
      "498                          10                    6      Improved   \n",
      "499                          10                    6  Deteriorated   \n",
      "\n",
      "     Treatment Progress (1-10) AI-Detected Emotional State  \\\n",
      "0                            7                     Anxious   \n",
      "1                            7                     Neutral   \n",
      "2                            5                       Happy   \n",
      "3                           10                     Excited   \n",
      "4                            6                     Excited   \n",
      "..                         ...                         ...   \n",
      "495                         10                   Depressed   \n",
      "496                          8                       Happy   \n",
      "497                          5                     Neutral   \n",
      "498                          7                     Anxious   \n",
      "499                          5                       Happy   \n",
      "\n",
      "     Adherence to Treatment (%)  \n",
      "0                            66  \n",
      "1                            78  \n",
      "2                            62  \n",
      "3                            72  \n",
      "4                            63  \n",
      "..                          ...  \n",
      "495                          73  \n",
      "496                          86  \n",
      "497                          87  \n",
      "498                          73  \n",
      "499                          70  \n",
      "\n",
      "[500 rows x 17 columns]\n"
     ]
    }
   ],
   "source": [
    "# Renombrar la columna 'Edad' a 'Age' en el DataFrame df\n",
    "df_renombrado = df_csv.rename(columns={'Edad': 'Age'})\n",
    "print(df_renombrado)"
   ]
  },
  {
   "cell_type": "markdown",
   "metadata": {},
   "source": [
    "10. Obtener los tipos de datos de las columnas de un DataFrame.\n",
    "\n"
   ]
  },
  {
   "cell_type": "code",
   "execution_count": 27,
   "metadata": {},
   "outputs": [
    {
     "name": "stdout",
     "output_type": "stream",
     "text": [
      "Patient ID                       int64\n",
      "Age                              int64\n",
      "Gender                          object\n",
      "Diagnosis                       object\n",
      "Symptom Severity (1-10)          int64\n",
      "Mood Score (1-10)                int64\n",
      "Sleep Quality (1-10)             int64\n",
      "Physical Activity (hrs/week)     int64\n",
      "Medication                      object\n",
      "Therapy Type                    object\n",
      "Treatment Start Date            object\n",
      "Treatment Duration (weeks)       int64\n",
      "Stress Level (1-10)              int64\n",
      "Outcome                         object\n",
      "Treatment Progress (1-10)        int64\n",
      "AI-Detected Emotional State     object\n",
      "Adherence to Treatment (%)       int64\n",
      "dtype: object\n"
     ]
    }
   ],
   "source": [
    "# Obtener los tipos de datos de las columnas del DataFrame df_csv\n",
    "tipos_datos = df_csv.dtypes\n",
    "print(tipos_datos)"
   ]
  },
  {
   "cell_type": "markdown",
   "metadata": {},
   "source": [
    "11. Mostrar un reporte con la información básica de un objeto DataFrame."
   ]
  },
  {
   "cell_type": "code",
   "execution_count": 28,
   "metadata": {},
   "outputs": [
    {
     "name": "stdout",
     "output_type": "stream",
     "text": [
      "<class 'pandas.core.frame.DataFrame'>\n",
      "RangeIndex: 500 entries, 0 to 499\n",
      "Data columns (total 17 columns):\n",
      " #   Column                        Non-Null Count  Dtype \n",
      "---  ------                        --------------  ----- \n",
      " 0   Patient ID                    500 non-null    int64 \n",
      " 1   Age                           500 non-null    int64 \n",
      " 2   Gender                        500 non-null    object\n",
      " 3   Diagnosis                     500 non-null    object\n",
      " 4   Symptom Severity (1-10)       500 non-null    int64 \n",
      " 5   Mood Score (1-10)             500 non-null    int64 \n",
      " 6   Sleep Quality (1-10)          500 non-null    int64 \n",
      " 7   Physical Activity (hrs/week)  500 non-null    int64 \n",
      " 8   Medication                    500 non-null    object\n",
      " 9   Therapy Type                  500 non-null    object\n",
      " 10  Treatment Start Date          500 non-null    object\n",
      " 11  Treatment Duration (weeks)    500 non-null    int64 \n",
      " 12  Stress Level (1-10)           500 non-null    int64 \n",
      " 13  Outcome                       500 non-null    object\n",
      " 14  Treatment Progress (1-10)     500 non-null    int64 \n",
      " 15  AI-Detected Emotional State   500 non-null    object\n",
      " 16  Adherence to Treatment (%)    500 non-null    int64 \n",
      "dtypes: int64(10), object(7)\n",
      "memory usage: 66.5+ KB\n"
     ]
    }
   ],
   "source": [
    "# Mostrar un reporte con la información básica del DataFrame df_csv\n",
    "df_csv.info()"
   ]
  },
  {
   "cell_type": "markdown",
   "metadata": {},
   "source": [
    "12. Obtener estadísticas básicas en un objeto DataFrame con la función describe.\n"
   ]
  },
  {
   "cell_type": "code",
   "execution_count": 29,
   "metadata": {},
   "outputs": [
    {
     "name": "stdout",
     "output_type": "stream",
     "text": [
      "       Patient ID         Age  Symptom Severity (1-10)  Mood Score (1-10)  \\\n",
      "count  500.000000  500.000000               500.000000         500.000000   \n",
      "mean   250.500000   38.708000                 7.478000           5.482000   \n",
      "std    144.481833   12.712433                 1.706265           1.707486   \n",
      "min      1.000000   18.000000                 5.000000           3.000000   \n",
      "25%    125.750000   28.000000                 6.000000           4.000000   \n",
      "50%    250.500000   38.000000                 8.000000           5.000000   \n",
      "75%    375.250000   50.000000                 9.000000           7.000000   \n",
      "max    500.000000   60.000000                10.000000           8.000000   \n",
      "\n",
      "       Sleep Quality (1-10)  Physical Activity (hrs/week)  \\\n",
      "count            500.000000                    500.000000   \n",
      "mean               6.472000                      5.216000   \n",
      "std                1.668167                      2.829374   \n",
      "min                4.000000                      1.000000   \n",
      "25%                5.000000                      3.000000   \n",
      "50%                6.000000                      5.000000   \n",
      "75%                8.000000                      8.000000   \n",
      "max                9.000000                     10.000000   \n",
      "\n",
      "       Treatment Duration (weeks)  Stress Level (1-10)  \\\n",
      "count                  500.000000           500.000000   \n",
      "mean                    12.110000             7.542000   \n",
      "std                      2.440864             1.709409   \n",
      "min                      8.000000             5.000000   \n",
      "25%                     10.000000             6.000000   \n",
      "50%                     12.000000             8.000000   \n",
      "75%                     14.000000             9.000000   \n",
      "max                     16.000000            10.000000   \n",
      "\n",
      "       Treatment Progress (1-10)  Adherence to Treatment (%)  \n",
      "count                 500.000000                   500.00000  \n",
      "mean                    7.436000                    75.45400  \n",
      "std                     1.725067                     9.08697  \n",
      "min                     5.000000                    60.00000  \n",
      "25%                     6.000000                    67.00000  \n",
      "50%                     7.000000                    76.00000  \n",
      "75%                     9.000000                    84.00000  \n",
      "max                    10.000000                    90.00000  \n"
     ]
    }
   ],
   "source": [
    "# Obtener estadísticas básicas del DataFrame df_csv\n",
    "estadisticas_basicas = df_csv.describe()\n",
    "print(estadisticas_basicas)"
   ]
  },
  {
   "cell_type": "markdown",
   "metadata": {},
   "source": [
    "13. Obtener las columnas de un determinado tipo de dato con select_dtypes."
   ]
  },
  {
   "cell_type": "code",
   "execution_count": 30,
   "metadata": {},
   "outputs": [
    {
     "name": "stdout",
     "output_type": "stream",
     "text": [
      "     Patient ID  Age  Symptom Severity (1-10)  Mood Score (1-10)  \\\n",
      "0             1   43                       10                  5   \n",
      "1             2   40                        9                  5   \n",
      "2             3   55                        6                  3   \n",
      "3             4   34                        6                  3   \n",
      "4             5   52                        7                  6   \n",
      "..          ...  ...                      ...                ...   \n",
      "495         496   24                       10                  4   \n",
      "496         497   22                        5                  6   \n",
      "497         498   23                        7                  3   \n",
      "498         499   48                        9                  4   \n",
      "499         500   58                        5                  7   \n",
      "\n",
      "     Sleep Quality (1-10)  Physical Activity (hrs/week)  \\\n",
      "0                       8                             5   \n",
      "1                       4                             7   \n",
      "2                       4                             3   \n",
      "3                       6                             5   \n",
      "4                       6                             8   \n",
      "..                    ...                           ...   \n",
      "495                     8                             6   \n",
      "496                     6                             7   \n",
      "497                     4                             2   \n",
      "498                     6                             9   \n",
      "499                     6                             2   \n",
      "\n",
      "     Treatment Duration (weeks)  Stress Level (1-10)  \\\n",
      "0                            11                    9   \n",
      "1                            11                    7   \n",
      "2                            14                    7   \n",
      "3                             8                    8   \n",
      "4                            12                    5   \n",
      "..                          ...                  ...   \n",
      "495                           8                    9   \n",
      "496                          13                    6   \n",
      "497                          10                    5   \n",
      "498                          10                    6   \n",
      "499                          10                    6   \n",
      "\n",
      "     Treatment Progress (1-10)  Adherence to Treatment (%)  \n",
      "0                            7                          66  \n",
      "1                            7                          78  \n",
      "2                            5                          62  \n",
      "3                           10                          72  \n",
      "4                            6                          63  \n",
      "..                         ...                         ...  \n",
      "495                         10                          73  \n",
      "496                          8                          86  \n",
      "497                          5                          87  \n",
      "498                          7                          73  \n",
      "499                          5                          70  \n",
      "\n",
      "[500 rows x 10 columns]\n"
     ]
    }
   ],
   "source": [
    "# Obtener las columnas de tipo 'int64' del DataFrame df_csv\n",
    "columnas_int64 = df_csv.select_dtypes(include='int64')\n",
    "print(columnas_int64)"
   ]
  },
  {
   "cell_type": "markdown",
   "metadata": {},
   "source": [
    "\n",
    "14. Cambiar el tipo de dato de una o más columnas con astype.\n"
   ]
  },
  {
   "cell_type": "code",
   "execution_count": 31,
   "metadata": {},
   "outputs": [
    {
     "name": "stdout",
     "output_type": "stream",
     "text": [
      "Patient ID                        int64\n",
      "Age                             float64\n",
      "Gender                           object\n",
      "Diagnosis                        object\n",
      "Symptom Severity (1-10)           int64\n",
      "Mood Score (1-10)                 int64\n",
      "Sleep Quality (1-10)              int64\n",
      "Physical Activity (hrs/week)      int64\n",
      "Medication                       object\n",
      "Therapy Type                     object\n",
      "Treatment Start Date             object\n",
      "Treatment Duration (weeks)      float64\n",
      "Stress Level (1-10)               int64\n",
      "Outcome                          object\n",
      "Treatment Progress (1-10)         int64\n",
      "AI-Detected Emotional State      object\n",
      "Adherence to Treatment (%)        int64\n",
      "dtype: object\n"
     ]
    }
   ],
   "source": [
    "# Cambiar el tipo de dato de las columnas 'Age' y 'Treatment Duration (weeks)' a float\n",
    "df_csv = df_csv.astype({'Age': 'float64', 'Treatment Duration (weeks)': 'float64'})\n",
    "print(df_csv.dtypes)"
   ]
  },
  {
   "cell_type": "markdown",
   "metadata": {},
   "source": [
    "15. Obtener la dimensión, el tamaño, y la forma de un objeto DataFrame.\n"
   ]
  },
  {
   "cell_type": "code",
   "execution_count": 32,
   "metadata": {},
   "outputs": [
    {
     "name": "stdout",
     "output_type": "stream",
     "text": [
      "Dimensión: 2\n",
      "Tamaño: 8500\n",
      "Forma: (500, 17)\n"
     ]
    }
   ],
   "source": [
    "# Obtener la dimensión, el tamaño y la forma del DataFrame df_csv\n",
    "dimension = df_csv.ndim\n",
    "tamaño = df_csv.size\n",
    "forma = df_csv.shape\n",
    "\n",
    "print(\"Dimensión:\", dimension)\n",
    "print(\"Tamaño:\", tamaño)\n",
    "print(\"Forma:\", forma)"
   ]
  },
  {
   "cell_type": "markdown",
   "metadata": {},
   "source": [
    "16. Obtener la cantidad de memoria ocupada por cada columna en un DataFrame.\n"
   ]
  },
  {
   "cell_type": "code",
   "execution_count": 33,
   "metadata": {},
   "outputs": [
    {
     "name": "stdout",
     "output_type": "stream",
     "text": [
      "Index                             132\n",
      "Patient ID                       4000\n",
      "Age                              4000\n",
      "Gender                          26968\n",
      "Diagnosis                       33798\n",
      "Symptom Severity (1-10)          4000\n",
      "Mood Score (1-10)                4000\n",
      "Sleep Quality (1-10)             4000\n",
      "Physical Activity (hrs/week)     4000\n",
      "Medication                      30826\n",
      "Therapy Type                    37500\n",
      "Treatment Start Date            29500\n",
      "Treatment Duration (weeks)       4000\n",
      "Stress Level (1-10)              4000\n",
      "Outcome                         29343\n",
      "Treatment Progress (1-10)        4000\n",
      "AI-Detected Emotional State     28061\n",
      "Adherence to Treatment (%)       4000\n",
      "dtype: int64\n"
     ]
    }
   ],
   "source": [
    "# Obtener la cantidad de memoria ocupada por cada columna en el DataFrame df_csv\n",
    "memoria_ocupada = df_csv.memory_usage(deep=True)\n",
    "print(memoria_ocupada)"
   ]
  },
  {
   "cell_type": "markdown",
   "metadata": {},
   "source": [
    "17. Comprobar si un objeto DataFrame está vacío con empty.\n"
   ]
  },
  {
   "cell_type": "code",
   "execution_count": 34,
   "metadata": {},
   "outputs": [
    {
     "name": "stdout",
     "output_type": "stream",
     "text": [
      "¿El DataFrame df_csv está vacío?: False\n"
     ]
    }
   ],
   "source": [
    "# Comprobar si el DataFrame df_csv está vacío\n",
    "esta_vacio = df_csv.empty\n",
    "print(\"¿El DataFrame df_csv está vacío?:\", esta_vacio)"
   ]
  },
  {
   "cell_type": "markdown",
   "metadata": {},
   "source": [
    "18. Obtener los datos de una columna como una lista Python con tolist.\n"
   ]
  },
  {
   "cell_type": "code",
   "execution_count": 35,
   "metadata": {},
   "outputs": [
    {
     "name": "stdout",
     "output_type": "stream",
     "text": [
      "[43.0, 40.0, 55.0, 34.0, 52.0, 28.0, 59.0, 32.0, 21.0, 21.0, 42.0, 54.0, 46.0, 19.0, 23.0, 38.0, 30.0, 28.0, 52.0, 37.0, 19.0, 41.0, 50.0, 53.0, 60.0, 19.0, 23.0, 56.0, 58.0, 41.0, 44.0, 47.0, 39.0, 27.0, 53.0, 53.0, 45.0, 33.0, 31.0, 41.0, 46.0, 56.0, 31.0, 50.0, 40.0, 43.0, 48.0, 26.0, 41.0, 46.0, 40.0, 31.0, 38.0, 18.0, 28.0, 29.0, 43.0, 31.0, 35.0, 47.0, 56.0, 41.0, 30.0, 37.0, 23.0, 30.0, 28.0, 35.0, 39.0, 52.0, 51.0, 57.0, 60.0, 57.0, 24.0, 45.0, 21.0, 32.0, 29.0, 29.0, 21.0, 23.0, 33.0, 31.0, 57.0, 19.0, 22.0, 50.0, 56.0, 22.0, 55.0, 43.0, 49.0, 22.0, 49.0, 40.0, 51.0, 46.0, 43.0, 24.0, 56.0, 23.0, 31.0, 36.0, 44.0, 19.0, 40.0, 30.0, 23.0, 30.0, 41.0, 58.0, 37.0, 20.0, 28.0, 33.0, 43.0, 31.0, 29.0, 45.0, 50.0, 19.0, 35.0, 50.0, 53.0, 43.0, 47.0, 53.0, 31.0, 28.0, 35.0, 50.0, 47.0, 41.0, 37.0, 42.0, 32.0, 53.0, 57.0, 57.0, 41.0, 55.0, 50.0, 21.0, 21.0, 29.0, 48.0, 45.0, 46.0, 47.0, 22.0, 19.0, 58.0, 21.0, 26.0, 27.0, 44.0, 60.0, 55.0, 26.0, 18.0, 22.0, 21.0, 35.0, 37.0, 52.0, 19.0, 23.0, 28.0, 56.0, 24.0, 47.0, 19.0, 55.0, 51.0, 24.0, 31.0, 56.0, 41.0, 19.0, 23.0, 28.0, 18.0, 59.0, 40.0, 54.0, 25.0, 36.0, 60.0, 35.0, 56.0, 58.0, 47.0, 53.0, 27.0, 27.0, 50.0, 31.0, 24.0, 54.0, 24.0, 50.0, 30.0, 48.0, 26.0, 31.0, 43.0, 59.0, 26.0, 50.0, 46.0, 40.0, 46.0, 51.0, 39.0, 21.0, 49.0, 34.0, 20.0, 44.0, 40.0, 49.0, 60.0, 47.0, 51.0, 21.0, 33.0, 22.0, 41.0, 40.0, 22.0, 34.0, 55.0, 18.0, 29.0, 27.0, 50.0, 18.0, 54.0, 60.0, 20.0, 38.0, 18.0, 24.0, 20.0, 26.0, 54.0, 44.0, 47.0, 32.0, 56.0, 30.0, 31.0, 38.0, 55.0, 26.0, 26.0, 22.0, 31.0, 44.0, 20.0, 51.0, 37.0, 35.0, 26.0, 31.0, 23.0, 52.0, 35.0, 36.0, 30.0, 51.0, 56.0, 33.0, 46.0, 45.0, 24.0, 49.0, 59.0, 32.0, 48.0, 35.0, 52.0, 44.0, 28.0, 35.0, 41.0, 49.0, 51.0, 26.0, 54.0, 30.0, 51.0, 51.0, 38.0, 26.0, 58.0, 56.0, 60.0, 32.0, 54.0, 55.0, 32.0, 37.0, 21.0, 27.0, 51.0, 60.0, 24.0, 47.0, 30.0, 32.0, 20.0, 28.0, 20.0, 28.0, 60.0, 37.0, 45.0, 49.0, 44.0, 18.0, 50.0, 33.0, 33.0, 36.0, 37.0, 42.0, 43.0, 34.0, 50.0, 46.0, 32.0, 55.0, 43.0, 34.0, 60.0, 51.0, 48.0, 42.0, 21.0, 25.0, 24.0, 35.0, 20.0, 56.0, 32.0, 35.0, 34.0, 47.0, 33.0, 39.0, 57.0, 34.0, 27.0, 40.0, 60.0, 55.0, 49.0, 46.0, 22.0, 56.0, 33.0, 53.0, 50.0, 40.0, 31.0, 29.0, 24.0, 31.0, 60.0, 57.0, 45.0, 19.0, 34.0, 51.0, 57.0, 27.0, 33.0, 21.0, 27.0, 32.0, 54.0, 39.0, 44.0, 37.0, 19.0, 45.0, 36.0, 19.0, 25.0, 34.0, 19.0, 46.0, 38.0, 19.0, 56.0, 23.0, 32.0, 33.0, 49.0, 59.0, 18.0, 43.0, 44.0, 52.0, 25.0, 50.0, 58.0, 44.0, 51.0, 31.0, 32.0, 20.0, 33.0, 59.0, 35.0, 31.0, 45.0, 55.0, 28.0, 20.0, 50.0, 41.0, 46.0, 26.0, 39.0, 52.0, 35.0, 57.0, 20.0, 51.0, 57.0, 52.0, 37.0, 35.0, 24.0, 49.0, 48.0, 36.0, 40.0, 37.0, 53.0, 27.0, 59.0, 35.0, 39.0, 33.0, 52.0, 25.0, 20.0, 52.0, 58.0, 44.0, 18.0, 21.0, 18.0, 30.0, 28.0, 18.0, 40.0, 25.0, 31.0, 37.0, 24.0, 56.0, 45.0, 57.0, 50.0, 55.0, 60.0, 38.0, 59.0, 49.0, 20.0, 39.0, 40.0, 60.0, 29.0, 55.0, 58.0, 36.0, 60.0, 60.0, 32.0, 58.0, 24.0, 56.0, 27.0, 60.0, 33.0, 42.0, 18.0, 23.0, 19.0, 24.0, 22.0, 23.0, 48.0, 58.0]\n"
     ]
    }
   ],
   "source": [
    "# Obtener los datos de la columna 'Age' como una lista\n",
    "edad_lista = df_csv['Age'].tolist()\n",
    "print(edad_lista)"
   ]
  },
  {
   "cell_type": "markdown",
   "metadata": {},
   "source": [
    "19. Encontrar la cantidad de elementos únicos por cada fila y columna con nunique.\n"
   ]
  },
  {
   "cell_type": "code",
   "execution_count": 36,
   "metadata": {},
   "outputs": [
    {
     "name": "stdout",
     "output_type": "stream",
     "text": [
      "Cantidad de elementos únicos por columna:\n",
      "Patient ID                      500\n",
      "Age                              43\n",
      "Gender                            2\n",
      "Diagnosis                         4\n",
      "Symptom Severity (1-10)           6\n",
      "Mood Score (1-10)                 6\n",
      "Sleep Quality (1-10)              6\n",
      "Physical Activity (hrs/week)     10\n",
      "Medication                        6\n",
      "Therapy Type                      4\n",
      "Treatment Start Date            101\n",
      "Treatment Duration (weeks)        9\n",
      "Stress Level (1-10)               6\n",
      "Outcome                           3\n",
      "Treatment Progress (1-10)         6\n",
      "AI-Detected Emotional State       6\n",
      "Adherence to Treatment (%)       31\n",
      "dtype: int64\n",
      "\n",
      "Cantidad de elementos únicos por fila:\n",
      "0      16\n",
      "1      15\n",
      "2      15\n",
      "3      15\n",
      "4      14\n",
      "       ..\n",
      "495    15\n",
      "496    15\n",
      "497    16\n",
      "498    15\n",
      "499    15\n",
      "Length: 500, dtype: int64\n"
     ]
    }
   ],
   "source": [
    "# Encontrar la cantidad de elementos únicos por cada columna\n",
    "elementos_unicos_columna = df_csv.nunique()\n",
    "print(\"Cantidad de elementos únicos por columna:\")\n",
    "print(elementos_unicos_columna)\n",
    "\n",
    "# Encontrar la cantidad de elementos únicos por cada fila\n",
    "elementos_unicos_fila = df_csv.apply(pd.Series.nunique, axis=1)\n",
    "print(\"\\nCantidad de elementos únicos por fila:\")\n",
    "print(elementos_unicos_fila)"
   ]
  },
  {
   "cell_type": "markdown",
   "metadata": {},
   "source": [
    "20. Obtener los elementos distintos de una columna de un DataFrame con unique.\n"
   ]
  },
  {
   "cell_type": "code",
   "execution_count": 37,
   "metadata": {},
   "outputs": [
    {
     "name": "stdout",
     "output_type": "stream",
     "text": [
      "['Major Depressive Disorder' 'Panic Disorder' 'Generalized Anxiety'\n",
      " 'Bipolar Disorder']\n"
     ]
    }
   ],
   "source": [
    "# Obtener los elementos distintos de la columna 'Diagnosis' del DataFrame df_csv\n",
    "elementos_distintos_diagnosis = df_csv['Diagnosis'].unique()\n",
    "print(elementos_distintos_diagnosis)"
   ]
  },
  {
   "cell_type": "markdown",
   "metadata": {},
   "source": [
    "21. Obtener los tipos de datos de las columnas de un DataFrame con dtypes.\n"
   ]
  },
  {
   "cell_type": "code",
   "execution_count": 38,
   "metadata": {},
   "outputs": [
    {
     "name": "stdout",
     "output_type": "stream",
     "text": [
      "Patient ID                        int64\n",
      "Age                             float64\n",
      "Gender                           object\n",
      "Diagnosis                        object\n",
      "Symptom Severity (1-10)           int64\n",
      "Mood Score (1-10)                 int64\n",
      "Sleep Quality (1-10)              int64\n",
      "Physical Activity (hrs/week)      int64\n",
      "Medication                       object\n",
      "Therapy Type                     object\n",
      "Treatment Start Date             object\n",
      "Treatment Duration (weeks)      float64\n",
      "Stress Level (1-10)               int64\n",
      "Outcome                          object\n",
      "Treatment Progress (1-10)         int64\n",
      "AI-Detected Emotional State      object\n",
      "Adherence to Treatment (%)        int64\n",
      "dtype: object\n"
     ]
    }
   ],
   "source": [
    "# Obtener los tipos de datos de las columnas del DataFrame df_csv\n",
    "tipos_datos = df_csv.dtypes\n",
    "print(tipos_datos)"
   ]
  },
  {
   "cell_type": "markdown",
   "metadata": {},
   "source": [
    "22. Cambiar el tipo de una columna de float a int con la función astype.\n"
   ]
  },
  {
   "cell_type": "code",
   "execution_count": 39,
   "metadata": {},
   "outputs": [
    {
     "name": "stdout",
     "output_type": "stream",
     "text": [
      "Patient ID                        int64\n",
      "Age                               int64\n",
      "Gender                           object\n",
      "Diagnosis                        object\n",
      "Symptom Severity (1-10)           int64\n",
      "Mood Score (1-10)                 int64\n",
      "Sleep Quality (1-10)              int64\n",
      "Physical Activity (hrs/week)      int64\n",
      "Medication                       object\n",
      "Therapy Type                     object\n",
      "Treatment Start Date             object\n",
      "Treatment Duration (weeks)      float64\n",
      "Stress Level (1-10)               int64\n",
      "Outcome                          object\n",
      "Treatment Progress (1-10)         int64\n",
      "AI-Detected Emotional State      object\n",
      "Adherence to Treatment (%)        int64\n",
      "dtype: object\n"
     ]
    }
   ],
   "source": [
    "# Cambiar el tipo de dato de la columna 'Age' de float a int en el DataFrame df_csv\n",
    "df_csv['Age'] = df_csv['Age'].astype(int)\n",
    "print(df_csv.dtypes)"
   ]
  },
  {
   "cell_type": "markdown",
   "metadata": {},
   "source": [
    "23. Calcular el número de tipos de datos por cada categoría con get_dtype_counts.\n"
   ]
  },
  {
   "cell_type": "code",
   "execution_count": null,
   "metadata": {},
   "outputs": [
    {
     "name": "stdout",
     "output_type": "stream",
     "text": [
      "int64      9\n",
      "object     7\n",
      "float64    1\n",
      "Name: count, dtype: int64\n"
     ]
    }
   ],
   "source": [
    "# Calcular el número de tipos de datos por cada categoría en el DataFrame df_csv\n",
    "conteo_tipos_datos = df_csv.dtypes.value_counts()\n",
    "print(conteo_tipos_datos)"
   ]
  },
  {
   "cell_type": "markdown",
   "metadata": {},
   "source": [
    "23. Calcular el número de tipos de datos por cada categoría con get_dtype_counts.\n"
   ]
  },
  {
   "cell_type": "code",
   "execution_count": 42,
   "metadata": {},
   "outputs": [
    {
     "name": "stdout",
     "output_type": "stream",
     "text": [
      "int64      9\n",
      "object     7\n",
      "float64    1\n",
      "Name: count, dtype: int64\n"
     ]
    }
   ],
   "source": [
    "# Calcular el número de tipos de datos por cada categoría en el DataFrame df_csv\n",
    "conteo_tipos_datos = df_csv.dtypes.value_counts()\n",
    "print(conteo_tipos_datos)"
   ]
  },
  {
   "cell_type": "markdown",
   "metadata": {},
   "source": [
    "25. Obtener la representación en NumPy de un objeto DataFrame.\n"
   ]
  },
  {
   "cell_type": "code",
   "execution_count": 41,
   "metadata": {},
   "outputs": [
    {
     "name": "stdout",
     "output_type": "stream",
     "text": [
      "[[1 43 'Female' ... 7 'Anxious' 66]\n",
      " [2 40 'Female' ... 7 'Neutral' 78]\n",
      " [3 55 'Female' ... 5 'Happy' 62]\n",
      " ...\n",
      " [498 23 'Male' ... 5 'Neutral' 87]\n",
      " [499 48 'Male' ... 7 'Anxious' 73]\n",
      " [500 58 'Male' ... 5 'Happy' 70]]\n"
     ]
    }
   ],
   "source": [
    "# Obtener la representación en NumPy del DataFrame df_csv\n",
    "numpy_representation = df_csv.to_numpy()\n",
    "print(numpy_representation)"
   ]
  },
  {
   "cell_type": "markdown",
   "metadata": {},
   "source": [
    "26. Crear un objeto DataFrame a partir de objetos Series.\n"
   ]
  },
  {
   "cell_type": "code",
   "execution_count": 43,
   "metadata": {},
   "outputs": [
    {
     "name": "stdout",
     "output_type": "stream",
     "text": [
      "   Nombre  Edad Género\n",
      "0     Ana    23      F\n",
      "1    Luis    34      M\n",
      "2  Carlos    45      M\n"
     ]
    }
   ],
   "source": [
    "# Crear objetos Series\n",
    "serie_nombres = pd.Series(['Ana', 'Luis', 'Carlos'])\n",
    "serie_edades = pd.Series([23, 34, 45])\n",
    "serie_generos = pd.Series(['F', 'M', 'M'])\n",
    "\n",
    "# Crear un DataFrame a partir de las Series\n",
    "df_series = pd.DataFrame({\n",
    "    'Nombre': serie_nombres,\n",
    "    'Edad': serie_edades,\n",
    "    'Género': serie_generos\n",
    "})\n",
    "\n",
    "print(df_series)"
   ]
  },
  {
   "cell_type": "markdown",
   "metadata": {},
   "source": [
    "27. Extraer una fila de un DataFrame como un objeto Series.\n"
   ]
  },
  {
   "cell_type": "code",
   "execution_count": 44,
   "metadata": {},
   "outputs": [
    {
     "name": "stdout",
     "output_type": "stream",
     "text": [
      "Patient ID                                              1\n",
      "Age                                                    43\n",
      "Gender                                             Female\n",
      "Diagnosis                       Major Depressive Disorder\n",
      "Symptom Severity (1-10)                                10\n",
      "Mood Score (1-10)                                       5\n",
      "Sleep Quality (1-10)                                    8\n",
      "Physical Activity (hrs/week)                            5\n",
      "Medication                               Mood Stabilizers\n",
      "Therapy Type                        Interpersonal Therapy\n",
      "Treatment Start Date                           2024-01-25\n",
      "Treatment Duration (weeks)                           11.0\n",
      "Stress Level (1-10)                                     9\n",
      "Outcome                                      Deteriorated\n",
      "Treatment Progress (1-10)                               7\n",
      "AI-Detected Emotional State                       Anxious\n",
      "Adherence to Treatment (%)                             66\n",
      "Name: 0, dtype: object\n"
     ]
    }
   ],
   "source": [
    "# Extraer la primera fila del DataFrame df_csv como un objeto Series\n",
    "fila_serie = df_csv.iloc[0]\n",
    "print(fila_serie)"
   ]
  },
  {
   "cell_type": "markdown",
   "metadata": {},
   "source": [
    "28. Cambiar el orden de dos columnas de un objeto DataFrame.\n"
   ]
  },
  {
   "cell_type": "code",
   "execution_count": 46,
   "metadata": {},
   "outputs": [
    {
     "name": "stdout",
     "output_type": "stream",
     "text": [
      "     Patient ID  Gender  Age\n",
      "0             1  Female   43\n",
      "1             2  Female   40\n",
      "2             3  Female   55\n",
      "3             4  Female   34\n",
      "4             5    Male   52\n",
      "..          ...     ...  ...\n",
      "495         496    Male   24\n",
      "496         497    Male   22\n",
      "497         498    Male   23\n",
      "498         499    Male   48\n",
      "499         500    Male   58\n",
      "\n",
      "[500 rows x 3 columns]\n"
     ]
    }
   ],
   "source": [
    "# Cambiar el orden de las columnas 'Age' y 'Gender' en el DataFrame df_csv\n",
    "columnas_reordenadas = ['Patient ID', 'Gender', 'Age']\n",
    "df_reordenado = df_csv.reindex(columns=columnas_reordenadas)\n",
    "print(df_reordenado)"
   ]
  },
  {
   "cell_type": "markdown",
   "metadata": {},
   "source": [
    "29. Crea un DataFrame a partir de uno existente tomando alguna de las columnas del DataFrame  existente.\n",
    "\n"
   ]
  },
  {
   "cell_type": "code",
   "execution_count": 47,
   "metadata": {},
   "outputs": [
    {
     "name": "stdout",
     "output_type": "stream",
     "text": [
      "     Patient ID  Age  Gender\n",
      "0             1   43  Female\n",
      "1             2   40  Female\n",
      "2             3   55  Female\n",
      "3             4   34  Female\n",
      "4             5   52    Male\n",
      "..          ...  ...     ...\n",
      "495         496   24    Male\n",
      "496         497   22    Male\n",
      "497         498   23    Male\n",
      "498         499   48    Male\n",
      "499         500   58    Male\n",
      "\n",
      "[500 rows x 3 columns]\n"
     ]
    }
   ],
   "source": [
    "# Crear un nuevo DataFrame tomando algunas columnas del DataFrame existente df_csv\n",
    "nuevo_df = df_csv[['Patient ID', 'Age', 'Gender']]\n",
    "print(nuevo_df)"
   ]
  },
  {
   "cell_type": "markdown",
   "metadata": {},
   "source": [
    "30. Seleccionar todas las columnas de un DataFrame, excepto una en particular.\n"
   ]
  },
  {
   "cell_type": "code",
   "execution_count": null,
   "metadata": {},
   "outputs": [
    {
     "name": "stdout",
     "output_type": "stream",
     "text": [
      "     Patient ID  Age                  Diagnosis  Symptom Severity (1-10)  \\\n",
      "0             1   43  Major Depressive Disorder                       10   \n",
      "1             2   40  Major Depressive Disorder                        9   \n",
      "2             3   55  Major Depressive Disorder                        6   \n",
      "3             4   34  Major Depressive Disorder                        6   \n",
      "4             5   52             Panic Disorder                        7   \n",
      "..          ...  ...                        ...                      ...   \n",
      "495         496   24        Generalized Anxiety                       10   \n",
      "496         497   22             Panic Disorder                        5   \n",
      "497         498   23  Major Depressive Disorder                        7   \n",
      "498         499   48           Bipolar Disorder                        9   \n",
      "499         500   58           Bipolar Disorder                        5   \n",
      "\n",
      "     Mood Score (1-10)  Sleep Quality (1-10)  Physical Activity (hrs/week)  \\\n",
      "0                    5                     8                             5   \n",
      "1                    5                     4                             7   \n",
      "2                    3                     4                             3   \n",
      "3                    3                     6                             5   \n",
      "4                    6                     6                             8   \n",
      "..                 ...                   ...                           ...   \n",
      "495                  4                     8                             6   \n",
      "496                  6                     6                             7   \n",
      "497                  3                     4                             2   \n",
      "498                  4                     6                             9   \n",
      "499                  7                     6                             2   \n",
      "\n",
      "           Medication                    Therapy Type Treatment Start Date  \\\n",
      "0    Mood Stabilizers           Interpersonal Therapy           2024-01-25   \n",
      "1      Antipsychotics           Interpersonal Therapy           2024-02-27   \n",
      "2               SSRIs       Mindfulness-Based Therapy           2024-03-20   \n",
      "3               SSRIs       Mindfulness-Based Therapy           2024-03-29   \n",
      "4         Anxiolytics           Interpersonal Therapy           2024-03-18   \n",
      "..                ...                             ...                  ...   \n",
      "495  Mood Stabilizers  Dialectical Behavioral Therapy           2024-04-09   \n",
      "496   Benzodiazepines       Mindfulness-Based Therapy           2024-02-05   \n",
      "497   Antidepressants    Cognitive Behavioral Therapy           2024-03-24   \n",
      "498   Antidepressants       Mindfulness-Based Therapy           2024-03-22   \n",
      "499             SSRIs    Cognitive Behavioral Therapy           2024-03-24   \n",
      "\n",
      "     Treatment Duration (weeks)  Stress Level (1-10)       Outcome  \\\n",
      "0                          11.0                    9  Deteriorated   \n",
      "1                          11.0                    7     No Change   \n",
      "2                          14.0                    7  Deteriorated   \n",
      "3                           8.0                    8  Deteriorated   \n",
      "4                          12.0                    5  Deteriorated   \n",
      "..                          ...                  ...           ...   \n",
      "495                         8.0                    9      Improved   \n",
      "496                        13.0                    6  Deteriorated   \n",
      "497                        10.0                    5  Deteriorated   \n",
      "498                        10.0                    6      Improved   \n",
      "499                        10.0                    6  Deteriorated   \n",
      "\n",
      "     Treatment Progress (1-10) AI-Detected Emotional State  \\\n",
      "0                            7                     Anxious   \n",
      "1                            7                     Neutral   \n",
      "2                            5                       Happy   \n",
      "3                           10                     Excited   \n",
      "4                            6                     Excited   \n",
      "..                         ...                         ...   \n",
      "495                         10                   Depressed   \n",
      "496                          8                       Happy   \n",
      "497                          5                     Neutral   \n",
      "498                          7                     Anxious   \n",
      "499                          5                       Happy   \n",
      "\n",
      "     Adherence to Treatment (%)  \n",
      "0                            66  \n",
      "1                            78  \n",
      "2                            62  \n",
      "3                            72  \n",
      "4                            63  \n",
      "..                          ...  \n",
      "495                          73  \n",
      "496                          86  \n",
      "497                          87  \n",
      "498                          73  \n",
      "499                          70  \n",
      "\n",
      "[500 rows x 16 columns]\n"
     ]
    }
   ],
   "source": [
    "# Seleccionar todas las columnas del DataFrame df_csv, excepto la columna 'Gender'\n",
    "df_sin_genero = df_csv.drop(columns=['Gender'])\n",
    "print(df_sin_genero)"
   ]
  },
  {
   "cell_type": "markdown",
   "metadata": {},
   "source": [
    "31. Seleccionar columnas de un objeto DataFrame usando notación de slicing.\n"
   ]
  },
  {
   "cell_type": "code",
   "execution_count": 51,
   "metadata": {},
   "outputs": [
    {
     "name": "stdout",
     "output_type": "stream",
     "text": [
      "     Age  Gender                  Diagnosis\n",
      "0     43  Female  Major Depressive Disorder\n",
      "1     40  Female  Major Depressive Disorder\n",
      "2     55  Female  Major Depressive Disorder\n",
      "3     34  Female  Major Depressive Disorder\n",
      "4     52    Male             Panic Disorder\n",
      "..   ...     ...                        ...\n",
      "495   24    Male        Generalized Anxiety\n",
      "496   22    Male             Panic Disorder\n",
      "497   23    Male  Major Depressive Disorder\n",
      "498   48    Male           Bipolar Disorder\n",
      "499   58    Male           Bipolar Disorder\n",
      "\n",
      "[500 rows x 3 columns]\n"
     ]
    }
   ],
   "source": [
    "# Seleccionar las columnas desde 'Age' hasta 'Diagnosis' del DataFrame df_csv\n",
    "df_sliced = df_csv.loc[:, 'Age':'Diagnosis']\n",
    "print(df_sliced)"
   ]
  },
  {
   "cell_type": "markdown",
   "metadata": {},
   "source": [
    "32. Comprobar si una columna existe en un DataFrame con el operador Python in.\n"
   ]
  },
  {
   "cell_type": "code",
   "execution_count": null,
   "metadata": {},
   "outputs": [
    {
     "name": "stdout",
     "output_type": "stream",
     "text": [
      "¿La columna 'Gender' existe en el DataFrame df_csv?: True\n"
     ]
    }
   ],
   "source": [
    "columna_existe = 'Gender' in df_csv.columns\n",
    "print(\"¿La columna 'Gender' existe en el DataFrame df_csv?:\", columna_existe)"
   ]
  },
  {
   "cell_type": "markdown",
   "metadata": {},
   "source": [
    "33. Validar con isin si un elemento se halla dentro de un DataFrame.\n"
   ]
  },
  {
   "cell_type": "code",
   "execution_count": 53,
   "metadata": {},
   "outputs": [
    {
     "name": "stdout",
     "output_type": "stream",
     "text": [
      "0       True\n",
      "1      False\n",
      "2       True\n",
      "3      False\n",
      "4      False\n",
      "       ...  \n",
      "495    False\n",
      "496    False\n",
      "497    False\n",
      "498    False\n",
      "499    False\n",
      "Name: Age, Length: 500, dtype: bool\n"
     ]
    }
   ],
   "source": [
    "# Validar si los valores 43 y 55 se encuentran en la columna 'Age' del DataFrame df_csv\n",
    "valores_a_validar = [43, 55]\n",
    "validacion = df_csv['Age'].isin(valores_a_validar)\n",
    "print(validacion)"
   ]
  },
  {
   "cell_type": "markdown",
   "metadata": {},
   "source": [
    "34. Obtener registros a partir de sus índices numéricos con iloc.\n"
   ]
  },
  {
   "cell_type": "code",
   "execution_count": 55,
   "metadata": {},
   "outputs": [
    {
     "name": "stdout",
     "output_type": "stream",
     "text": [
      "   Patient ID  Age  Gender                  Diagnosis  \\\n",
      "0           1   43  Female  Major Depressive Disorder   \n",
      "1           2   40  Female  Major Depressive Disorder   \n",
      "2           3   55  Female  Major Depressive Disorder   \n",
      "3           4   34  Female  Major Depressive Disorder   \n",
      "4           5   52    Male             Panic Disorder   \n",
      "\n",
      "   Symptom Severity (1-10)  Mood Score (1-10)  Sleep Quality (1-10)  \\\n",
      "0                       10                  5                     8   \n",
      "1                        9                  5                     4   \n",
      "2                        6                  3                     4   \n",
      "3                        6                  3                     6   \n",
      "4                        7                  6                     6   \n",
      "\n",
      "   Physical Activity (hrs/week)        Medication               Therapy Type  \\\n",
      "0                             5  Mood Stabilizers      Interpersonal Therapy   \n",
      "1                             7    Antipsychotics      Interpersonal Therapy   \n",
      "2                             3             SSRIs  Mindfulness-Based Therapy   \n",
      "3                             5             SSRIs  Mindfulness-Based Therapy   \n",
      "4                             8       Anxiolytics      Interpersonal Therapy   \n",
      "\n",
      "  Treatment Start Date  Treatment Duration (weeks)  Stress Level (1-10)  \\\n",
      "0           2024-01-25                        11.0                    9   \n",
      "1           2024-02-27                        11.0                    7   \n",
      "2           2024-03-20                        14.0                    7   \n",
      "3           2024-03-29                         8.0                    8   \n",
      "4           2024-03-18                        12.0                    5   \n",
      "\n",
      "        Outcome  Treatment Progress (1-10) AI-Detected Emotional State  \\\n",
      "0  Deteriorated                          7                     Anxious   \n",
      "1     No Change                          7                     Neutral   \n",
      "2  Deteriorated                          5                       Happy   \n",
      "3  Deteriorated                         10                     Excited   \n",
      "4  Deteriorated                          6                     Excited   \n",
      "\n",
      "   Adherence to Treatment (%)  \n",
      "0                          66  \n",
      "1                          78  \n",
      "2                          62  \n",
      "3                          72  \n",
      "4                          63  \n"
     ]
    }
   ],
   "source": [
    "# Obtener registros a partir de sus índices numéricos con iloc\n",
    "registros_iloc = df_csv.iloc[0:5]\n",
    "print(registros_iloc)"
   ]
  },
  {
   "cell_type": "markdown",
   "metadata": {},
   "source": [
    "35. Seleccionar filas y columnas específicas de un DataFrame con iloc.\n"
   ]
  },
  {
   "cell_type": "code",
   "execution_count": null,
   "metadata": {},
   "outputs": [
    {
     "name": "stdout",
     "output_type": "stream",
     "text": [
      "   Patient ID  Age  Gender\n",
      "0           1   43  Female\n",
      "1           2   40  Female\n",
      "2           3   55  Female\n",
      "3           4   34  Female\n",
      "4           5   52    Male\n"
     ]
    }
   ],
   "source": [
    "# Seleccionar las primeras 5 filas y las columnas 0, 1 y 2 del DataFrame df_csv\n",
    "filas_columnas_iloc = df_csv.iloc[0:5, [0, 1, 2]]\n",
    "print(filas_columnas_iloc)"
   ]
  },
  {
   "cell_type": "markdown",
   "metadata": {},
   "source": [
    "36. Seleccionar filas y columnas a partir de sus nombres con loc.\n"
   ]
  },
  {
   "cell_type": "code",
   "execution_count": 54,
   "metadata": {},
   "outputs": [
    {
     "name": "stdout",
     "output_type": "stream",
     "text": [
      "   Patient ID  Age  Gender                  Diagnosis\n",
      "0           1   43  Female  Major Depressive Disorder\n",
      "1           2   40  Female  Major Depressive Disorder\n",
      "2           3   55  Female  Major Depressive Disorder\n",
      "3           4   34  Female  Major Depressive Disorder\n",
      "4           5   52    Male             Panic Disorder\n"
     ]
    }
   ],
   "source": [
    "# Seleccionar filas y columnas específicas del DataFrame df_csv\n",
    "filas_columnas_seleccionadas = df_csv.loc[0:4, ['Patient ID', 'Age', 'Gender', 'Diagnosis']]\n",
    "print(filas_columnas_seleccionadas)"
   ]
  },
  {
   "cell_type": "markdown",
   "metadata": {},
   "source": [
    "37. Seleccionar registros donde los valores de una columna estén en un rango.\n"
   ]
  },
  {
   "cell_type": "code",
   "execution_count": 57,
   "metadata": {},
   "outputs": [
    {
     "name": "stdout",
     "output_type": "stream",
     "text": [
      "     Patient ID  Age  Gender                  Diagnosis  \\\n",
      "1             2   40  Female  Major Depressive Disorder   \n",
      "3             4   34  Female  Major Depressive Disorder   \n",
      "7             8   32  Female  Major Depressive Disorder   \n",
      "15           16   38  Female        Generalized Anxiety   \n",
      "16           17   30    Male           Bipolar Disorder   \n",
      "..          ...  ...     ...                        ...   \n",
      "475         476   39  Female        Generalized Anxiety   \n",
      "476         477   40    Male             Panic Disorder   \n",
      "481         482   36  Female        Generalized Anxiety   \n",
      "484         485   32    Male           Bipolar Disorder   \n",
      "490         491   33  Female           Bipolar Disorder   \n",
      "\n",
      "     Symptom Severity (1-10)  Mood Score (1-10)  Sleep Quality (1-10)  \\\n",
      "1                          9                  5                     4   \n",
      "3                          6                  3                     6   \n",
      "7                          5                  3                     5   \n",
      "15                        10                  3                     8   \n",
      "16                        10                  8                     5   \n",
      "..                       ...                ...                   ...   \n",
      "475                        5                  3                     8   \n",
      "476                        5                  5                     4   \n",
      "481                        5                  3                     5   \n",
      "484                        8                  8                     6   \n",
      "490                       10                  3                     7   \n",
      "\n",
      "     Physical Activity (hrs/week)        Medication  \\\n",
      "1                               7    Antipsychotics   \n",
      "3                               5             SSRIs   \n",
      "7                               2   Antidepressants   \n",
      "15                              2  Mood Stabilizers   \n",
      "16                              5  Mood Stabilizers   \n",
      "..                            ...               ...   \n",
      "475                             2  Mood Stabilizers   \n",
      "476                             7   Benzodiazepines   \n",
      "481                            10    Antipsychotics   \n",
      "484                             3             SSRIs   \n",
      "490                             1  Mood Stabilizers   \n",
      "\n",
      "                     Therapy Type Treatment Start Date  \\\n",
      "1           Interpersonal Therapy           2024-02-27   \n",
      "3       Mindfulness-Based Therapy           2024-03-29   \n",
      "7    Cognitive Behavioral Therapy           2024-02-03   \n",
      "15          Interpersonal Therapy           2024-03-23   \n",
      "16      Mindfulness-Based Therapy           2024-01-19   \n",
      "..                            ...                  ...   \n",
      "475         Interpersonal Therapy           2024-03-19   \n",
      "476  Cognitive Behavioral Therapy           2024-02-12   \n",
      "481  Cognitive Behavioral Therapy           2024-02-22   \n",
      "484  Cognitive Behavioral Therapy           2024-03-09   \n",
      "490         Interpersonal Therapy           2024-03-02   \n",
      "\n",
      "     Treatment Duration (weeks)  Stress Level (1-10)       Outcome  \\\n",
      "1                          11.0                    7     No Change   \n",
      "3                           8.0                    8  Deteriorated   \n",
      "7                          12.0                    5     No Change   \n",
      "15                         15.0                    5      Improved   \n",
      "16                          9.0                    9     No Change   \n",
      "..                          ...                  ...           ...   \n",
      "475                        16.0                    5     No Change   \n",
      "476                         8.0                    8      Improved   \n",
      "481                        14.0                    6      Improved   \n",
      "484                        13.0                   10      Improved   \n",
      "490                        16.0                   10  Deteriorated   \n",
      "\n",
      "     Treatment Progress (1-10) AI-Detected Emotional State  \\\n",
      "1                            7                     Neutral   \n",
      "3                           10                     Excited   \n",
      "7                            6                    Stressed   \n",
      "15                           7                   Depressed   \n",
      "16                           6                   Depressed   \n",
      "..                         ...                         ...   \n",
      "475                         10                    Stressed   \n",
      "476                          6                       Happy   \n",
      "481                          5                    Stressed   \n",
      "484                          7                     Neutral   \n",
      "490                          8                       Happy   \n",
      "\n",
      "     Adherence to Treatment (%)  \n",
      "1                            78  \n",
      "3                            72  \n",
      "7                            74  \n",
      "15                           69  \n",
      "16                           86  \n",
      "..                          ...  \n",
      "475                          81  \n",
      "476                          67  \n",
      "481                          77  \n",
      "484                          72  \n",
      "490                          83  \n",
      "\n",
      "[132 rows x 17 columns]\n"
     ]
    }
   ],
   "source": [
    "# Seleccionar registros donde los valores de la columna 'Age' estén entre 30 y 40\n",
    "registros_rango = df_csv[df_csv['Age'].between(30, 40)]\n",
    "print(registros_rango)"
   ]
  },
  {
   "cell_type": "markdown",
   "metadata": {},
   "source": [
    "38 Seleccionar registros donde se cumpla una condición para valores de una columna.\n"
   ]
  },
  {
   "cell_type": "code",
   "execution_count": 58,
   "metadata": {},
   "outputs": [
    {
     "name": "stdout",
     "output_type": "stream",
     "text": [
      "     Patient ID  Age  Gender                  Diagnosis  \\\n",
      "0             1   43  Female  Major Depressive Disorder   \n",
      "1             2   40  Female  Major Depressive Disorder   \n",
      "2             3   55  Female  Major Depressive Disorder   \n",
      "3             4   34  Female  Major Depressive Disorder   \n",
      "7             8   32  Female  Major Depressive Disorder   \n",
      "..          ...  ...     ...                        ...   \n",
      "480         481   58  Female        Generalized Anxiety   \n",
      "481         482   36  Female        Generalized Anxiety   \n",
      "486         487   24  Female        Generalized Anxiety   \n",
      "488         489   27  Female           Bipolar Disorder   \n",
      "490         491   33  Female           Bipolar Disorder   \n",
      "\n",
      "     Symptom Severity (1-10)  Mood Score (1-10)  Sleep Quality (1-10)  \\\n",
      "0                         10                  5                     8   \n",
      "1                          9                  5                     4   \n",
      "2                          6                  3                     4   \n",
      "3                          6                  3                     6   \n",
      "7                          5                  3                     5   \n",
      "..                       ...                ...                   ...   \n",
      "480                        8                  5                     7   \n",
      "481                        5                  3                     5   \n",
      "486                        5                  8                     9   \n",
      "488                        8                  4                     6   \n",
      "490                       10                  3                     7   \n",
      "\n",
      "     Physical Activity (hrs/week)        Medication  \\\n",
      "0                               5  Mood Stabilizers   \n",
      "1                               7    Antipsychotics   \n",
      "2                               3             SSRIs   \n",
      "3                               5             SSRIs   \n",
      "7                               2   Antidepressants   \n",
      "..                            ...               ...   \n",
      "480                             7  Mood Stabilizers   \n",
      "481                            10    Antipsychotics   \n",
      "486                             7   Antidepressants   \n",
      "488                             6  Mood Stabilizers   \n",
      "490                             1  Mood Stabilizers   \n",
      "\n",
      "                       Therapy Type Treatment Start Date  \\\n",
      "0             Interpersonal Therapy           2024-01-25   \n",
      "1             Interpersonal Therapy           2024-02-27   \n",
      "2         Mindfulness-Based Therapy           2024-03-20   \n",
      "3         Mindfulness-Based Therapy           2024-03-29   \n",
      "7      Cognitive Behavioral Therapy           2024-02-03   \n",
      "..                              ...                  ...   \n",
      "480           Interpersonal Therapy           2024-03-06   \n",
      "481    Cognitive Behavioral Therapy           2024-02-22   \n",
      "486  Dialectical Behavioral Therapy           2024-03-26   \n",
      "488    Cognitive Behavioral Therapy           2024-03-12   \n",
      "490           Interpersonal Therapy           2024-03-02   \n",
      "\n",
      "     Treatment Duration (weeks)  Stress Level (1-10)       Outcome  \\\n",
      "0                          11.0                    9  Deteriorated   \n",
      "1                          11.0                    7     No Change   \n",
      "2                          14.0                    7  Deteriorated   \n",
      "3                           8.0                    8  Deteriorated   \n",
      "7                          12.0                    5     No Change   \n",
      "..                          ...                  ...           ...   \n",
      "480                        15.0                   10      Improved   \n",
      "481                        14.0                    6      Improved   \n",
      "486                        13.0                   10     No Change   \n",
      "488                        13.0                    8  Deteriorated   \n",
      "490                        16.0                   10  Deteriorated   \n",
      "\n",
      "     Treatment Progress (1-10) AI-Detected Emotional State  \\\n",
      "0                            7                     Anxious   \n",
      "1                            7                     Neutral   \n",
      "2                            5                       Happy   \n",
      "3                           10                     Excited   \n",
      "7                            6                    Stressed   \n",
      "..                         ...                         ...   \n",
      "480                          5                    Stressed   \n",
      "481                          5                    Stressed   \n",
      "486                          9                     Excited   \n",
      "488                          6                     Excited   \n",
      "490                          8                       Happy   \n",
      "\n",
      "     Adherence to Treatment (%)  \n",
      "0                            66  \n",
      "1                            78  \n",
      "2                            62  \n",
      "3                            72  \n",
      "7                            74  \n",
      "..                          ...  \n",
      "480                          72  \n",
      "481                          77  \n",
      "486                          61  \n",
      "488                          86  \n",
      "490                          83  \n",
      "\n",
      "[234 rows x 17 columns]\n"
     ]
    }
   ],
   "source": [
    "# Seleccionar registros donde el valor de la columna 'Gender' sea 'Female'\n",
    "registros_female = df_csv.query(\"Gender == 'Female'\")\n",
    "print(registros_female)"
   ]
  },
  {
   "cell_type": "markdown",
   "metadata": {},
   "source": [
    "39. Modificar un valor o entrada específico de un objeto DataFrame usando loc.\n"
   ]
  },
  {
   "cell_type": "code",
   "execution_count": 60,
   "metadata": {},
   "outputs": [
    {
     "name": "stdout",
     "output_type": "stream",
     "text": [
      "Patient ID                                              1\n",
      "Age                                                    45\n",
      "Gender                                             Female\n",
      "Diagnosis                       Major Depressive Disorder\n",
      "Symptom Severity (1-10)                                10\n",
      "Mood Score (1-10)                                       5\n",
      "Sleep Quality (1-10)                                    8\n",
      "Physical Activity (hrs/week)                            5\n",
      "Medication                               Mood Stabilizers\n",
      "Therapy Type                        Interpersonal Therapy\n",
      "Treatment Start Date                           2024-01-25\n",
      "Treatment Duration (weeks)                           11.0\n",
      "Stress Level (1-10)                                     9\n",
      "Outcome                                      Deteriorated\n",
      "Treatment Progress (1-10)                               7\n",
      "AI-Detected Emotional State                       Anxious\n",
      "Adherence to Treatment (%)                             66\n",
      "Name: 0, dtype: object\n"
     ]
    }
   ],
   "source": [
    "# Modificar el valor de la columna 'Age' en la fila con índice 0\n",
    "df_csv.loc[0, 'Age'] = 45\n",
    "print(df_csv.loc[0])"
   ]
  },
  {
   "cell_type": "markdown",
   "metadata": {},
   "source": [
    "40. Insertar una nueva columna en una posición arbitraria con la función insert.\n"
   ]
  },
  {
   "cell_type": "code",
   "execution_count": 61,
   "metadata": {},
   "outputs": [
    {
     "name": "stdout",
     "output_type": "stream",
     "text": [
      "   Patient ID  Age         New Column  Gender                  Diagnosis  \\\n",
      "0           1   45  Valor por defecto  Female  Major Depressive Disorder   \n",
      "1           2   40  Valor por defecto  Female  Major Depressive Disorder   \n",
      "2           3   55  Valor por defecto  Female  Major Depressive Disorder   \n",
      "3           4   34  Valor por defecto  Female  Major Depressive Disorder   \n",
      "4           5   52  Valor por defecto    Male             Panic Disorder   \n",
      "\n",
      "   Symptom Severity (1-10)  Mood Score (1-10)  Sleep Quality (1-10)  \\\n",
      "0                       10                  5                     8   \n",
      "1                        9                  5                     4   \n",
      "2                        6                  3                     4   \n",
      "3                        6                  3                     6   \n",
      "4                        7                  6                     6   \n",
      "\n",
      "   Physical Activity (hrs/week)        Medication               Therapy Type  \\\n",
      "0                             5  Mood Stabilizers      Interpersonal Therapy   \n",
      "1                             7    Antipsychotics      Interpersonal Therapy   \n",
      "2                             3             SSRIs  Mindfulness-Based Therapy   \n",
      "3                             5             SSRIs  Mindfulness-Based Therapy   \n",
      "4                             8       Anxiolytics      Interpersonal Therapy   \n",
      "\n",
      "  Treatment Start Date  Treatment Duration (weeks)  Stress Level (1-10)  \\\n",
      "0           2024-01-25                        11.0                    9   \n",
      "1           2024-02-27                        11.0                    7   \n",
      "2           2024-03-20                        14.0                    7   \n",
      "3           2024-03-29                         8.0                    8   \n",
      "4           2024-03-18                        12.0                    5   \n",
      "\n",
      "        Outcome  Treatment Progress (1-10) AI-Detected Emotional State  \\\n",
      "0  Deteriorated                          7                     Anxious   \n",
      "1     No Change                          7                     Neutral   \n",
      "2  Deteriorated                          5                       Happy   \n",
      "3  Deteriorated                         10                     Excited   \n",
      "4  Deteriorated                          6                     Excited   \n",
      "\n",
      "   Adherence to Treatment (%)  \n",
      "0                          66  \n",
      "1                          78  \n",
      "2                          62  \n",
      "3                          72  \n",
      "4                          63  \n"
     ]
    }
   ],
   "source": [
    "# Insertar una nueva columna 'New Column' en la posición 2\n",
    "df_csv.insert(2, 'New Column', 'Valor por defecto')\n",
    "print(df_csv.head())"
   ]
  },
  {
   "cell_type": "markdown",
   "metadata": {},
   "source": [
    "41. Agregar una nueva fila a un objeto DataFrame por medio de loc.\n"
   ]
  },
  {
   "cell_type": "code",
   "execution_count": 62,
   "metadata": {},
   "outputs": [
    {
     "name": "stdout",
     "output_type": "stream",
     "text": [
      "     Patient ID  Age         New Column  Gender                  Diagnosis  \\\n",
      "496         497   22  Valor por defecto    Male             Panic Disorder   \n",
      "497         498   23  Valor por defecto    Male  Major Depressive Disorder   \n",
      "498         499   48  Valor por defecto    Male           Bipolar Disorder   \n",
      "499         500   58  Valor por defecto    Male           Bipolar Disorder   \n",
      "500         501   29  Valor por defecto  Female        Generalized Anxiety   \n",
      "\n",
      "     Symptom Severity (1-10)  Mood Score (1-10)  Sleep Quality (1-10)  \\\n",
      "496                        5                  6                     6   \n",
      "497                        7                  3                     4   \n",
      "498                        9                  4                     6   \n",
      "499                        5                  7                     6   \n",
      "500                        8                  6                     7   \n",
      "\n",
      "     Physical Activity (hrs/week)       Medication  \\\n",
      "496                             7  Benzodiazepines   \n",
      "497                             2  Antidepressants   \n",
      "498                             9  Antidepressants   \n",
      "499                             2            SSRIs   \n",
      "500                             4  Antidepressants   \n",
      "\n",
      "                     Therapy Type Treatment Start Date  \\\n",
      "496     Mindfulness-Based Therapy           2024-02-05   \n",
      "497  Cognitive Behavioral Therapy           2024-03-24   \n",
      "498     Mindfulness-Based Therapy           2024-03-22   \n",
      "499  Cognitive Behavioral Therapy           2024-03-24   \n",
      "500  Cognitive Behavioral Therapy           2024-04-01   \n",
      "\n",
      "     Treatment Duration (weeks)  Stress Level (1-10)       Outcome  \\\n",
      "496                        13.0                    6  Deteriorated   \n",
      "497                        10.0                    5  Deteriorated   \n",
      "498                        10.0                    6      Improved   \n",
      "499                        10.0                    6  Deteriorated   \n",
      "500                        10.0                    7      Improved   \n",
      "\n",
      "     Treatment Progress (1-10) AI-Detected Emotional State  \\\n",
      "496                          8                       Happy   \n",
      "497                          5                     Neutral   \n",
      "498                          7                     Anxious   \n",
      "499                          5                       Happy   \n",
      "500                          8                     Neutral   \n",
      "\n",
      "     Adherence to Treatment (%)  \n",
      "496                          86  \n",
      "497                          87  \n",
      "498                          73  \n",
      "499                          70  \n",
      "500                          80  \n"
     ]
    }
   ],
   "source": [
    "# Agregar una nueva fila al DataFrame df_csv\n",
    "nueva_fila = {\n",
    "    'Patient ID': 501,\n",
    "    'Age': 29,\n",
    "    'New Column': 'Valor por defecto',\n",
    "    'Gender': 'Female',\n",
    "    'Diagnosis': 'Generalized Anxiety',\n",
    "    'Symptom Severity (1-10)': 8,\n",
    "    'Mood Score (1-10)': 6,\n",
    "    'Sleep Quality (1-10)': 7,\n",
    "    'Physical Activity (hrs/week)': 4,\n",
    "    'Medication': 'Antidepressants',\n",
    "    'Therapy Type': 'Cognitive Behavioral Therapy',\n",
    "    'Treatment Start Date': '2024-04-01',\n",
    "    'Treatment Duration (weeks)': 10.0,\n",
    "    'Stress Level (1-10)': 7,\n",
    "    'Outcome': 'Improved',\n",
    "    'Treatment Progress (1-10)': 8,\n",
    "    'AI-Detected Emotional State': 'Neutral',\n",
    "    'Adherence to Treatment (%)': 80\n",
    "}\n",
    "\n",
    "df_csv.loc[len(df_csv)] = nueva_fila\n",
    "print(df_csv.tail())"
   ]
  },
  {
   "cell_type": "markdown",
   "metadata": {},
   "source": [
    "\n",
    "42. Recorrer cada una de las columnas de un objeto DataFrame con items.\n"
   ]
  },
  {
   "cell_type": "code",
   "execution_count": 63,
   "metadata": {},
   "outputs": [
    {
     "name": "stdout",
     "output_type": "stream",
     "text": [
      "Nombre de la columna: Patient ID\n",
      "0    1\n",
      "1    2\n",
      "2    3\n",
      "3    4\n",
      "4    5\n",
      "Name: Patient ID, dtype: int64\n",
      "\n",
      "Nombre de la columna: Age\n",
      "0    45\n",
      "1    40\n",
      "2    55\n",
      "3    34\n",
      "4    52\n",
      "Name: Age, dtype: int64\n",
      "\n",
      "Nombre de la columna: New Column\n",
      "0    Valor por defecto\n",
      "1    Valor por defecto\n",
      "2    Valor por defecto\n",
      "3    Valor por defecto\n",
      "4    Valor por defecto\n",
      "Name: New Column, dtype: object\n",
      "\n",
      "Nombre de la columna: Gender\n",
      "0    Female\n",
      "1    Female\n",
      "2    Female\n",
      "3    Female\n",
      "4      Male\n",
      "Name: Gender, dtype: object\n",
      "\n",
      "Nombre de la columna: Diagnosis\n",
      "0    Major Depressive Disorder\n",
      "1    Major Depressive Disorder\n",
      "2    Major Depressive Disorder\n",
      "3    Major Depressive Disorder\n",
      "4               Panic Disorder\n",
      "Name: Diagnosis, dtype: object\n",
      "\n",
      "Nombre de la columna: Symptom Severity (1-10)\n",
      "0    10\n",
      "1     9\n",
      "2     6\n",
      "3     6\n",
      "4     7\n",
      "Name: Symptom Severity (1-10), dtype: int64\n",
      "\n",
      "Nombre de la columna: Mood Score (1-10)\n",
      "0    5\n",
      "1    5\n",
      "2    3\n",
      "3    3\n",
      "4    6\n",
      "Name: Mood Score (1-10), dtype: int64\n",
      "\n",
      "Nombre de la columna: Sleep Quality (1-10)\n",
      "0    8\n",
      "1    4\n",
      "2    4\n",
      "3    6\n",
      "4    6\n",
      "Name: Sleep Quality (1-10), dtype: int64\n",
      "\n",
      "Nombre de la columna: Physical Activity (hrs/week)\n",
      "0    5\n",
      "1    7\n",
      "2    3\n",
      "3    5\n",
      "4    8\n",
      "Name: Physical Activity (hrs/week), dtype: int64\n",
      "\n",
      "Nombre de la columna: Medication\n",
      "0    Mood Stabilizers\n",
      "1      Antipsychotics\n",
      "2               SSRIs\n",
      "3               SSRIs\n",
      "4         Anxiolytics\n",
      "Name: Medication, dtype: object\n",
      "\n",
      "Nombre de la columna: Therapy Type\n",
      "0        Interpersonal Therapy\n",
      "1        Interpersonal Therapy\n",
      "2    Mindfulness-Based Therapy\n",
      "3    Mindfulness-Based Therapy\n",
      "4        Interpersonal Therapy\n",
      "Name: Therapy Type, dtype: object\n",
      "\n",
      "Nombre de la columna: Treatment Start Date\n",
      "0    2024-01-25\n",
      "1    2024-02-27\n",
      "2    2024-03-20\n",
      "3    2024-03-29\n",
      "4    2024-03-18\n",
      "Name: Treatment Start Date, dtype: object\n",
      "\n",
      "Nombre de la columna: Treatment Duration (weeks)\n",
      "0    11.0\n",
      "1    11.0\n",
      "2    14.0\n",
      "3     8.0\n",
      "4    12.0\n",
      "Name: Treatment Duration (weeks), dtype: float64\n",
      "\n",
      "Nombre de la columna: Stress Level (1-10)\n",
      "0    9\n",
      "1    7\n",
      "2    7\n",
      "3    8\n",
      "4    5\n",
      "Name: Stress Level (1-10), dtype: int64\n",
      "\n",
      "Nombre de la columna: Outcome\n",
      "0    Deteriorated\n",
      "1       No Change\n",
      "2    Deteriorated\n",
      "3    Deteriorated\n",
      "4    Deteriorated\n",
      "Name: Outcome, dtype: object\n",
      "\n",
      "Nombre de la columna: Treatment Progress (1-10)\n",
      "0     7\n",
      "1     7\n",
      "2     5\n",
      "3    10\n",
      "4     6\n",
      "Name: Treatment Progress (1-10), dtype: int64\n",
      "\n",
      "Nombre de la columna: AI-Detected Emotional State\n",
      "0    Anxious\n",
      "1    Neutral\n",
      "2      Happy\n",
      "3    Excited\n",
      "4    Excited\n",
      "Name: AI-Detected Emotional State, dtype: object\n",
      "\n",
      "Nombre de la columna: Adherence to Treatment (%)\n",
      "0    66\n",
      "1    78\n",
      "2    62\n",
      "3    72\n",
      "4    63\n",
      "Name: Adherence to Treatment (%), dtype: int64\n",
      "\n"
     ]
    }
   ],
   "source": [
    "# Recorrer cada una de las columnas del DataFrame df_csv con items\n",
    "for nombre_columna, datos_columna in df_csv.items():\n",
    "    print(f\"Nombre de la columna: {nombre_columna}\")\n",
    "    print(datos_columna.head())  # Mostrar los primeros 5 registros de cada columna\n",
    "    print()"
   ]
  },
  {
   "cell_type": "markdown",
   "metadata": {},
   "source": [
    "43. Agregar una columna en una posición específica con la función DataFrame.insert.\n"
   ]
  },
  {
   "cell_type": "code",
   "execution_count": 64,
   "metadata": {},
   "outputs": [
    {
     "name": "stdout",
     "output_type": "stream",
     "text": [
      "   Patient ID  Age      Nueva Columna         New Column  Gender  \\\n",
      "0           1   45  Valor por defecto  Valor por defecto  Female   \n",
      "1           2   40  Valor por defecto  Valor por defecto  Female   \n",
      "2           3   55  Valor por defecto  Valor por defecto  Female   \n",
      "3           4   34  Valor por defecto  Valor por defecto  Female   \n",
      "4           5   52  Valor por defecto  Valor por defecto    Male   \n",
      "\n",
      "                   Diagnosis  Symptom Severity (1-10)  Mood Score (1-10)  \\\n",
      "0  Major Depressive Disorder                       10                  5   \n",
      "1  Major Depressive Disorder                        9                  5   \n",
      "2  Major Depressive Disorder                        6                  3   \n",
      "3  Major Depressive Disorder                        6                  3   \n",
      "4             Panic Disorder                        7                  6   \n",
      "\n",
      "   Sleep Quality (1-10)  Physical Activity (hrs/week)        Medication  \\\n",
      "0                     8                             5  Mood Stabilizers   \n",
      "1                     4                             7    Antipsychotics   \n",
      "2                     4                             3             SSRIs   \n",
      "3                     6                             5             SSRIs   \n",
      "4                     6                             8       Anxiolytics   \n",
      "\n",
      "                Therapy Type Treatment Start Date  Treatment Duration (weeks)  \\\n",
      "0      Interpersonal Therapy           2024-01-25                        11.0   \n",
      "1      Interpersonal Therapy           2024-02-27                        11.0   \n",
      "2  Mindfulness-Based Therapy           2024-03-20                        14.0   \n",
      "3  Mindfulness-Based Therapy           2024-03-29                         8.0   \n",
      "4      Interpersonal Therapy           2024-03-18                        12.0   \n",
      "\n",
      "   Stress Level (1-10)       Outcome  Treatment Progress (1-10)  \\\n",
      "0                    9  Deteriorated                          7   \n",
      "1                    7     No Change                          7   \n",
      "2                    7  Deteriorated                          5   \n",
      "3                    8  Deteriorated                         10   \n",
      "4                    5  Deteriorated                          6   \n",
      "\n",
      "  AI-Detected Emotional State  Adherence to Treatment (%)  \n",
      "0                     Anxious                          66  \n",
      "1                     Neutral                          78  \n",
      "2                       Happy                          62  \n",
      "3                     Excited                          72  \n",
      "4                     Excited                          63  \n"
     ]
    }
   ],
   "source": [
    "# Insertar una nueva columna 'Nueva Columna' en la posición 2\n",
    "df_csv.insert(2, 'Nueva Columna', 'Valor por defecto')\n",
    "print(df_csv.head())"
   ]
  },
  {
   "cell_type": "markdown",
   "metadata": {},
   "source": [
    "44. Agregar una nueva fila a una DataFrame con el método append.\n"
   ]
  },
  {
   "cell_type": "code",
   "execution_count": null,
   "metadata": {},
   "outputs": [],
   "source": []
  },
  {
   "cell_type": "markdown",
   "metadata": {},
   "source": []
  }
 ],
 "metadata": {
  "kernelspec": {
   "display_name": "base",
   "language": "python",
   "name": "python3"
  },
  "language_info": {
   "codemirror_mode": {
    "name": "ipython",
    "version": 3
   },
   "file_extension": ".py",
   "mimetype": "text/x-python",
   "name": "python",
   "nbconvert_exporter": "python",
   "pygments_lexer": "ipython3",
   "version": "3.12.4"
  }
 },
 "nbformat": 4,
 "nbformat_minor": 2
}
