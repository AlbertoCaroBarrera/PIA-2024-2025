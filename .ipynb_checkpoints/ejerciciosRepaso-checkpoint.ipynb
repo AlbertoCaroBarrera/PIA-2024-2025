{
 "cells": [
  {
   "cell_type": "markdown",
   "id": "af56173b-8a9f-48be-80de-d47e9f414fbb",
   "metadata": {},
   "source": [
    "1. Escribe un programa que pida un número al usuario e imprima si es par o impar.\n",
    "\n",
    "2. Escribe un programa que reciba tres números como entrada y determine cuál de ellos es el mayor.\n",
    "\n",
    "3. Escribe un programa que calcule la suma de los números del 1 al 100 utilizando un bucle for.\n",
    "\n",
    "4. Escribe un programa que cuente cuántas vocales hay en una cadena dada por el usuario.\n",
    "\n",
    "5. Escribe un programa que imprima la tabla de multiplicar de un número dado por el usuario.\n",
    "\n",
    "6. Escribe un programa que reciba un número y cuente cuántos divisores tiene, es decir, cuántos números del 1 al número ingresado son divisores exactos.\n",
    "\n",
    "7. Escribe un programa que imprima todos los números primos entre 1 y 100.\n",
    "\n",
    "8. Escribe un programa que sume todos los números impares entre un rango de dos números dados por el usuario.\n",
    "\n",
    "9. Un número perfecto es aquel que es igual a la suma de sus divisores propios. Escribe un programa que verifique si un número dado es perfecto.\n",
    "\n",
    "10. Escribe un programa que imprima los primeros n términos de la secuencia de Fibonacci, donde n es ingresado por el usuario.\n",
    "\n",
    "11. Escribe un programa que elija un número aleatorio entre 1 y 100. Luego, el usuario intentará adivinar el número y el programa debe responder si el número es mayor o menor que el intento del usuario. El programa termina cuando el usuario adivina correctamente.\n"
   ]
  },
  {
   "cell_type": "code",
   "execution_count": 7,
   "id": "3694ccc3-2360-40ec-8455-21d4612352f6",
   "metadata": {},
   "outputs": [
    {
     "name": "stdin",
     "output_type": "stream",
     "text": [
      "Introduce un valor 2\n"
     ]
    },
    {
     "name": "stdout",
     "output_type": "stream",
     "text": [
      "Es par\n"
     ]
    }
   ],
   "source": [
    "numero = eval(input(\"Introduce un valor\"))\n",
    "if (numero%2==0):\n",
    "    print(\"Es par\")\n",
    "else:\n",
    "    print(\"No es par\")\n"
   ]
  },
  {
   "cell_type": "code",
   "execution_count": 13,
   "id": "bc0667b0-96f6-46c0-addf-bdcdc86a9a6f",
   "metadata": {},
   "outputs": [
    {
     "name": "stdin",
     "output_type": "stream",
     "text": [
      "Introduce 3 valores 9,2,1\n"
     ]
    },
    {
     "name": "stdout",
     "output_type": "stream",
     "text": [
      "9\n"
     ]
    }
   ],
   "source": [
    "n1,n2,n3 = eval(input(\"Introduce 3 valores\"))\n",
    "print(max([n1,n2,n3]))"
   ]
  },
  {
   "cell_type": "code",
   "execution_count": 15,
   "id": "3cadbde1-a990-4ab9-910b-bdd61a825a43",
   "metadata": {},
   "outputs": [
    {
     "name": "stdout",
     "output_type": "stream",
     "text": [
      "5050\n"
     ]
    }
   ],
   "source": [
    "lista = []\n",
    "for i in range(1,101):\n",
    "    lista.append(i)\n",
    "print(sum(lista))"
   ]
  },
  {
   "cell_type": "code",
   "execution_count": 35,
   "id": "eb26edd9-8c9e-4bed-97a8-c8b574640266",
   "metadata": {},
   "outputs": [
    {
     "name": "stdin",
     "output_type": "stream",
     "text": [
      "Introduce una cadena hola que tal\n"
     ]
    },
    {
     "name": "stdout",
     "output_type": "stream",
     "text": [
      "5\n"
     ]
    }
   ],
   "source": [
    "valor = 0\n",
    "cadena = str(input(\"Introduce una cadena\"))\n",
    "vocales = [\"a\",\"e\",\"i\",\"o\",\"u\",\"A\",\"E\",\"I\",\"O\",\"U\"]\n",
    "for i in cadena:\n",
    "    if i in vocales:\n",
    "        valor += 1\n",
    "print(valor)"
   ]
  },
  {
   "cell_type": "code",
   "execution_count": 41,
   "id": "fc946bb1-88ca-4b24-ac87-3977bd94efa7",
   "metadata": {},
   "outputs": [
    {
     "name": "stdin",
     "output_type": "stream",
     "text": [
      "Introduce un entero 7\n"
     ]
    },
    {
     "name": "stdout",
     "output_type": "stream",
     "text": [
      "(0x7) = 0\n",
      "(1x7) = 7\n",
      "(2x7) = 14\n",
      "(3x7) = 21\n",
      "(4x7) = 28\n",
      "(5x7) = 35\n",
      "(6x7) = 42\n",
      "(7x7) = 49\n",
      "(8x7) = 56\n",
      "(9x7) = 63\n"
     ]
    }
   ],
   "source": [
    "lista = list(range(10))\n",
    "numero = int(input(\"Introduce un entero\"))\n",
    "for i in lista:\n",
    "    print(f\"({i}x{numero}) = {i*numero}\")"
   ]
  },
  {
   "cell_type": "code",
   "execution_count": 45,
   "id": "b2d9df83-06b2-44b2-895b-fec03f2fdc38",
   "metadata": {},
   "outputs": [
    {
     "name": "stdin",
     "output_type": "stream",
     "text": [
      "Introduce un entero 4\n"
     ]
    },
    {
     "name": "stdout",
     "output_type": "stream",
     "text": [
      "1\n",
      "2\n",
      "4\n"
     ]
    }
   ],
   "source": [
    "numero = int(input(\"Introduce un entero\"))\n",
    "for i in range(1,numero+1):\n",
    "    if (numero%i==0):\n",
    "        print(i)"
   ]
  },
  {
   "cell_type": "code",
   "execution_count": null,
   "id": "13a81961-450b-430a-94a8-257eaf57e16f",
   "metadata": {},
   "outputs": [],
   "source": []
  }
 ],
 "metadata": {
  "kernelspec": {
   "display_name": "Python 3 (ipykernel)",
   "language": "python",
   "name": "python3"
  },
  "language_info": {
   "codemirror_mode": {
    "name": "ipython",
    "version": 3
   },
   "file_extension": ".py",
   "mimetype": "text/x-python",
   "name": "python",
   "nbconvert_exporter": "python",
   "pygments_lexer": "ipython3",
   "version": "3.12.4"
  }
 },
 "nbformat": 4,
 "nbformat_minor": 5
}
