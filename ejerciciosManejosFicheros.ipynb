{
 "cells": [
  {
   "cell_type": "markdown",
   "metadata": {},
   "source": [
    "Ejercicios de manejo de ficheros\n",
    "\n",
    "1. Escribe un programa que solicite al usuario una cadena de texto y la escriba en un fichero llamado salida.txt.\n",
    "\n",
    "2. Escribe un programa que abra el fichero salida.txt (creado en el ejercicio anterior), lea su contenido y lo muestre en pantalla.\n",
    "\n",
    "3. Modifica el programa de escritura para que, en lugar de sobrescribir el contenido de salida.txt, añada un nuevo texto al final del archivo sin borrar lo que ya existe.\n",
    "\n",
    "4. Escribe un programa que lea el contenido de salida.txt y cuente cuántas palabras hay en el fichero."
   ]
  },
  {
   "cell_type": "code",
   "execution_count": 17,
   "metadata": {},
   "outputs": [],
   "source": [
    "texto_usuario = input(\"Introduce una cadena de texto: \")\n",
    "\n",
    "with open(\"salida.txt\", \"w\") as fichero:\n",
    "    fichero.write(texto_usuario)"
   ]
  },
  {
   "cell_type": "code",
   "execution_count": 30,
   "metadata": {},
   "outputs": [
    {
     "name": "stdout",
     "output_type": "stream",
     "text": [
      "Hola   mundo\n"
     ]
    }
   ],
   "source": [
    "with open(\"salida.txt\", \"r\") as fichero:\n",
    "    contenido = fichero.read()\n",
    "    print(contenido)"
   ]
  },
  {
   "cell_type": "code",
   "execution_count": 10,
   "metadata": {},
   "outputs": [],
   "source": [
    "texto_usuario = input(\"Introduce una cadena de texto: \")\n",
    "\n",
    "with open(\"salida.txt\", \"a\") as fichero:\n",
    "    fichero.write(texto_usuario + \"\\n\")"
   ]
  },
  {
   "cell_type": "code",
   "execution_count": 19,
   "metadata": {},
   "outputs": [
    {
     "name": "stdout",
     "output_type": "stream",
     "text": [
      "['Hola', 'mundo']\n",
      "El número de palabras en el fichero es: 2\n"
     ]
    }
   ],
   "source": [
    "with open(\"salida.txt\", \"r\") as fichero:\n",
    "    contenido = fichero.read()\n",
    "    num_palabras = len(contenido.split())\n",
    "    print(contenido.split())\n",
    "    print(f\"El número de palabras en el fichero es: {num_palabras}\")"
   ]
  },
  {
   "cell_type": "code",
   "execution_count": 14,
   "metadata": {},
   "outputs": [
    {
     "data": {
      "text/plain": [
       "4"
      ]
     },
     "execution_count": 14,
     "metadata": {},
     "output_type": "execute_result"
    }
   ],
   "source": [
    "len([\"hola\", \"que\", \"tal\",\"\"])"
   ]
  },
  {
   "cell_type": "code",
   "execution_count": 22,
   "metadata": {},
   "outputs": [
    {
     "data": {
      "text/plain": [
       "['hola', 'mundo']"
      ]
     },
     "execution_count": 22,
     "metadata": {},
     "output_type": "execute_result"
    }
   ],
   "source": [
    "\"hola   mundo\".split()"
   ]
  }
 ],
 "metadata": {
  "kernelspec": {
   "display_name": "base",
   "language": "python",
   "name": "python3"
  },
  "language_info": {
   "codemirror_mode": {
    "name": "ipython",
    "version": 3
   },
   "file_extension": ".py",
   "mimetype": "text/x-python",
   "name": "python",
   "nbconvert_exporter": "python",
   "pygments_lexer": "ipython3",
   "version": "3.12.4"
  }
 },
 "nbformat": 4,
 "nbformat_minor": 2
}
