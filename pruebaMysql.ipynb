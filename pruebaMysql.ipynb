{
 "cells": [
  {
   "cell_type": "code",
   "execution_count": 9,
   "id": "7cff6306-9906-417b-b191-21deec793208",
   "metadata": {},
   "outputs": [
    {
     "name": "stdout",
     "output_type": "stream",
     "text": [
      "Requirement already satisfied: mysql-connector-python in /home/alumnadotarde/anaconda3/lib/python3.12/site-packages (9.1.0)\n"
     ]
    }
   ],
   "source": [
    "!pip install mysql-connector-python"
   ]
  },
  {
   "cell_type": "code",
   "execution_count": 39,
   "id": "35819d28-fb4a-48b9-9e49-cc549ed114ef",
   "metadata": {},
   "outputs": [
    {
     "name": "stdout",
     "output_type": "stream",
     "text": [
      "(1, 'Juan Prez', 30)\n",
      "(2, 'Ana Gmez', 25)\n",
      "(3, 'Luis Martnez', 40)\n",
      "(4, 'Pedro', 25)\n"
     ]
    }
   ],
   "source": [
    "import mysql.connector\n",
    "\n",
    "# Conectar a la base de datos\n",
    "mydb = mysql.connector.connect(\n",
    "    host=\"localhost\",\n",
    "    port=3306,\n",
    "    user=\"root\",\n",
    "    password=\"1234\",\n",
    "    database=\"personas\"\n",
    ")\n",
    "\n",
    "# Crear un cursor\n",
    "mycursor = mydb.cursor()\n",
    "\n",
    "# Ejecutar la consulta\n",
    "mycursor.execute(\"SELECT * FROM personas\")\n",
    "\n",
    "# Obtener todos los resultados\n",
    "myresult = mycursor.fetchall()\n",
    "\n",
    "# Imprimir los resultados\n",
    "for x in myresult:\n",
    "    print(x)\n",
    "\n",
    "# Cerrar el cursor y la conexión\n",
    "mycursor.close()\n",
    "mydb.close()\n"
   ]
  },
  {
   "cell_type": "code",
   "execution_count": 37,
   "id": "736312c5-5026-466a-ae57-330b965c4a07",
   "metadata": {},
   "outputs": [
    {
     "name": "stdout",
     "output_type": "stream",
     "text": [
      "1 registro insertado.\n"
     ]
    }
   ],
   "source": [
    "import mysql.connector\n",
    "\n",
    "# Conectar a la base de datos\n",
    "mydb = mysql.connector.connect(\n",
    "    host=\"localhost\",\n",
    "    port=3306,\n",
    "    user=\"root\",\n",
    "    password=\"1234\",\n",
    "    database=\"personas\"\n",
    ")\n",
    "\n",
    "# Crear un cursor\n",
    "mycursor = mydb.cursor()\n",
    "\n",
    "# Definir la consulta de inserción\n",
    "sql = \"INSERT INTO personas (nombre, edad) VALUES (%s, %s)\"\n",
    "valores = (\"Pedro\", 25)  # Reemplaza con los valores que deseas insertar\n",
    "\n",
    "# Ejecutar la consulta\n",
    "mycursor.execute(sql, valores)\n",
    "\n",
    "# Confirmar los cambios en la base de datos\n",
    "mydb.commit()\n",
    "\n",
    "print(mycursor.rowcount, \"registro insertado.\")\n",
    "\n",
    "# Cerrar el cursor y la conexión\n",
    "mycursor.close()\n",
    "mydb.close()\n"
   ]
  },
  {
   "cell_type": "code",
   "execution_count": null,
   "id": "92bb2bad-5d0a-4de3-aaff-5ddbdcd7f93b",
   "metadata": {},
   "outputs": [],
   "source": []
  }
 ],
 "metadata": {
  "kernelspec": {
   "display_name": "Python 3 (ipykernel)",
   "language": "python",
   "name": "python3"
  },
  "language_info": {
   "codemirror_mode": {
    "name": "ipython",
    "version": 3
   },
   "file_extension": ".py",
   "mimetype": "text/x-python",
   "name": "python",
   "nbconvert_exporter": "python",
   "pygments_lexer": "ipython3",
   "version": "3.12.4"
  }
 },
 "nbformat": 4,
 "nbformat_minor": 5
}
